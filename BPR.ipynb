{
 "cells": [
  {
   "cell_type": "code",
   "execution_count": 2,
   "metadata": {},
   "outputs": [],
   "source": [
    "import pandas as pd\n",
    "user_target = pd.read_csv(\"target_users.tsv\")\n",
    "item = pd.read_csv(\"item_history.tsv\",sep=\"\\t\")\n"
   ]
  },
  {
   "cell_type": "code",
   "execution_count": 3,
   "metadata": {},
   "outputs": [
    {
     "data": {
      "text/plain": [
       "(6319946, 4)"
      ]
     },
     "execution_count": 3,
     "metadata": {},
     "output_type": "execute_result"
    }
   ],
   "source": [
    "item.shape"
   ]
  },
  {
   "cell_type": "code",
   "execution_count": 4,
   "metadata": {},
   "outputs": [
    {
     "data": {
      "text/plain": [
       "(2456196, 4)"
      ]
     },
     "execution_count": 4,
     "metadata": {},
     "output_type": "execute_result"
    }
   ],
   "source": [
    "item[item.user_id.isin(user_target.user_id)].shape"
   ]
  },
  {
   "cell_type": "code",
   "execution_count": 5,
   "metadata": {},
   "outputs": [
    {
     "data": {
      "text/plain": [
       "690442"
      ]
     },
     "execution_count": 5,
     "metadata": {},
     "output_type": "execute_result"
    }
   ],
   "source": [
    "item[~item.user_id.isin(user_target.user_id)].user_id.nunique()"
   ]
  },
  {
   "cell_type": "code",
   "execution_count": 6,
   "metadata": {},
   "outputs": [],
   "source": [
    "item_ids = item.item_id.unique()\n",
    "user_ids = item.user_id.unique()\n",
    "item2idx = {item:idx for idx,item in enumerate(item_ids)}\n",
    "idx2item = {idx:item for item,idx in item2idx.items()}\n",
    "user2idx = {user:idx for idx,user in enumerate(user_ids)}\n",
    "idx2user = {idx:user for idx,user in enumerate(user_ids)}"
   ]
  },
  {
   "cell_type": "code",
   "execution_count": 7,
   "metadata": {},
   "outputs": [
    {
     "data": {
      "text/plain": [
       "('I99999', 328823, 913707, 328823)"
      ]
     },
     "execution_count": 7,
     "metadata": {},
     "output_type": "execute_result"
    }
   ],
   "source": [
    "item.item_id.max(),len(item.item_id.unique()),len(user2idx),len(item2idx)"
   ]
  },
  {
   "cell_type": "code",
   "execution_count": 8,
   "metadata": {},
   "outputs": [
    {
     "data": {
      "text/plain": [
       "(355712, 328823)"
      ]
     },
     "execution_count": 8,
     "metadata": {},
     "output_type": "execute_result"
    }
   ],
   "source": [
    "max([int(x[1:]) for x in item.item_id.values]), len(item2idx)"
   ]
  },
  {
   "cell_type": "code",
   "execution_count": null,
   "metadata": {},
   "outputs": [],
   "source": [
    "# too much memory\n",
    "# import numpy as np\n",
    "# np.zeros([len(user2idx),len(item2idx)])"
   ]
  },
  {
   "attachments": {},
   "cell_type": "markdown",
   "metadata": {},
   "source": [
    "### user feature"
   ]
  },
  {
   "cell_type": "code",
   "execution_count": 9,
   "metadata": {},
   "outputs": [],
   "source": [
    "user_master = pd.read_csv(\"user_master.tsv\",sep=\"\\t\")"
   ]
  },
  {
   "cell_type": "code",
   "execution_count": 10,
   "metadata": {},
   "outputs": [
    {
     "data": {
      "text/plain": [
       "((1640956, 16), 1640956, 1640956)"
      ]
     },
     "execution_count": 10,
     "metadata": {},
     "output_type": "execute_result"
    }
   ],
   "source": [
    "user_master.shape,user_master.user_id.max(),user_master.user_id.nunique()"
   ]
  },
  {
   "cell_type": "code",
   "execution_count": 11,
   "metadata": {},
   "outputs": [
    {
     "data": {
      "text/plain": [
       "(940785, 16)"
      ]
     },
     "execution_count": 11,
     "metadata": {},
     "output_type": "execute_result"
    }
   ],
   "source": [
    "user_feature = user_master[user_master.user_id.isin(set(user_ids).union(set(user_target.user_id)))]\n",
    "user_feature = user_feature.reset_index(drop=True)\n",
    "user_feature.shape"
   ]
  },
  {
   "cell_type": "code",
   "execution_count": 12,
   "metadata": {},
   "outputs": [
    {
     "data": {
      "text/plain": [
       "(940785, 16)"
      ]
     },
     "execution_count": 12,
     "metadata": {},
     "output_type": "execute_result"
    }
   ],
   "source": [
    "# user_feature = user_feature[[\"user_id\"]]\n",
    "user_feature.shape"
   ]
  },
  {
   "cell_type": "code",
   "execution_count": 13,
   "metadata": {},
   "outputs": [],
   "source": [
    "user_feature = pd.concat([user_feature,pd.get_dummies(user_feature[\"feature1\"])],axis=1)\n",
    "user_feature = pd.concat([user_feature,pd.get_dummies(user_feature[\"feature2\"])],axis=1)\n",
    "user_feature = pd.concat([user_feature,pd.get_dummies(user_feature[\"feature3\"])],axis=1)\n",
    "user_feature = pd.concat([user_feature,pd.get_dummies(user_feature[\"feature4\"])],axis=1)\n",
    "user_feature = pd.concat([user_feature,pd.get_dummies(user_feature[\"feature5\"])],axis=1)\n",
    "user_feature = pd.concat([user_feature,pd.get_dummies(user_feature[\"feature6\"])],axis=1)"
   ]
  },
  {
   "cell_type": "code",
   "execution_count": 14,
   "metadata": {},
   "outputs": [
    {
     "data": {
      "text/plain": [
       "Index(['user_id', 'feature1', 'feature2', 'feature3', 'feature4', 'feature5',\n",
       "       'feature6', 'feature_list1', 'feature_list2',\n",
       "       'feature_list2_frequencies',\n",
       "       ...\n",
       "       'F1', 'F10', 'F2', 'F3', 'F4', 'F5', 'F6', 'F7', 'F8', 'F9'],\n",
       "      dtype='object', length=102)"
      ]
     },
     "execution_count": 14,
     "metadata": {},
     "output_type": "execute_result"
    }
   ],
   "source": [
    "user_feature.columns"
   ]
  },
  {
   "cell_type": "code",
   "execution_count": 15,
   "metadata": {},
   "outputs": [
    {
     "data": {
      "text/plain": [
       "(691693, 249091, 1)"
      ]
     },
     "execution_count": 15,
     "metadata": {},
     "output_type": "execute_result"
    }
   ],
   "source": [
    "user_feature[\"A1\"].sum(),user_feature[\"A2\"].sum(),user_feature[\"A3\"].sum()"
   ]
  },
  {
   "cell_type": "code",
   "execution_count": 16,
   "metadata": {},
   "outputs": [
    {
     "ename": "KeyboardInterrupt",
     "evalue": "",
     "output_type": "error",
     "traceback": [
      "\u001b[1;31m---------------------------------------------------------------------------\u001b[0m",
      "\u001b[1;31mKeyboardInterrupt\u001b[0m                         Traceback (most recent call last)",
      "Cell \u001b[1;32mIn [16], line 1\u001b[0m\n\u001b[1;32m----> 1\u001b[0m \u001b[39mfrom\u001b[39;00m \u001b[39msklearn\u001b[39;00m\u001b[39m.\u001b[39;00m\u001b[39mpreprocessing\u001b[39;00m \u001b[39mimport\u001b[39;00m MultiLabelBinarizer\n\u001b[0;32m      2\u001b[0m \u001b[39mimport\u001b[39;00m \u001b[39mnumpy\u001b[39;00m \u001b[39mas\u001b[39;00m \u001b[39mnp\u001b[39;00m\n\u001b[0;32m      3\u001b[0m \u001b[39mdef\u001b[39;00m \u001b[39mmultihot_encode\u001b[39m(user_fea, target, topk \u001b[39m=\u001b[39m \u001b[39m9999\u001b[39m):\n",
      "File \u001b[1;32m~\\AppData\\Roaming\\Python\\Python310\\site-packages\\sklearn\\__init__.py:87\u001b[0m\n\u001b[0;32m     73\u001b[0m     \u001b[39m# We are not importing the rest of scikit-learn during the build\u001b[39;00m\n\u001b[0;32m     74\u001b[0m     \u001b[39m# process, as it may not be compiled yet\u001b[39;00m\n\u001b[0;32m     75\u001b[0m \u001b[39melse\u001b[39;00m:\n\u001b[1;32m   (...)\u001b[0m\n\u001b[0;32m     81\u001b[0m     \u001b[39m# later is linked to the OpenMP runtime to make it possible to introspect\u001b[39;00m\n\u001b[0;32m     82\u001b[0m     \u001b[39m# it and importing it first would fail if the OpenMP dll cannot be found.\u001b[39;00m\n\u001b[0;32m     83\u001b[0m     \u001b[39mfrom\u001b[39;00m \u001b[39m.\u001b[39;00m \u001b[39mimport\u001b[39;00m (\n\u001b[0;32m     84\u001b[0m         __check_build,  \u001b[39m# noqa: F401\u001b[39;00m\n\u001b[0;32m     85\u001b[0m         _distributor_init,  \u001b[39m# noqa: F401\u001b[39;00m\n\u001b[0;32m     86\u001b[0m     )\n\u001b[1;32m---> 87\u001b[0m     \u001b[39mfrom\u001b[39;00m \u001b[39m.\u001b[39;00m\u001b[39mbase\u001b[39;00m \u001b[39mimport\u001b[39;00m clone\n\u001b[0;32m     88\u001b[0m     \u001b[39mfrom\u001b[39;00m \u001b[39m.\u001b[39;00m\u001b[39mutils\u001b[39;00m\u001b[39m.\u001b[39;00m\u001b[39m_show_versions\u001b[39;00m \u001b[39mimport\u001b[39;00m show_versions\n\u001b[0;32m     90\u001b[0m     __all__ \u001b[39m=\u001b[39m [\n\u001b[0;32m     91\u001b[0m         \u001b[39m\"\u001b[39m\u001b[39mcalibration\u001b[39m\u001b[39m\"\u001b[39m,\n\u001b[0;32m     92\u001b[0m         \u001b[39m\"\u001b[39m\u001b[39mcluster\u001b[39m\u001b[39m\"\u001b[39m,\n\u001b[1;32m   (...)\u001b[0m\n\u001b[0;32m    133\u001b[0m         \u001b[39m\"\u001b[39m\u001b[39mshow_versions\u001b[39m\u001b[39m\"\u001b[39m,\n\u001b[0;32m    134\u001b[0m     ]\n",
      "File \u001b[1;32m~\\AppData\\Roaming\\Python\\Python310\\site-packages\\sklearn\\base.py:19\u001b[0m\n\u001b[0;32m     17\u001b[0m \u001b[39mfrom\u001b[39;00m \u001b[39m.\u001b[39;00m\u001b[39m_config\u001b[39;00m \u001b[39mimport\u001b[39;00m config_context, get_config\n\u001b[0;32m     18\u001b[0m \u001b[39mfrom\u001b[39;00m \u001b[39m.\u001b[39;00m\u001b[39mexceptions\u001b[39;00m \u001b[39mimport\u001b[39;00m InconsistentVersionWarning\n\u001b[1;32m---> 19\u001b[0m \u001b[39mfrom\u001b[39;00m \u001b[39m.\u001b[39;00m\u001b[39mutils\u001b[39;00m \u001b[39mimport\u001b[39;00m _IS_32BIT\n\u001b[0;32m     20\u001b[0m \u001b[39mfrom\u001b[39;00m \u001b[39m.\u001b[39;00m\u001b[39mutils\u001b[39;00m\u001b[39m.\u001b[39;00m\u001b[39m_estimator_html_repr\u001b[39;00m \u001b[39mimport\u001b[39;00m _HTMLDocumentationLinkMixin, estimator_html_repr\n\u001b[0;32m     21\u001b[0m \u001b[39mfrom\u001b[39;00m \u001b[39m.\u001b[39;00m\u001b[39mutils\u001b[39;00m\u001b[39m.\u001b[39;00m\u001b[39m_metadata_requests\u001b[39;00m \u001b[39mimport\u001b[39;00m _MetadataRequester, _routing_enabled\n",
      "File \u001b[1;32m~\\AppData\\Roaming\\Python\\Python310\\site-packages\\sklearn\\utils\\__init__.py:22\u001b[0m\n\u001b[0;32m     20\u001b[0m \u001b[39mfrom\u001b[39;00m \u001b[39m.\u001b[39;00m \u001b[39mimport\u001b[39;00m _joblib, metadata_routing\n\u001b[0;32m     21\u001b[0m \u001b[39mfrom\u001b[39;00m \u001b[39m.\u001b[39;00m\u001b[39m_bunch\u001b[39;00m \u001b[39mimport\u001b[39;00m Bunch\n\u001b[1;32m---> 22\u001b[0m \u001b[39mfrom\u001b[39;00m \u001b[39m.\u001b[39;00m\u001b[39m_estimator_html_repr\u001b[39;00m \u001b[39mimport\u001b[39;00m estimator_html_repr\n\u001b[0;32m     23\u001b[0m \u001b[39mfrom\u001b[39;00m \u001b[39m.\u001b[39;00m\u001b[39m_param_validation\u001b[39;00m \u001b[39mimport\u001b[39;00m Integral, Interval, validate_params\n\u001b[0;32m     24\u001b[0m \u001b[39mfrom\u001b[39;00m \u001b[39m.\u001b[39;00m\u001b[39mclass_weight\u001b[39;00m \u001b[39mimport\u001b[39;00m compute_class_weight, compute_sample_weight\n",
      "File \u001b[1;32m~\\AppData\\Roaming\\Python\\Python310\\site-packages\\sklearn\\utils\\_estimator_html_repr.py:10\u001b[0m\n\u001b[0;32m      7\u001b[0m \u001b[39mfrom\u001b[39;00m \u001b[39mstring\u001b[39;00m \u001b[39mimport\u001b[39;00m Template\n\u001b[0;32m      9\u001b[0m \u001b[39mfrom\u001b[39;00m \u001b[39m.\u001b[39;00m\u001b[39m.\u001b[39;00m \u001b[39mimport\u001b[39;00m __version__, config_context\n\u001b[1;32m---> 10\u001b[0m \u001b[39mfrom\u001b[39;00m \u001b[39m.\u001b[39;00m\u001b[39mfixes\u001b[39;00m \u001b[39mimport\u001b[39;00m parse_version\n\u001b[0;32m     13\u001b[0m \u001b[39mclass\u001b[39;00m \u001b[39m_IDCounter\u001b[39;00m:\n\u001b[0;32m     14\u001b[0m     \u001b[39m\"\"\"Generate sequential ids with a prefix.\"\"\"\u001b[39;00m\n",
      "File \u001b[1;32m~\\AppData\\Roaming\\Python\\Python310\\site-packages\\sklearn\\utils\\fixes.py:17\u001b[0m\n\u001b[0;32m     15\u001b[0m \u001b[39mimport\u001b[39;00m \u001b[39mscipy\u001b[39;00m\n\u001b[0;32m     16\u001b[0m \u001b[39mimport\u001b[39;00m \u001b[39mscipy\u001b[39;00m\u001b[39m.\u001b[39;00m\u001b[39msparse\u001b[39;00m\u001b[39m.\u001b[39;00m\u001b[39mlinalg\u001b[39;00m\n\u001b[1;32m---> 17\u001b[0m \u001b[39mimport\u001b[39;00m \u001b[39mscipy\u001b[39;00m\u001b[39m.\u001b[39;00m\u001b[39mstats\u001b[39;00m\n\u001b[0;32m     18\u001b[0m \u001b[39mimport\u001b[39;00m \u001b[39mthreadpoolctl\u001b[39;00m\n\u001b[0;32m     20\u001b[0m \u001b[39mimport\u001b[39;00m \u001b[39msklearn\u001b[39;00m\n",
      "File \u001b[1;32mh:\\Anaconda\\envs\\tt\\lib\\site-packages\\scipy\\stats\\__init__.py:485\u001b[0m\n\u001b[0;32m      1\u001b[0m \u001b[39m\"\"\"\u001b[39;00m\n\u001b[0;32m      2\u001b[0m \u001b[39m.. _statsrefmanual:\u001b[39;00m\n\u001b[0;32m      3\u001b[0m \n\u001b[1;32m   (...)\u001b[0m\n\u001b[0;32m    480\u001b[0m \n\u001b[0;32m    481\u001b[0m \u001b[39m\"\"\"\u001b[39;00m\n\u001b[0;32m    483\u001b[0m \u001b[39mfrom\u001b[39;00m \u001b[39m.\u001b[39;00m\u001b[39m_warnings_errors\u001b[39;00m \u001b[39mimport\u001b[39;00m (ConstantInputWarning, NearConstantInputWarning,\n\u001b[0;32m    484\u001b[0m                                DegenerateDataWarning, FitError)\n\u001b[1;32m--> 485\u001b[0m \u001b[39mfrom\u001b[39;00m \u001b[39m.\u001b[39;00m\u001b[39m_stats_py\u001b[39;00m \u001b[39mimport\u001b[39;00m \u001b[39m*\u001b[39m\n\u001b[0;32m    486\u001b[0m \u001b[39mfrom\u001b[39;00m \u001b[39m.\u001b[39;00m\u001b[39m_variation\u001b[39;00m \u001b[39mimport\u001b[39;00m variation\n\u001b[0;32m    487\u001b[0m \u001b[39mfrom\u001b[39;00m \u001b[39m.\u001b[39;00m\u001b[39mdistributions\u001b[39;00m \u001b[39mimport\u001b[39;00m \u001b[39m*\u001b[39m\n",
      "File \u001b[1;32mh:\\Anaconda\\envs\\tt\\lib\\site-packages\\scipy\\stats\\_stats_py.py:46\u001b[0m\n\u001b[0;32m     44\u001b[0m \u001b[39mimport\u001b[39;00m \u001b[39mscipy\u001b[39;00m\u001b[39m.\u001b[39;00m\u001b[39mspecial\u001b[39;00m \u001b[39mas\u001b[39;00m \u001b[39mspecial\u001b[39;00m\n\u001b[0;32m     45\u001b[0m \u001b[39mfrom\u001b[39;00m \u001b[39mscipy\u001b[39;00m \u001b[39mimport\u001b[39;00m linalg\n\u001b[1;32m---> 46\u001b[0m \u001b[39mfrom\u001b[39;00m \u001b[39m.\u001b[39;00m \u001b[39mimport\u001b[39;00m distributions\n\u001b[0;32m     47\u001b[0m \u001b[39mfrom\u001b[39;00m \u001b[39m.\u001b[39;00m \u001b[39mimport\u001b[39;00m _mstats_basic \u001b[39mas\u001b[39;00m mstats_basic\n\u001b[0;32m     48\u001b[0m \u001b[39mfrom\u001b[39;00m \u001b[39m.\u001b[39;00m\u001b[39m_stats_mstats_common\u001b[39;00m \u001b[39mimport\u001b[39;00m (_find_repeats, linregress, theilslopes,\n\u001b[0;32m     49\u001b[0m                                    siegelslopes)\n",
      "File \u001b[1;32mh:\\Anaconda\\envs\\tt\\lib\\site-packages\\scipy\\stats\\distributions.py:8\u001b[0m\n\u001b[0;32m      1\u001b[0m \u001b[39m#\u001b[39;00m\n\u001b[0;32m      2\u001b[0m \u001b[39m# Author:  Travis Oliphant  2002-2011 with contributions from\u001b[39;00m\n\u001b[0;32m      3\u001b[0m \u001b[39m#          SciPy Developers 2004-2011\u001b[39;00m\n\u001b[1;32m   (...)\u001b[0m\n\u001b[0;32m      6\u001b[0m \u001b[39m#       instead of `git blame -Lxxx,+x`.\u001b[39;00m\n\u001b[0;32m      7\u001b[0m \u001b[39m#\u001b[39;00m\n\u001b[1;32m----> 8\u001b[0m \u001b[39mfrom\u001b[39;00m \u001b[39m.\u001b[39;00m\u001b[39m_distn_infrastructure\u001b[39;00m \u001b[39mimport\u001b[39;00m (rv_discrete, rv_continuous, rv_frozen)\n\u001b[0;32m     10\u001b[0m \u001b[39mfrom\u001b[39;00m \u001b[39m.\u001b[39;00m \u001b[39mimport\u001b[39;00m _continuous_distns\n\u001b[0;32m     11\u001b[0m \u001b[39mfrom\u001b[39;00m \u001b[39m.\u001b[39;00m \u001b[39mimport\u001b[39;00m _discrete_distns\n",
      "File \u001b[1;32mh:\\Anaconda\\envs\\tt\\lib\\site-packages\\scipy\\stats\\_distn_infrastructure.py:22\u001b[0m\n\u001b[0;32m     18\u001b[0m \u001b[39mfrom\u001b[39;00m \u001b[39mscipy\u001b[39;00m\u001b[39m.\u001b[39;00m\u001b[39mspecial\u001b[39;00m \u001b[39mimport\u001b[39;00m comb, entr\n\u001b[0;32m     20\u001b[0m \u001b[39m# for root finding for continuous distribution ppf, and max likelihood\u001b[39;00m\n\u001b[0;32m     21\u001b[0m \u001b[39m# estimation\u001b[39;00m\n\u001b[1;32m---> 22\u001b[0m \u001b[39mfrom\u001b[39;00m \u001b[39mscipy\u001b[39;00m \u001b[39mimport\u001b[39;00m optimize\n\u001b[0;32m     24\u001b[0m \u001b[39m# for functions of continuous distributions (e.g. moments, entropy, cdf)\u001b[39;00m\n\u001b[0;32m     25\u001b[0m \u001b[39mfrom\u001b[39;00m \u001b[39mscipy\u001b[39;00m \u001b[39mimport\u001b[39;00m integrate\n",
      "File \u001b[1;32m<frozen importlib._bootstrap>:1075\u001b[0m, in \u001b[0;36m_handle_fromlist\u001b[1;34m(module, fromlist, import_, recursive)\u001b[0m\n",
      "File \u001b[1;32mh:\\Anaconda\\envs\\tt\\lib\\site-packages\\scipy\\__init__.py:200\u001b[0m, in \u001b[0;36m__getattr__\u001b[1;34m(name)\u001b[0m\n\u001b[0;32m    198\u001b[0m \u001b[39mdef\u001b[39;00m \u001b[39m__getattr__\u001b[39m(name):\n\u001b[0;32m    199\u001b[0m     \u001b[39mif\u001b[39;00m name \u001b[39min\u001b[39;00m submodules:\n\u001b[1;32m--> 200\u001b[0m         \u001b[39mreturn\u001b[39;00m _importlib\u001b[39m.\u001b[39;49mimport_module(\u001b[39mf\u001b[39;49m\u001b[39m'\u001b[39;49m\u001b[39mscipy.\u001b[39;49m\u001b[39m{\u001b[39;49;00mname\u001b[39m}\u001b[39;49;00m\u001b[39m'\u001b[39;49m)\n\u001b[0;32m    201\u001b[0m     \u001b[39melse\u001b[39;00m:\n\u001b[0;32m    202\u001b[0m         \u001b[39mtry\u001b[39;00m:\n",
      "File \u001b[1;32mh:\\Anaconda\\envs\\tt\\lib\\importlib\\__init__.py:126\u001b[0m, in \u001b[0;36mimport_module\u001b[1;34m(name, package)\u001b[0m\n\u001b[0;32m    124\u001b[0m             \u001b[39mbreak\u001b[39;00m\n\u001b[0;32m    125\u001b[0m         level \u001b[39m+\u001b[39m\u001b[39m=\u001b[39m \u001b[39m1\u001b[39m\n\u001b[1;32m--> 126\u001b[0m \u001b[39mreturn\u001b[39;00m _bootstrap\u001b[39m.\u001b[39;49m_gcd_import(name[level:], package, level)\n",
      "File \u001b[1;32mh:\\Anaconda\\envs\\tt\\lib\\site-packages\\scipy\\optimize\\__init__.py:428\u001b[0m\n\u001b[0;32m    426\u001b[0m \u001b[39mfrom\u001b[39;00m \u001b[39m.\u001b[39;00m\u001b[39m_dual_annealing\u001b[39;00m \u001b[39mimport\u001b[39;00m dual_annealing\n\u001b[0;32m    427\u001b[0m \u001b[39mfrom\u001b[39;00m \u001b[39m.\u001b[39;00m\u001b[39m_qap\u001b[39;00m \u001b[39mimport\u001b[39;00m quadratic_assignment\n\u001b[1;32m--> 428\u001b[0m \u001b[39mfrom\u001b[39;00m \u001b[39m.\u001b[39;00m\u001b[39m_direct_py\u001b[39;00m \u001b[39mimport\u001b[39;00m direct\n\u001b[0;32m    429\u001b[0m \u001b[39mfrom\u001b[39;00m \u001b[39m.\u001b[39;00m\u001b[39m_milp\u001b[39;00m \u001b[39mimport\u001b[39;00m milp\n\u001b[0;32m    431\u001b[0m \u001b[39m# Deprecated namespaces, to be removed in v2.0.0\u001b[39;00m\n",
      "File \u001b[1;32mh:\\Anaconda\\envs\\tt\\lib\\site-packages\\scipy\\optimize\\_direct_py.py:9\u001b[0m\n\u001b[0;32m      7\u001b[0m \u001b[39mfrom\u001b[39;00m \u001b[39mscipy\u001b[39;00m\u001b[39m.\u001b[39;00m\u001b[39moptimize\u001b[39;00m \u001b[39mimport\u001b[39;00m OptimizeResult\n\u001b[0;32m      8\u001b[0m \u001b[39mfrom\u001b[39;00m \u001b[39m.\u001b[39;00m\u001b[39m_constraints\u001b[39;00m \u001b[39mimport\u001b[39;00m old_bound_to_new, Bounds\n\u001b[1;32m----> 9\u001b[0m \u001b[39mfrom\u001b[39;00m \u001b[39m.\u001b[39;00m\u001b[39m_direct\u001b[39;00m \u001b[39mimport\u001b[39;00m direct \u001b[39mas\u001b[39;00m _direct  \u001b[39m# type: ignore\u001b[39;00m\n\u001b[0;32m     11\u001b[0m \u001b[39mif\u001b[39;00m TYPE_CHECKING:\n\u001b[0;32m     12\u001b[0m     \u001b[39mimport\u001b[39;00m \u001b[39mnumpy\u001b[39;00m\u001b[39m.\u001b[39;00m\u001b[39mtyping\u001b[39;00m \u001b[39mas\u001b[39;00m \u001b[39mnpt\u001b[39;00m\n",
      "\u001b[1;31mKeyboardInterrupt\u001b[0m: "
     ]
    }
   ],
   "source": [
    "from sklearn.preprocessing import MultiLabelBinarizer\n",
    "import numpy as np\n",
    "def multihot_encode(user_fea, target, topk = 9999):\n",
    "    feature_list = user_fea[target].apply(lambda x:str(x).split(',')).values\n",
    "    feature_list_multihot = MultiLabelBinarizer().fit_transform(feature_list)\n",
    "    common_feature_idx = np.argsort(feature_list_multihot.sum(axis=0))[-topk:]\n",
    "    common_feature_idx = common_feature_idx[::-1]\n",
    "    # print(feature_list_multihot.sum(axis=0)[common_feature_idx])\n",
    "    # feature_list_multihot = feature_list_multihot.astype(np.bool_)\n",
    "    extra_feature = pd.DataFrame(feature_list_multihot[:,common_feature_idx],dtype=bool)\n",
    "    extra_feature.columns=[target+\"_\"+str(ii) for ii in range(extra_feature.shape[1])]\n",
    "    # print(extra_feature.memory_usage())\n",
    "    return extra_feature"
   ]
  },
  {
   "cell_type": "code",
   "execution_count": null,
   "metadata": {},
   "outputs": [],
   "source": [
    "MultiLabelBinarizer().fit_transform(user_feature[\"feature_list2\"].apply(lambda x:str(x).split(',')).values).shape"
   ]
  },
  {
   "cell_type": "code",
   "execution_count": null,
   "metadata": {},
   "outputs": [],
   "source": [
    "parsed_list3 = user_feature[\"feature_list3\"].apply(lambda x:str(x).split(',')).values\n",
    "parsed_list2 = user_feature[\"feature_list2\"].apply(lambda x:str(x).split(',')).values\n",
    "parsed_list4 = user_feature[\"feature_list4\"].apply(lambda x:str(x).split(',')).values\n",
    "parsed_list5 = user_feature[\"feature_list5\"].apply(lambda x:str(x).split(',')).values"
   ]
  },
  {
   "cell_type": "code",
   "execution_count": null,
   "metadata": {},
   "outputs": [
    {
     "data": {
      "text/plain": [
       "66837"
      ]
     },
     "execution_count": 31,
     "metadata": {},
     "output_type": "execute_result"
    }
   ],
   "source": [
    "list_fea = [y for x in parsed_list2 for y in x]\n",
    "len(set(list_fea))"
   ]
  },
  {
   "cell_type": "code",
   "execution_count": null,
   "metadata": {},
   "outputs": [],
   "source": [
    "for i in [1,3,4]:\n",
    "    feature_list_multihot = multihot_encode(user_feature,f\"feature_list{i}\",10)\n",
    "    user_feature = pd.concat([user_feature,feature_list_multihot],axis=1)"
   ]
  },
  {
   "cell_type": "code",
   "execution_count": null,
   "metadata": {},
   "outputs": [],
   "source": [
    "# user_feature"
   ]
  },
  {
   "cell_type": "code",
   "execution_count": null,
   "metadata": {},
   "outputs": [
    {
     "data": {
      "text/plain": [
       "['user_id',\n",
       " 'feature1',\n",
       " 'feature2',\n",
       " 'feature3',\n",
       " 'feature4',\n",
       " 'feature5',\n",
       " 'feature6',\n",
       " 'feature_list1',\n",
       " 'feature_list2',\n",
       " 'feature_list2_frequencies',\n",
       " 'feature_list3',\n",
       " 'feature_list3_frequencies',\n",
       " 'feature_list4',\n",
       " 'feature_list4_frequencies',\n",
       " 'feature_list5',\n",
       " 'feature_list5_frequencies',\n",
       " 'A1',\n",
       " 'A2',\n",
       " 'A3',\n",
       " 'B1',\n",
       " 'B10',\n",
       " 'B11',\n",
       " 'B12',\n",
       " 'B13',\n",
       " 'B14',\n",
       " 'B15',\n",
       " 'B16',\n",
       " 'B17',\n",
       " 'B18',\n",
       " 'B19',\n",
       " 'B2',\n",
       " 'B20',\n",
       " 'B21',\n",
       " 'B22',\n",
       " 'B23',\n",
       " 'B24',\n",
       " 'B25',\n",
       " 'B26',\n",
       " 'B27',\n",
       " 'B28',\n",
       " 'B29',\n",
       " 'B3',\n",
       " 'B30',\n",
       " 'B31',\n",
       " 'B32',\n",
       " 'B33',\n",
       " 'B34',\n",
       " 'B35',\n",
       " 'B36',\n",
       " 'B37',\n",
       " 'B38',\n",
       " 'B39',\n",
       " 'B4',\n",
       " 'B40',\n",
       " 'B41',\n",
       " 'B42',\n",
       " 'B43',\n",
       " 'B44',\n",
       " 'B45',\n",
       " 'B46',\n",
       " 'B47',\n",
       " 'B48',\n",
       " 'B5',\n",
       " 'B6',\n",
       " 'B7',\n",
       " 'B8',\n",
       " 'B9',\n",
       " 'C1',\n",
       " 'C10',\n",
       " 'C11',\n",
       " 'C2',\n",
       " 'C3',\n",
       " 'C4',\n",
       " 'C5',\n",
       " 'C6',\n",
       " 'C7',\n",
       " 'C8',\n",
       " 'C9',\n",
       " 'D1',\n",
       " 'D2',\n",
       " 'E1',\n",
       " 'E10',\n",
       " 'E11',\n",
       " 'E12',\n",
       " 'E2',\n",
       " 'E3',\n",
       " 'E4',\n",
       " 'E5',\n",
       " 'E6',\n",
       " 'E7',\n",
       " 'E8',\n",
       " 'E9',\n",
       " 'F1',\n",
       " 'F10',\n",
       " 'F2',\n",
       " 'F3',\n",
       " 'F4',\n",
       " 'F5',\n",
       " 'F6',\n",
       " 'F7',\n",
       " 'F8',\n",
       " 'F9',\n",
       " 'feature_list1_0',\n",
       " 'feature_list1_1',\n",
       " 'feature_list1_2',\n",
       " 'feature_list1_3',\n",
       " 'feature_list1_4',\n",
       " 'feature_list1_5',\n",
       " 'feature_list1_6',\n",
       " 'feature_list1_7',\n",
       " 'feature_list1_8',\n",
       " 'feature_list1_9',\n",
       " 'feature_list1_0',\n",
       " 'feature_list1_1',\n",
       " 'feature_list1_2',\n",
       " 'feature_list1_3',\n",
       " 'feature_list1_4',\n",
       " 'feature_list1_5',\n",
       " 'feature_list1_6',\n",
       " 'feature_list1_7',\n",
       " 'feature_list1_8',\n",
       " 'feature_list1_9',\n",
       " 'feature_list3_0',\n",
       " 'feature_list3_1',\n",
       " 'feature_list3_2',\n",
       " 'feature_list3_3',\n",
       " 'feature_list3_4',\n",
       " 'feature_list3_5',\n",
       " 'feature_list3_6',\n",
       " 'feature_list3_7',\n",
       " 'feature_list3_8',\n",
       " 'feature_list3_9']"
      ]
     },
     "execution_count": 35,
     "metadata": {},
     "output_type": "execute_result"
    }
   ],
   "source": [
    "list(user_feature.columns)"
   ]
  },
  {
   "cell_type": "code",
   "execution_count": null,
   "metadata": {},
   "outputs": [],
   "source": [
    "import importlib\n",
    "import BPR_lib\n",
    "importlib.reload(BPR_lib)\n",
    "from BPR_lib import reduce_mem\n",
    "user_feature = reduce_mem(user_feature)"
   ]
  },
  {
   "attachments": {},
   "cell_type": "markdown",
   "metadata": {},
   "source": [
    "### hist / last"
   ]
  },
  {
   "cell_type": "code",
   "execution_count": 18,
   "metadata": {},
   "outputs": [],
   "source": [
    "item = item.sort_values(by=['user_id', 'latest_timestamp'])\n",
    "item_last = item.groupby(\"user_id\").tail(1)\n",
    "def hist_func(user_df):\n",
    "    if len(user_df) == 1:\n",
    "        return user_df\n",
    "    else:\n",
    "        return user_df[:-1]\n",
    "from tqdm import tqdm\n",
    "tqdm.pandas()\n",
    "\n",
    "# item_hist = item.groupby('user_id').progress_apply(hist_func).reset_index(drop=True)"
   ]
  },
  {
   "cell_type": "code",
   "execution_count": 19,
   "metadata": {},
   "outputs": [],
   "source": [
    "# item_hist.to_csv(\"item_hist.csv\",index=False)\n",
    "item_hist = pd.read_csv(\"item_hist.csv\",index_col=None)"
   ]
  },
  {
   "cell_type": "code",
   "execution_count": 12,
   "metadata": {},
   "outputs": [
    {
     "data": {
      "text/plain": [
       "((5525076, 4), (913707, 4), (6319946, 4))"
      ]
     },
     "execution_count": 12,
     "metadata": {},
     "output_type": "execute_result"
    }
   ],
   "source": [
    "item_hist.shape, item_last.shape, item.shape"
   ]
  },
  {
   "cell_type": "code",
   "execution_count": 13,
   "metadata": {},
   "outputs": [
    {
     "data": {
      "text/plain": [
       "((118837, 6), (118837, 6))"
      ]
     },
     "execution_count": 13,
     "metadata": {},
     "output_type": "execute_result"
    }
   ],
   "source": [
    "check = item_last.merge(item_hist,on=[\"user_id\", \"item_id\"])\n",
    "check.shape, check[check.latest_timestamp_x == check.latest_timestamp_y].shape"
   ]
  },
  {
   "cell_type": "code",
   "execution_count": 14,
   "metadata": {},
   "outputs": [
    {
     "data": {
      "text/html": [
       "<div>\n",
       "<style scoped>\n",
       "    .dataframe tbody tr th:only-of-type {\n",
       "        vertical-align: middle;\n",
       "    }\n",
       "\n",
       "    .dataframe tbody tr th {\n",
       "        vertical-align: top;\n",
       "    }\n",
       "\n",
       "    .dataframe thead th {\n",
       "        text-align: right;\n",
       "    }\n",
       "</style>\n",
       "<table border=\"1\" class=\"dataframe\">\n",
       "  <thead>\n",
       "    <tr style=\"text-align: right;\">\n",
       "      <th></th>\n",
       "      <th>user_id</th>\n",
       "      <th>item_id</th>\n",
       "      <th>latest_timestamp</th>\n",
       "      <th>frequency</th>\n",
       "    </tr>\n",
       "  </thead>\n",
       "  <tbody>\n",
       "    <tr>\n",
       "      <th>6005183</th>\n",
       "      <td>51</td>\n",
       "      <td>I145321</td>\n",
       "      <td>1584921600</td>\n",
       "      <td>2</td>\n",
       "    </tr>\n",
       "    <tr>\n",
       "      <th>6005184</th>\n",
       "      <td>51</td>\n",
       "      <td>I333846</td>\n",
       "      <td>1584921600</td>\n",
       "      <td>2</td>\n",
       "    </tr>\n",
       "    <tr>\n",
       "      <th>6005180</th>\n",
       "      <td>51</td>\n",
       "      <td>I72579</td>\n",
       "      <td>1584921600</td>\n",
       "      <td>2</td>\n",
       "    </tr>\n",
       "    <tr>\n",
       "      <th>6005181</th>\n",
       "      <td>51</td>\n",
       "      <td>I78233</td>\n",
       "      <td>1584921600</td>\n",
       "      <td>2</td>\n",
       "    </tr>\n",
       "    <tr>\n",
       "      <th>2273050</th>\n",
       "      <td>95</td>\n",
       "      <td>I202068</td>\n",
       "      <td>1582934400</td>\n",
       "      <td>2</td>\n",
       "    </tr>\n",
       "    <tr>\n",
       "      <th>...</th>\n",
       "      <td>...</td>\n",
       "      <td>...</td>\n",
       "      <td>...</td>\n",
       "      <td>...</td>\n",
       "    </tr>\n",
       "    <tr>\n",
       "      <th>1448553</th>\n",
       "      <td>1640857</td>\n",
       "      <td>I77077</td>\n",
       "      <td>1583452800</td>\n",
       "      <td>2</td>\n",
       "    </tr>\n",
       "    <tr>\n",
       "      <th>2811960</th>\n",
       "      <td>1640889</td>\n",
       "      <td>I232856</td>\n",
       "      <td>1587945600</td>\n",
       "      <td>2</td>\n",
       "    </tr>\n",
       "    <tr>\n",
       "      <th>2811967</th>\n",
       "      <td>1640889</td>\n",
       "      <td>I308948</td>\n",
       "      <td>1588032000</td>\n",
       "      <td>2</td>\n",
       "    </tr>\n",
       "    <tr>\n",
       "      <th>2241527</th>\n",
       "      <td>1640913</td>\n",
       "      <td>I104881</td>\n",
       "      <td>1585180800</td>\n",
       "      <td>2</td>\n",
       "    </tr>\n",
       "    <tr>\n",
       "      <th>2241523</th>\n",
       "      <td>1640913</td>\n",
       "      <td>I272016</td>\n",
       "      <td>1587859200</td>\n",
       "      <td>2</td>\n",
       "    </tr>\n",
       "  </tbody>\n",
       "</table>\n",
       "<p>116548 rows × 4 columns</p>\n",
       "</div>"
      ],
      "text/plain": [
       "         user_id  item_id  latest_timestamp  frequency\n",
       "6005183       51  I145321        1584921600          2\n",
       "6005184       51  I333846        1584921600          2\n",
       "6005180       51   I72579        1584921600          2\n",
       "6005181       51   I78233        1584921600          2\n",
       "2273050       95  I202068        1582934400          2\n",
       "...          ...      ...               ...        ...\n",
       "1448553  1640857   I77077        1583452800          2\n",
       "2811960  1640889  I232856        1587945600          2\n",
       "2811967  1640889  I308948        1588032000          2\n",
       "2241527  1640913  I104881        1585180800          2\n",
       "2241523  1640913  I272016        1587859200          2\n",
       "\n",
       "[116548 rows x 4 columns]"
      ]
     },
     "execution_count": 14,
     "metadata": {},
     "output_type": "execute_result"
    }
   ],
   "source": [
    "item[item.frequency!=1].sort_values([\"user_id\", \"item_id\"])"
   ]
  },
  {
   "cell_type": "code",
   "execution_count": 15,
   "metadata": {},
   "outputs": [
    {
     "data": {
      "text/plain": [
       "latest_timestamp    1584921600\n",
       "frequency                    2\n",
       "Name: I145321, dtype: int64"
      ]
     },
     "execution_count": 15,
     "metadata": {},
     "output_type": "execute_result"
    }
   ],
   "source": [
    "item.set_index([\"user_id\",\"item_id\"]).loc[51].loc[\"I145321\"]"
   ]
  },
  {
   "cell_type": "code",
   "execution_count": 16,
   "metadata": {},
   "outputs": [
    {
     "data": {
      "text/plain": [
       "(1585465311.0250878, 1584377814.3402915)"
      ]
     },
     "execution_count": 16,
     "metadata": {},
     "output_type": "execute_result"
    }
   ],
   "source": [
    "item_last.latest_timestamp.mean(), item_hist.latest_timestamp.mean()"
   ]
  },
  {
   "cell_type": "code",
   "execution_count": 17,
   "metadata": {},
   "outputs": [
    {
     "data": {
      "text/html": [
       "<div>\n",
       "<style scoped>\n",
       "    .dataframe tbody tr th:only-of-type {\n",
       "        vertical-align: middle;\n",
       "    }\n",
       "\n",
       "    .dataframe tbody tr th {\n",
       "        vertical-align: top;\n",
       "    }\n",
       "\n",
       "    .dataframe thead th {\n",
       "        text-align: right;\n",
       "    }\n",
       "</style>\n",
       "<table border=\"1\" class=\"dataframe\">\n",
       "  <thead>\n",
       "    <tr style=\"text-align: right;\">\n",
       "      <th></th>\n",
       "      <th>user_id</th>\n",
       "      <th>item_id</th>\n",
       "      <th>latest_timestamp</th>\n",
       "      <th>frequency</th>\n",
       "    </tr>\n",
       "  </thead>\n",
       "  <tbody>\n",
       "    <tr>\n",
       "      <th>0</th>\n",
       "      <td>2</td>\n",
       "      <td>I89717</td>\n",
       "      <td>1581897600</td>\n",
       "      <td>1</td>\n",
       "    </tr>\n",
       "    <tr>\n",
       "      <th>1</th>\n",
       "      <td>3</td>\n",
       "      <td>I311781</td>\n",
       "      <td>1585872000</td>\n",
       "      <td>1</td>\n",
       "    </tr>\n",
       "    <tr>\n",
       "      <th>2</th>\n",
       "      <td>3</td>\n",
       "      <td>I286302</td>\n",
       "      <td>1585872000</td>\n",
       "      <td>1</td>\n",
       "    </tr>\n",
       "    <tr>\n",
       "      <th>3</th>\n",
       "      <td>3</td>\n",
       "      <td>I304391</td>\n",
       "      <td>1585872000</td>\n",
       "      <td>1</td>\n",
       "    </tr>\n",
       "    <tr>\n",
       "      <th>4</th>\n",
       "      <td>3</td>\n",
       "      <td>I354326</td>\n",
       "      <td>1585872000</td>\n",
       "      <td>1</td>\n",
       "    </tr>\n",
       "    <tr>\n",
       "      <th>...</th>\n",
       "      <td>...</td>\n",
       "      <td>...</td>\n",
       "      <td>...</td>\n",
       "      <td>...</td>\n",
       "    </tr>\n",
       "    <tr>\n",
       "      <th>5525071</th>\n",
       "      <td>1640954</td>\n",
       "      <td>I225457</td>\n",
       "      <td>1583539200</td>\n",
       "      <td>1</td>\n",
       "    </tr>\n",
       "    <tr>\n",
       "      <th>5525072</th>\n",
       "      <td>1640954</td>\n",
       "      <td>I225458</td>\n",
       "      <td>1583539200</td>\n",
       "      <td>1</td>\n",
       "    </tr>\n",
       "    <tr>\n",
       "      <th>5525073</th>\n",
       "      <td>1640954</td>\n",
       "      <td>I222174</td>\n",
       "      <td>1583539200</td>\n",
       "      <td>1</td>\n",
       "    </tr>\n",
       "    <tr>\n",
       "      <th>5525074</th>\n",
       "      <td>1640955</td>\n",
       "      <td>I134557</td>\n",
       "      <td>1585440000</td>\n",
       "      <td>1</td>\n",
       "    </tr>\n",
       "    <tr>\n",
       "      <th>5525075</th>\n",
       "      <td>1640955</td>\n",
       "      <td>I77097</td>\n",
       "      <td>1585440000</td>\n",
       "      <td>1</td>\n",
       "    </tr>\n",
       "  </tbody>\n",
       "</table>\n",
       "<p>5525076 rows × 4 columns</p>\n",
       "</div>"
      ],
      "text/plain": [
       "         user_id  item_id  latest_timestamp  frequency\n",
       "0              2   I89717        1581897600          1\n",
       "1              3  I311781        1585872000          1\n",
       "2              3  I286302        1585872000          1\n",
       "3              3  I304391        1585872000          1\n",
       "4              3  I354326        1585872000          1\n",
       "...          ...      ...               ...        ...\n",
       "5525071  1640954  I225457        1583539200          1\n",
       "5525072  1640954  I225458        1583539200          1\n",
       "5525073  1640954  I222174        1583539200          1\n",
       "5525074  1640955  I134557        1585440000          1\n",
       "5525075  1640955   I77097        1585440000          1\n",
       "\n",
       "[5525076 rows x 4 columns]"
      ]
     },
     "execution_count": 17,
     "metadata": {},
     "output_type": "execute_result"
    }
   ],
   "source": [
    "item_hist"
   ]
  },
  {
   "cell_type": "code",
   "execution_count": 18,
   "metadata": {},
   "outputs": [
    {
     "data": {
      "text/plain": [
       "(312038, 328823)"
      ]
     },
     "execution_count": 18,
     "metadata": {},
     "output_type": "execute_result"
    }
   ],
   "source": [
    "item_hist.item_id.nunique(),item.item_id.nunique()"
   ]
  },
  {
   "cell_type": "code",
   "execution_count": 19,
   "metadata": {},
   "outputs": [
    {
     "data": {
      "text/plain": [
       "(1588118400, 1580428800)"
      ]
     },
     "execution_count": 19,
     "metadata": {},
     "output_type": "execute_result"
    }
   ],
   "source": [
    "item.latest_timestamp.max() - item.latest_timestamp.min()\n",
    "item.latest_timestamp.max() ,item.latest_timestamp.min()"
   ]
  },
  {
   "cell_type": "code",
   "execution_count": 20,
   "metadata": {},
   "outputs": [
    {
     "ename": "NameError",
     "evalue": "name 'user_feature' is not defined",
     "output_type": "error",
     "traceback": [
      "\u001b[1;31m---------------------------------------------------------------------------\u001b[0m",
      "\u001b[1;31mNameError\u001b[0m                                 Traceback (most recent call last)",
      "Cell \u001b[1;32mIn [20], line 1\u001b[0m\n\u001b[1;32m----> 1\u001b[0m user_feature\u001b[39m.\u001b[39mshape, item\u001b[39m.\u001b[39mshape,user_target\u001b[39m.\u001b[39mshape\n",
      "\u001b[1;31mNameError\u001b[0m: name 'user_feature' is not defined"
     ]
    }
   ],
   "source": [
    "user_feature.shape, item.shape,user_target.shape"
   ]
  },
  {
   "cell_type": "code",
   "execution_count": null,
   "metadata": {},
   "outputs": [
    {
     "data": {
      "text/plain": [
       "(item_id\n",
       " I102695    20798\n",
       " I103751    19440\n",
       " I302808    19390\n",
       " I177269    18896\n",
       " I31876     15219\n",
       " I46072     14590\n",
       " I337068    14415\n",
       " I193280    12601\n",
       " I196644    11955\n",
       " I7453      11882\n",
       " Name: latest_timestamp, dtype: int64,\n",
       " item_id\n",
       " I102695    20798\n",
       " I103751    19440\n",
       " I302808    19390\n",
       " I177269    18896\n",
       " I31876     15219\n",
       " I46072     14590\n",
       " I337068    14415\n",
       " I193280    12601\n",
       " I196644    11955\n",
       " I7453      11882\n",
       " Name: count, dtype: int64)"
      ]
     },
     "execution_count": 69,
     "metadata": {},
     "output_type": "execute_result"
    }
   ],
   "source": [
    "popular_items = item_hist.groupby(\"item_id\")[\"latest_timestamp\"].count()\\\n",
    "    .sort_values(ascending=False)\n",
    "popular_2 = item_hist[\"item_id\"].value_counts()[:]\n",
    "popular_items[:10],popular_2[:10]"
   ]
  },
  {
   "cell_type": "code",
   "execution_count": null,
   "metadata": {},
   "outputs": [
    {
     "ename": "NameError",
     "evalue": "name 'item_hist' is not defined",
     "output_type": "error",
     "traceback": [
      "\u001b[1;31m---------------------------------------------------------------------------\u001b[0m",
      "\u001b[1;31mNameError\u001b[0m                                 Traceback (most recent call last)",
      "Cell \u001b[1;32mIn [17], line 1\u001b[0m\n\u001b[1;32m----> 1\u001b[0m item_hist\u001b[39m.\u001b[39muser_id\u001b[39m.\u001b[39mmax()\n",
      "\u001b[1;31mNameError\u001b[0m: name 'item_hist' is not defined"
     ]
    }
   ],
   "source": [
    "item_hist.user_id.max()"
   ]
  },
  {
   "attachments": {},
   "cell_type": "markdown",
   "metadata": {},
   "source": [
    "### train valid split"
   ]
  },
  {
   "cell_type": "code",
   "execution_count": 20,
   "metadata": {},
   "outputs": [],
   "source": [
    "from sklearn.model_selection import GroupKFold\n",
    "kFold = GroupKFold(n_splits=5)\n",
    "\n",
    "for i, (trn_idx, val_idx) in enumerate(kFold.split(item_hist,item_hist,groups=item_hist[\"user_id\"])):\n",
    "    item_trn = item_hist.iloc[trn_idx]\n",
    "    item_val = item_hist.iloc[val_idx]\n",
    "    break\n"
   ]
  },
  {
   "cell_type": "code",
   "execution_count": 358,
   "metadata": {},
   "outputs": [
    {
     "data": {
      "text/plain": [
       "(730966, 182741, 299158, 182741)"
      ]
     },
     "execution_count": 358,
     "metadata": {},
     "output_type": "execute_result"
    }
   ],
   "source": [
    "item_trn.user_id.nunique(),item_val.user_id.nunique(),\\\n",
    "  item_trn.item_id.nunique(),item_val.user_id.nunique()"
   ]
  },
  {
   "attachments": {},
   "cell_type": "markdown",
   "metadata": {},
   "source": [
    "### make dataset"
   ]
  },
  {
   "cell_type": "code",
   "execution_count": 52,
   "metadata": {},
   "outputs": [],
   "source": [
    "\n",
    "N = 150000\n",
    "# top_items = list(item[\"item_id\"].value_counts().index[:N].values)\n",
    "top_items = [item2idx[x] for x in item.item_id.values]\n",
    "# N_U = 450000\n",
    "# top_users = list(item[\"user_id\"].value_counts().index[:N_U].values)\n",
    "\n",
    "train_data_base = item_trn[[\"user_id\",\"item_id\"]]\n",
    "train_data_base.loc[:,\"item_id\"] = train_data_base.item_id.apply(lambda x:item2idx[x])\n",
    "\n",
    "# train_data_base = train_data_base[train_data_base.item_id.isin(top_items)]\n",
    "# train_data_base = train_data_base[train_data_base.user_id.isin(top_users)]\n",
    "\n",
    "# print(\"choosing top\", N,N_U, item.shape[0],train_data_base.shape[0])"
   ]
  },
  {
   "cell_type": "code",
   "execution_count": 149,
   "metadata": {},
   "outputs": [
    {
     "name": "stdout",
     "output_type": "stream",
     "text": [
      "0 ...\n",
      "1 ...\n",
      "2 ...\n",
      "3 ...\n",
      "4 ...\n",
      "5 ...\n",
      "6 ...\n",
      "7 ...\n",
      "8 ...\n",
      "9 ...\n"
     ]
    },
    {
     "data": {
      "text/html": [
       "<div>\n",
       "<style scoped>\n",
       "    .dataframe tbody tr th:only-of-type {\n",
       "        vertical-align: middle;\n",
       "    }\n",
       "\n",
       "    .dataframe tbody tr th {\n",
       "        vertical-align: top;\n",
       "    }\n",
       "\n",
       "    .dataframe thead th {\n",
       "        text-align: right;\n",
       "    }\n",
       "</style>\n",
       "<table border=\"1\" class=\"dataframe\">\n",
       "  <thead>\n",
       "    <tr style=\"text-align: right;\">\n",
       "      <th></th>\n",
       "      <th>user_id</th>\n",
       "      <th>item_id</th>\n",
       "      <th>neg_item_id</th>\n",
       "    </tr>\n",
       "  </thead>\n",
       "  <tbody>\n",
       "    <tr>\n",
       "      <th>1</th>\n",
       "      <td>3</td>\n",
       "      <td>17221</td>\n",
       "      <td>5179</td>\n",
       "    </tr>\n",
       "    <tr>\n",
       "      <th>2</th>\n",
       "      <td>3</td>\n",
       "      <td>3770</td>\n",
       "      <td>764</td>\n",
       "    </tr>\n",
       "    <tr>\n",
       "      <th>3</th>\n",
       "      <td>3</td>\n",
       "      <td>17225</td>\n",
       "      <td>233</td>\n",
       "    </tr>\n",
       "    <tr>\n",
       "      <th>4</th>\n",
       "      <td>3</td>\n",
       "      <td>16696</td>\n",
       "      <td>190877</td>\n",
       "    </tr>\n",
       "    <tr>\n",
       "      <th>5</th>\n",
       "      <td>5</td>\n",
       "      <td>22165</td>\n",
       "      <td>73762</td>\n",
       "    </tr>\n",
       "  </tbody>\n",
       "</table>\n",
       "</div>"
      ],
      "text/plain": [
       "   user_id item_id  neg_item_id\n",
       "1        3   17221         5179\n",
       "2        3    3770          764\n",
       "3        3   17225          233\n",
       "4        3   16696       190877\n",
       "5        5   22165        73762"
      ]
     },
     "execution_count": 149,
     "metadata": {},
     "output_type": "execute_result"
    }
   ],
   "source": [
    "import random\n",
    "import numpy as np\n",
    "\n",
    "train_list = []\n",
    "for neg_num in range(10):\n",
    "    print(neg_num, \"...\")\n",
    "    train_data_base.loc[:,\"neg_item_id\"] = np.random.choice(top_items,train_data_base.shape[0])\n",
    "    # train_data_base.loc[:,\"neg_item_id\"] = train_data_base.neg_item_id.apply(lambda x:item2idx[x])\n",
    "    train_list.append(train_data_base.copy())\n",
    "train_data = pd.concat(train_list)\n",
    "train_data.head(5)"
   ]
  },
  {
   "cell_type": "code",
   "execution_count": 160,
   "metadata": {},
   "outputs": [
    {
     "data": {
      "text/plain": [
       "count    283142.000000\n",
       "mean        156.107536\n",
       "std        1473.077678\n",
       "min          10.000000\n",
       "25%          10.000000\n",
       "50%          20.000000\n",
       "75%          50.000000\n",
       "max      166090.000000\n",
       "Name: count, dtype: float64"
      ]
     },
     "execution_count": 160,
     "metadata": {},
     "output_type": "execute_result"
    }
   ],
   "source": [
    "train_data.item_id.value_counts().describe()"
   ]
  },
  {
   "cell_type": "code",
   "execution_count": 162,
   "metadata": {},
   "outputs": [
    {
     "data": {
      "text/plain": [
       "count    283142.000000\n",
       "mean         15.610754\n",
       "std         147.307768\n",
       "min           1.000000\n",
       "25%           1.000000\n",
       "50%           2.000000\n",
       "75%           5.000000\n",
       "max       16609.000000\n",
       "Name: count, dtype: float64"
      ]
     },
     "execution_count": 162,
     "metadata": {},
     "output_type": "execute_result"
    }
   ],
   "source": [
    "train_data_base.item_id.value_counts().describe()"
   ]
  },
  {
   "cell_type": "code",
   "execution_count": 44,
   "metadata": {},
   "outputs": [
    {
     "data": {
      "text/plain": [
       "((44200600, 3), (4420060, 3))"
      ]
     },
     "execution_count": 44,
     "metadata": {},
     "output_type": "execute_result"
    }
   ],
   "source": [
    "train_data.shape, train_data_base.shape"
   ]
  },
  {
   "cell_type": "code",
   "execution_count": 69,
   "metadata": {},
   "outputs": [
    {
     "name": "stdout",
     "output_type": "stream",
     "text": [
      "(44200600, 3) 730966 283142\n",
      "328823 (4420060, 3)\n"
     ]
    },
    {
     "ename": "KeyboardInterrupt",
     "evalue": "",
     "output_type": "error",
     "traceback": [
      "\u001b[1;31m---------------------------------------------------------------------------\u001b[0m",
      "\u001b[1;31mKeyboardInterrupt\u001b[0m                         Traceback (most recent call last)",
      "Cell \u001b[1;32mIn [69], line 4\u001b[0m\n\u001b[0;32m      1\u001b[0m \u001b[39mprint\u001b[39m(train_data\u001b[39m.\u001b[39mshape, train_data\u001b[39m.\u001b[39muser_id\u001b[39m.\u001b[39mnunique(),train_data\u001b[39m.\u001b[39mitem_id\u001b[39m.\u001b[39mnunique())\n\u001b[0;32m      2\u001b[0m \u001b[39mprint\u001b[39m(train_data\u001b[39m.\u001b[39mneg_item_id\u001b[39m.\u001b[39mnunique(), train_data_base\u001b[39m.\u001b[39mshape)\n\u001b[0;32m      3\u001b[0m \u001b[39mprint\u001b[39m(train_data[[\u001b[39m\"\u001b[39m\u001b[39muser_id\u001b[39m\u001b[39m\"\u001b[39m,\u001b[39m\"\u001b[39m\u001b[39mitem_id\u001b[39m\u001b[39m\"\u001b[39m]]\u001b[39m.\u001b[39mduplicated()\u001b[39m.\u001b[39msum(),\\\n\u001b[1;32m----> 4\u001b[0m             train_data[[\u001b[39m\"\u001b[39m\u001b[39muser_id\u001b[39m\u001b[39m\"\u001b[39m,\u001b[39m\"\u001b[39m\u001b[39mitem_id\u001b[39m\u001b[39m\"\u001b[39m,\u001b[39m\"\u001b[39m\u001b[39mneg_item_id\u001b[39m\u001b[39m\"\u001b[39m]]\u001b[39m.\u001b[39mduplicated()\u001b[39m.\u001b[39msum())\n",
      "File \u001b[1;32mh:\\Anaconda\\envs\\tt\\lib\\site-packages\\pandas\\core\\frame.py:6961\u001b[0m, in \u001b[0;36mDataFrame.duplicated\u001b[1;34m(self, subset, keep)\u001b[0m\n\u001b[0;32m   6958\u001b[0m     labels, shape \u001b[39m=\u001b[39m \u001b[39mmap\u001b[39m(\u001b[39mlist\u001b[39m, \u001b[39mzip\u001b[39m(\u001b[39m*\u001b[39m\u001b[39mmap\u001b[39m(f, vals)))\n\u001b[0;32m   6960\u001b[0m     ids \u001b[39m=\u001b[39m get_group_index(labels, \u001b[39mtuple\u001b[39m(shape), sort\u001b[39m=\u001b[39m\u001b[39mFalse\u001b[39;00m, xnull\u001b[39m=\u001b[39m\u001b[39mFalse\u001b[39;00m)\n\u001b[1;32m-> 6961\u001b[0m     result \u001b[39m=\u001b[39m \u001b[39mself\u001b[39m\u001b[39m.\u001b[39m_constructor_sliced(duplicated(ids, keep), index\u001b[39m=\u001b[39m\u001b[39mself\u001b[39m\u001b[39m.\u001b[39mindex)\n\u001b[0;32m   6962\u001b[0m \u001b[39mreturn\u001b[39;00m result\u001b[39m.\u001b[39m__finalize__(\u001b[39mself\u001b[39m, method\u001b[39m=\u001b[39m\u001b[39m\"\u001b[39m\u001b[39mduplicated\u001b[39m\u001b[39m\"\u001b[39m)\n",
      "\u001b[1;31mKeyboardInterrupt\u001b[0m: "
     ]
    }
   ],
   "source": [
    "print(train_data.shape, train_data.user_id.nunique(),train_data.item_id.nunique())\n",
    "print(train_data.neg_item_id.nunique(), train_data_base.shape)\n",
    "print(train_data[[\"user_id\",\"item_id\"]].duplicated().sum(),\\\n",
    "            train_data[[\"user_id\",\"item_id\",\"neg_item_id\"]].duplicated().sum())"
   ]
  },
  {
   "cell_type": "code",
   "execution_count": 51,
   "metadata": {},
   "outputs": [
    {
     "data": {
      "text/plain": [
       "count    283142.000000\n",
       "mean         15.610754\n",
       "std         147.307768\n",
       "min           1.000000\n",
       "25%           1.000000\n",
       "50%           2.000000\n",
       "75%           5.000000\n",
       "max       16609.000000\n",
       "Name: count, dtype: float64"
      ]
     },
     "execution_count": 51,
     "metadata": {},
     "output_type": "execute_result"
    }
   ],
   "source": [
    "train_data_base.item_id.value_counts().describe()"
   ]
  },
  {
   "cell_type": "code",
   "execution_count": null,
   "metadata": {},
   "outputs": [
    {
     "data": {
      "text/plain": [
       "count    199754.000000\n",
       "mean         13.729923\n",
       "std          13.007129\n",
       "min           1.000000\n",
       "25%           9.000000\n",
       "50%          11.000000\n",
       "75%          15.000000\n",
       "max        1055.000000\n",
       "Name: count, dtype: float64"
      ]
     },
     "execution_count": 49,
     "metadata": {},
     "output_type": "execute_result"
    }
   ],
   "source": [
    "train_data_base.user_id.value_counts().describe()"
   ]
  },
  {
   "cell_type": "code",
   "execution_count": 349,
   "metadata": {},
   "outputs": [
    {
     "data": {
      "text/plain": [
       "count    328823.000000\n",
       "mean         19.219903\n",
       "std         196.719348\n",
       "min           1.000000\n",
       "25%           1.000000\n",
       "50%           2.000000\n",
       "75%           6.000000\n",
       "max       23663.000000\n",
       "Name: count, dtype: float64"
      ]
     },
     "execution_count": 349,
     "metadata": {},
     "output_type": "execute_result"
    }
   ],
   "source": [
    "item.item_id.value_counts().describe()"
   ]
  },
  {
   "cell_type": "code",
   "execution_count": null,
   "metadata": {},
   "outputs": [
    {
     "data": {
      "text/html": [
       "<div>\n",
       "<style scoped>\n",
       "    .dataframe tbody tr th:only-of-type {\n",
       "        vertical-align: middle;\n",
       "    }\n",
       "\n",
       "    .dataframe tbody tr th {\n",
       "        vertical-align: top;\n",
       "    }\n",
       "\n",
       "    .dataframe thead th {\n",
       "        text-align: right;\n",
       "    }\n",
       "</style>\n",
       "<table border=\"1\" class=\"dataframe\">\n",
       "  <thead>\n",
       "    <tr style=\"text-align: right;\">\n",
       "      <th></th>\n",
       "      <th>user_id</th>\n",
       "      <th>item_id</th>\n",
       "      <th>neg_item_id</th>\n",
       "    </tr>\n",
       "  </thead>\n",
       "  <tbody>\n",
       "    <tr>\n",
       "      <th>0</th>\n",
       "      <td>484</td>\n",
       "      <td>0</td>\n",
       "      <td>108872</td>\n",
       "    </tr>\n",
       "    <tr>\n",
       "      <th>1</th>\n",
       "      <td>484</td>\n",
       "      <td>1</td>\n",
       "      <td>13764</td>\n",
       "    </tr>\n",
       "    <tr>\n",
       "      <th>2</th>\n",
       "      <td>815</td>\n",
       "      <td>2</td>\n",
       "      <td>108122</td>\n",
       "    </tr>\n",
       "    <tr>\n",
       "      <th>3</th>\n",
       "      <td>998</td>\n",
       "      <td>3</td>\n",
       "      <td>121519</td>\n",
       "    </tr>\n",
       "    <tr>\n",
       "      <th>4</th>\n",
       "      <td>998</td>\n",
       "      <td>4</td>\n",
       "      <td>261507</td>\n",
       "    </tr>\n",
       "  </tbody>\n",
       "</table>\n",
       "</div>"
      ],
      "text/plain": [
       "   user_id item_id neg_item_id\n",
       "0      484       0      108872\n",
       "1      484       1       13764\n",
       "2      815       2      108122\n",
       "3      998       3      121519\n",
       "4      998       4      261507"
      ]
     },
     "execution_count": 13,
     "metadata": {},
     "output_type": "execute_result"
    }
   ],
   "source": [
    "train_data.head()"
   ]
  },
  {
   "cell_type": "code",
   "execution_count": null,
   "metadata": {},
   "outputs": [
    {
     "data": {
      "text/plain": [
       "item_id\n",
       "44052    8\n",
       "Name: count, dtype: int64"
      ]
     },
     "execution_count": 15,
     "metadata": {},
     "output_type": "execute_result"
    }
   ],
   "source": [
    "train_data.item_id.value_counts().sort_values(ascending=False)[149999:]"
   ]
  },
  {
   "cell_type": "code",
   "execution_count": null,
   "metadata": {},
   "outputs": [
    {
     "data": {
      "text/plain": [
       "(908075, 182741)"
      ]
     },
     "execution_count": 16,
     "metadata": {},
     "output_type": "execute_result"
    }
   ],
   "source": [
    "train_data.user_id.nunique(),item_val.user_id.nunique()"
   ]
  },
  {
   "cell_type": "code",
   "execution_count": 58,
   "metadata": {},
   "outputs": [
    {
     "data": {
      "text/html": [
       "<div>\n",
       "<style scoped>\n",
       "    .dataframe tbody tr th:only-of-type {\n",
       "        vertical-align: middle;\n",
       "    }\n",
       "\n",
       "    .dataframe tbody tr th {\n",
       "        vertical-align: top;\n",
       "    }\n",
       "\n",
       "    .dataframe thead th {\n",
       "        text-align: right;\n",
       "    }\n",
       "</style>\n",
       "<table border=\"1\" class=\"dataframe\">\n",
       "  <thead>\n",
       "    <tr style=\"text-align: right;\">\n",
       "      <th></th>\n",
       "      <th>user_id</th>\n",
       "      <th>item_id_x</th>\n",
       "      <th>neg_item_id</th>\n",
       "      <th>item_id_y</th>\n",
       "      <th>latest_timestamp</th>\n",
       "      <th>frequency</th>\n",
       "    </tr>\n",
       "  </thead>\n",
       "  <tbody>\n",
       "  </tbody>\n",
       "</table>\n",
       "</div>"
      ],
      "text/plain": [
       "Empty DataFrame\n",
       "Columns: [user_id, item_id_x, neg_item_id, item_id_y, latest_timestamp, frequency]\n",
       "Index: []"
      ]
     },
     "execution_count": 58,
     "metadata": {},
     "output_type": "execute_result"
    }
   ],
   "source": [
    "train_data.merge(item_val,on=\"user_id\")\n"
   ]
  },
  {
   "cell_type": "code",
   "execution_count": null,
   "metadata": {},
   "outputs": [
    {
     "data": {
      "text/html": [
       "<div>\n",
       "<style scoped>\n",
       "    .dataframe tbody tr th:only-of-type {\n",
       "        vertical-align: middle;\n",
       "    }\n",
       "\n",
       "    .dataframe tbody tr th {\n",
       "        vertical-align: top;\n",
       "    }\n",
       "\n",
       "    .dataframe thead th {\n",
       "        text-align: right;\n",
       "    }\n",
       "</style>\n",
       "<table border=\"1\" class=\"dataframe\">\n",
       "  <thead>\n",
       "    <tr style=\"text-align: right;\">\n",
       "      <th></th>\n",
       "      <th>user_id</th>\n",
       "      <th>item_id</th>\n",
       "      <th>neg_item_id</th>\n",
       "    </tr>\n",
       "  </thead>\n",
       "  <tbody>\n",
       "    <tr>\n",
       "      <th>5</th>\n",
       "      <td>998</td>\n",
       "      <td>5</td>\n",
       "      <td>147028</td>\n",
       "    </tr>\n",
       "    <tr>\n",
       "      <th>6</th>\n",
       "      <td>998</td>\n",
       "      <td>6</td>\n",
       "      <td>7095</td>\n",
       "    </tr>\n",
       "    <tr>\n",
       "      <th>4</th>\n",
       "      <td>998</td>\n",
       "      <td>4</td>\n",
       "      <td>171863</td>\n",
       "    </tr>\n",
       "    <tr>\n",
       "      <th>0</th>\n",
       "      <td>484</td>\n",
       "      <td>0</td>\n",
       "      <td>44927</td>\n",
       "    </tr>\n",
       "    <tr>\n",
       "      <th>2</th>\n",
       "      <td>815</td>\n",
       "      <td>2</td>\n",
       "      <td>8695</td>\n",
       "    </tr>\n",
       "  </tbody>\n",
       "</table>\n",
       "</div>"
      ],
      "text/plain": [
       "   user_id item_id neg_item_id\n",
       "5      998       5      147028\n",
       "6      998       6        7095\n",
       "4      998       4      171863\n",
       "0      484       0       44927\n",
       "2      815       2        8695"
      ]
     },
     "execution_count": 18,
     "metadata": {},
     "output_type": "execute_result"
    }
   ],
   "source": [
    "train_data.iloc[:10].sample(5)"
   ]
  },
  {
   "cell_type": "code",
   "execution_count": null,
   "metadata": {},
   "outputs": [
    {
     "data": {
      "text/plain": [
       "((4113910, 3),\n",
       "          user_id item_id neg_item_id\n",
       " 2950544   513715   38231       16856\n",
       " 2821233   462285    6143       43778\n",
       " 5811418  1378496    3142       88469\n",
       " 6194097      913   29135       31610\n",
       " 3679050   578853    1359       20243)"
      ]
     },
     "execution_count": 56,
     "metadata": {},
     "output_type": "execute_result"
    }
   ],
   "source": [
    "\n",
    "train_data_sampled = train_data[train_data.columns[:]].sample(frac=0.3)#5000000)\n",
    "train_data_sampled.shape, train_data_sampled.head()"
   ]
  },
  {
   "cell_type": "code",
   "execution_count": null,
   "metadata": {},
   "outputs": [
    {
     "data": {
      "text/plain": [
       "count    199598.000000\n",
       "mean         20.610978\n",
       "std          19.865232\n",
       "min           1.000000\n",
       "25%          12.000000\n",
       "50%          16.000000\n",
       "75%          23.000000\n",
       "max        1654.000000\n",
       "Name: count, dtype: float64"
      ]
     },
     "execution_count": 55,
     "metadata": {},
     "output_type": "execute_result"
    }
   ],
   "source": [
    "train_data_sampled.user_id.value_counts().describe()"
   ]
  },
  {
   "cell_type": "code",
   "execution_count": null,
   "metadata": {},
   "outputs": [
    {
     "data": {
      "text/plain": [
       "count    30000.000000\n",
       "mean       137.130333\n",
       "std        422.829663\n",
       "min          1.000000\n",
       "25%         23.000000\n",
       "50%         38.000000\n",
       "75%         86.000000\n",
       "max      12882.000000\n",
       "Name: count, dtype: float64"
      ]
     },
     "execution_count": 57,
     "metadata": {},
     "output_type": "execute_result"
    }
   ],
   "source": [
    "train_data_sampled.item_id.value_counts().describe()"
   ]
  },
  {
   "cell_type": "code",
   "execution_count": null,
   "metadata": {},
   "outputs": [
    {
     "data": {
      "text/plain": [
       "1640953"
      ]
     },
     "execution_count": 14,
     "metadata": {},
     "output_type": "execute_result"
    }
   ],
   "source": [
    "user_target.user_id.max()"
   ]
  },
  {
   "cell_type": "code",
   "execution_count": 317,
   "metadata": {},
   "outputs": [
    {
     "ename": "NameError",
     "evalue": "name 'user_feature' is not defined",
     "output_type": "error",
     "traceback": [
      "\u001b[1;31m---------------------------------------------------------------------------\u001b[0m",
      "\u001b[1;31mNameError\u001b[0m                                 Traceback (most recent call last)",
      "Cell \u001b[1;32mIn [317], line 1\u001b[0m\n\u001b[1;32m----> 1\u001b[0m user_feature \u001b[39m=\u001b[39m user_feature\u001b[39m.\u001b[39mset_index(\u001b[39m\"\u001b[39m\u001b[39muser_id\u001b[39m\u001b[39m\"\u001b[39m)\n\u001b[0;32m      3\u001b[0m \u001b[39m# fea_cols = list(user_feature.columns[1:7]) + list(user_feature.columns[16:])\u001b[39;00m\n\u001b[0;32m      4\u001b[0m fea_cols \u001b[39m=\u001b[39m \u001b[39mlist\u001b[39m(user_feature\u001b[39m.\u001b[39mcolumns[\u001b[39m15\u001b[39m:])\n",
      "\u001b[1;31mNameError\u001b[0m: name 'user_feature' is not defined"
     ]
    }
   ],
   "source": [
    "user_feature = user_feature.set_index(\"user_id\")\n",
    "\n",
    "# fea_cols = list(user_feature.columns[1:7]) + list(user_feature.columns[16:])\n",
    "fea_cols = list(user_feature.columns[15:])\n",
    "user_feature[fea_cols].head()"
   ]
  },
  {
   "cell_type": "code",
   "execution_count": null,
   "metadata": {},
   "outputs": [
    {
     "data": {
      "text/plain": [
       "['A1',\n",
       " 'A2',\n",
       " 'A3',\n",
       " 'B1',\n",
       " 'B10',\n",
       " 'B11',\n",
       " 'B12',\n",
       " 'B13',\n",
       " 'B14',\n",
       " 'B15',\n",
       " 'B16',\n",
       " 'B17',\n",
       " 'B18',\n",
       " 'B19',\n",
       " 'B2',\n",
       " 'B20',\n",
       " 'B21',\n",
       " 'B22',\n",
       " 'B23',\n",
       " 'B24',\n",
       " 'B25',\n",
       " 'B26',\n",
       " 'B27',\n",
       " 'B28',\n",
       " 'B29',\n",
       " 'B3',\n",
       " 'B30',\n",
       " 'B31',\n",
       " 'B32',\n",
       " 'B33',\n",
       " 'B34',\n",
       " 'B35',\n",
       " 'B36',\n",
       " 'B37',\n",
       " 'B38',\n",
       " 'B39',\n",
       " 'B4',\n",
       " 'B40',\n",
       " 'B41',\n",
       " 'B42',\n",
       " 'B43',\n",
       " 'B44',\n",
       " 'B45',\n",
       " 'B46',\n",
       " 'B47',\n",
       " 'B48',\n",
       " 'B5',\n",
       " 'B6',\n",
       " 'B7',\n",
       " 'B8',\n",
       " 'B9',\n",
       " 'C1',\n",
       " 'C10',\n",
       " 'C11',\n",
       " 'C2',\n",
       " 'C3',\n",
       " 'C4',\n",
       " 'C5',\n",
       " 'C6',\n",
       " 'C7',\n",
       " 'C8',\n",
       " 'C9',\n",
       " 'D1',\n",
       " 'D2',\n",
       " 'E1',\n",
       " 'E10',\n",
       " 'E11',\n",
       " 'E12',\n",
       " 'E2',\n",
       " 'E3',\n",
       " 'E4',\n",
       " 'E5',\n",
       " 'E6',\n",
       " 'E7',\n",
       " 'E8',\n",
       " 'E9',\n",
       " 'F1',\n",
       " 'F10',\n",
       " 'F2',\n",
       " 'F3',\n",
       " 'F4',\n",
       " 'F5',\n",
       " 'F6',\n",
       " 'F7',\n",
       " 'F8',\n",
       " 'F9',\n",
       " 'feature_list1_0',\n",
       " 'feature_list1_1',\n",
       " 'feature_list1_2',\n",
       " 'feature_list1_3',\n",
       " 'feature_list1_4',\n",
       " 'feature_list1_5',\n",
       " 'feature_list1_6',\n",
       " 'feature_list1_7',\n",
       " 'feature_list1_8',\n",
       " 'feature_list1_9',\n",
       " 'feature_list1_0',\n",
       " 'feature_list1_1',\n",
       " 'feature_list1_2',\n",
       " 'feature_list1_3',\n",
       " 'feature_list1_4',\n",
       " 'feature_list1_5',\n",
       " 'feature_list1_6',\n",
       " 'feature_list1_7',\n",
       " 'feature_list1_8',\n",
       " 'feature_list1_9',\n",
       " 'feature_list3_0',\n",
       " 'feature_list3_1',\n",
       " 'feature_list3_2',\n",
       " 'feature_list3_3',\n",
       " 'feature_list3_4',\n",
       " 'feature_list3_5',\n",
       " 'feature_list3_6',\n",
       " 'feature_list3_7',\n",
       " 'feature_list3_8',\n",
       " 'feature_list3_9']"
      ]
     },
     "execution_count": 44,
     "metadata": {},
     "output_type": "execute_result"
    }
   ],
   "source": [
    "fea_cols"
   ]
  },
  {
   "cell_type": "code",
   "execution_count": null,
   "metadata": {},
   "outputs": [],
   "source": [
    "num_fea = len(fea_cols)\n",
    "train_data = train_data.merge(user_feature[fea_cols],on=\"user_id\")\n"
   ]
  },
  {
   "cell_type": "code",
   "execution_count": 150,
   "metadata": {},
   "outputs": [],
   "source": [
    "import importlib\n",
    "import BPR_lib\n",
    "importlib.reload(BPR_lib)\n",
    "from BPR_lib import BPRData\n",
    "import torch.utils.data as data\n",
    "train_dataset = BPRData(train_data.values, True)\n",
    "train_loader = data.DataLoader(train_dataset,batch_size=1024,shuffle=True,num_workers=0)\n"
   ]
  },
  {
   "cell_type": "code",
   "execution_count": 32,
   "metadata": {},
   "outputs": [
    {
     "data": {
      "text/plain": [
       "730966"
      ]
     },
     "execution_count": 32,
     "metadata": {},
     "output_type": "execute_result"
    }
   ],
   "source": [
    "train_data.user_id.nunique()"
   ]
  },
  {
   "cell_type": "code",
   "execution_count": 41,
   "metadata": {},
   "outputs": [
    {
     "data": {
      "text/plain": [
       "(44200600, (16878, 281, 104515))"
      ]
     },
     "execution_count": 41,
     "metadata": {},
     "output_type": "execute_result"
    }
   ],
   "source": [
    "len(train_dataset),train_dataset[45687],"
   ]
  },
  {
   "cell_type": "code",
   "execution_count": null,
   "metadata": {},
   "outputs": [],
   "source": [
    "for user_fea,item_i,item_j in tqdm(train_loader):\n",
    "    item_i.cuda()\n",
    "    # print(user_fea.shape,item_i)\n",
    "    # print(item_i.dtype)"
   ]
  },
  {
   "cell_type": "code",
   "execution_count": null,
   "metadata": {},
   "outputs": [
    {
     "data": {
      "text/plain": [
       "(0,)"
      ]
     },
     "execution_count": 102,
     "metadata": {},
     "output_type": "execute_result"
    }
   ],
   "source": [
    "train_data.iloc[0].values.astype(np.float32)[3:].shape"
   ]
  },
  {
   "cell_type": "code",
   "execution_count": null,
   "metadata": {},
   "outputs": [
    {
     "data": {
      "text/plain": [
       "(112, ())"
      ]
     },
     "execution_count": 103,
     "metadata": {},
     "output_type": "execute_result"
    }
   ],
   "source": [
    "user_feature.shape[1],train_dataset[0][0].shape"
   ]
  },
  {
   "cell_type": "code",
   "execution_count": null,
   "metadata": {},
   "outputs": [
    {
     "data": {
      "text/plain": [
       "0"
      ]
     },
     "execution_count": 102,
     "metadata": {},
     "output_type": "execute_result"
    }
   ],
   "source": [
    "np.sum(train_data.iloc[0].values[3:].astype(np.float32)!=train_dataset[0][0])"
   ]
  },
  {
   "cell_type": "code",
   "execution_count": 372,
   "metadata": {},
   "outputs": [
    {
     "data": {
      "text/plain": [
       "(150000, 147368, 359925, 1640954)"
      ]
     },
     "execution_count": 372,
     "metadata": {},
     "output_type": "execute_result"
    }
   ],
   "source": [
    "train_data.neg_item_id.nunique(),train_data.item_id.nunique(),\\\n",
    "    train_data.user_id.nunique(), train_data.user_id.max(),"
   ]
  },
  {
   "attachments": {},
   "cell_type": "markdown",
   "metadata": {},
   "source": [
    "### Training"
   ]
  },
  {
   "cell_type": "code",
   "execution_count": 21,
   "metadata": {},
   "outputs": [],
   "source": [
    "import importlib\n",
    "import BPR_lib\n",
    "importlib.reload(BPR_lib)\n",
    "from BPR_lib import BPR,BPR2\n",
    "import torch.optim as optim\n",
    "import torch\n",
    "factor_num = 64\n",
    "# model1 = BPR(user_num, click_num, factor_num)\n",
    "\n",
    "model = BPR(item.user_id.max()+1, len(item_ids), factor_num)\n",
    "# model = BPR2(num_fea,len(item_ids),factor_num)\n",
    "args_lambda = 0.001\n",
    "args_lr = 0.01\n",
    "model.cuda()\n",
    "optimizer = optim.SGD(model.parameters(), lr=args_lr, weight_decay=args_lambda)"
   ]
  },
  {
   "cell_type": "code",
   "execution_count": null,
   "metadata": {},
   "outputs": [
    {
     "data": {
      "text/plain": [
       "(1640954, 1640955, 1640953)"
      ]
     },
     "execution_count": 69,
     "metadata": {},
     "output_type": "execute_result"
    }
   ],
   "source": [
    "train_data.user_id.max(),item.user_id.max(),user_target.user_id.max()"
   ]
  },
  {
   "cell_type": "code",
   "execution_count": 30,
   "metadata": {},
   "outputs": [
    {
     "data": {
      "text/plain": [
       "(tensor(-0.0003, device='cuda:0', grad_fn=<SumBackward1>),\n",
       " tensor(-0.0003, device='cuda:0', grad_fn=<SumBackward1>))"
      ]
     },
     "execution_count": 30,
     "metadata": {},
     "output_type": "execute_result"
    }
   ],
   "source": [
    "\n",
    "pre_i,pre_j = model(torch.tensor(train_dataset[0][0]).cuda(),\\\n",
    "      torch.tensor(train_dataset[0][1]).cuda(),torch.tensor(train_dataset[0][2]).cuda())\n",
    "pre_i,pre_j"
   ]
  },
  {
   "cell_type": "code",
   "execution_count": null,
   "metadata": {},
   "outputs": [
    {
     "data": {
      "text/plain": [
       "(27426070, 26784)"
      ]
     },
     "execution_count": 137,
     "metadata": {},
     "output_type": "execute_result"
    }
   ],
   "source": [
    "len(train_data),len(train_loader)"
   ]
  },
  {
   "cell_type": "code",
   "execution_count": null,
   "metadata": {},
   "outputs": [
    {
     "data": {
      "text/plain": [
       "tensor(-9.1937)"
      ]
     },
     "metadata": {},
     "output_type": "display_data"
    }
   ],
   "source": [
    "torch.tensor([-2,-3,-4]).sigmoid().log().sum(),torch.tensor([2,3,4]).sigmoid().log().sum()"
   ]
  },
  {
   "cell_type": "code",
   "execution_count": 151,
   "metadata": {},
   "outputs": [
    {
     "name": "stderr",
     "output_type": "stream",
     "text": [
      "100%|█████████▉| 43010/43165 [12:26<00:02, 61.62it/s]"
     ]
    },
    {
     "name": "stdout",
     "output_type": "stream",
     "text": [
      "check [list[array([ 0.00522128,  1.5333514 ,  2.1593952 ,  0.585479  , -0.00701998],\n",
      "      dtype=float32)], list[array([-1.9821422 ,  0.11736298, -2.3245752 ,  0.28544337, -0.00242912],\n",
      "      dtype=float32)], list[array([ 0.00503462,  0.00802071,  0.00068001,  0.02247093,  0.02310743,\n",
      "        0.03605204, -0.04406163,  0.03588691, -0.01415795,  0.02315615],\n",
      "      dtype=float32)], list[array([-0.01132192,  0.01105928,  0.0201349 ,  0.00762337,  0.00472754,\n",
      "       -0.00657688,  0.01413851,  0.00225606,  0.00123782,  0.01599493],\n",
      "      dtype=float32)]]\n"
     ]
    },
    {
     "name": "stderr",
     "output_type": "stream",
     "text": [
      "100%|██████████| 43165/43165 [12:34<00:00, 57.23it/s]\n"
     ]
    }
   ],
   "source": [
    "from tqdm import tqdm\n",
    "\n",
    "ii = 0\n",
    "for epoch in range(1):\n",
    "    model.train()\n",
    "    model.cuda()\n",
    "    for user_fea,item_i,item_j in tqdm(train_loader):\n",
    "        user_fea = user_fea.cuda()\n",
    "        item_i = item_i.cuda()\n",
    "        item_j = item_j.cuda()\n",
    "        # print(user_fea.shape,item_i)\n",
    "        model.zero_grad()\n",
    "        pred_i,pred_j = model(user_fea,item_i,item_j)\n",
    "        ii+=1\n",
    "        if ii % 1000 == 0:\n",
    "            print(\"check\", [list[x.detach().cpu().numpy()] for x in [pred_i[:5],pred_j[:5],\\\n",
    "            model.user_embed(user_fea)[0][:10],model.item_embed(item_i)[0][:10]]])\n",
    "        loss = - (pred_i - pred_j).sigmoid().log().sum()\n",
    "        loss.backward()\n",
    "        optimizer.step()\n",
    "    # print(u_embed.shape,embed_i.shape)"
   ]
  },
  {
   "cell_type": "code",
   "execution_count": 52,
   "metadata": {},
   "outputs": [
    {
     "name": "stderr",
     "output_type": "stream",
     "text": [
      "  8%|▊         | 3244/43165 [00:20<04:12, 158.14it/s]\n"
     ]
    },
    {
     "ename": "KeyboardInterrupt",
     "evalue": "",
     "output_type": "error",
     "traceback": [
      "\u001b[1;31m---------------------------------------------------------------------------\u001b[0m",
      "\u001b[1;31mKeyboardInterrupt\u001b[0m                         Traceback (most recent call last)",
      "Cell \u001b[1;32mIn [52], line 2\u001b[0m\n\u001b[0;32m      1\u001b[0m trn_user_ids \u001b[39m=\u001b[39m \u001b[39mset\u001b[39m()\n\u001b[1;32m----> 2\u001b[0m \u001b[39mfor\u001b[39;00m user_fea,item_i,item_j \u001b[39min\u001b[39;00m tqdm(train_loader):\n\u001b[0;32m      3\u001b[0m     trn_user_ids\u001b[39m.\u001b[39mupdate(user_fea\u001b[39m.\u001b[39mnumpy())\n",
      "File \u001b[1;32mh:\\Anaconda\\envs\\tt\\lib\\site-packages\\tqdm\\std.py:1195\u001b[0m, in \u001b[0;36mtqdm.__iter__\u001b[1;34m(self)\u001b[0m\n\u001b[0;32m   1192\u001b[0m time \u001b[39m=\u001b[39m \u001b[39mself\u001b[39m\u001b[39m.\u001b[39m_time\n\u001b[0;32m   1194\u001b[0m \u001b[39mtry\u001b[39;00m:\n\u001b[1;32m-> 1195\u001b[0m     \u001b[39mfor\u001b[39;00m obj \u001b[39min\u001b[39;00m iterable:\n\u001b[0;32m   1196\u001b[0m         \u001b[39myield\u001b[39;00m obj\n\u001b[0;32m   1197\u001b[0m         \u001b[39m# Update and possibly print the progressbar.\u001b[39;00m\n\u001b[0;32m   1198\u001b[0m         \u001b[39m# Note: does not call self.update(1) for speed optimisation.\u001b[39;00m\n",
      "File \u001b[1;32mh:\\Anaconda\\envs\\tt\\lib\\site-packages\\torch\\utils\\data\\dataloader.py:627\u001b[0m, in \u001b[0;36m_BaseDataLoaderIter.__next__\u001b[1;34m(self)\u001b[0m\n\u001b[0;32m    626\u001b[0m \u001b[39mdef\u001b[39;00m \u001b[39m__next__\u001b[39m(\u001b[39mself\u001b[39m) \u001b[39m-\u001b[39m\u001b[39m>\u001b[39m Any:\n\u001b[1;32m--> 627\u001b[0m     \u001b[39mwith\u001b[39;00m torch\u001b[39m.\u001b[39mautograd\u001b[39m.\u001b[39mprofiler\u001b[39m.\u001b[39mrecord_function(\u001b[39mself\u001b[39m\u001b[39m.\u001b[39m_profile_name):\n\u001b[0;32m    628\u001b[0m         \u001b[39mif\u001b[39;00m \u001b[39mself\u001b[39m\u001b[39m.\u001b[39m_sampler_iter \u001b[39mis\u001b[39;00m \u001b[39mNone\u001b[39;00m:\n\u001b[0;32m    629\u001b[0m             \u001b[39m# TODO(https://github.com/pytorch/pytorch/issues/76750)\u001b[39;00m\n\u001b[0;32m    630\u001b[0m             \u001b[39mself\u001b[39m\u001b[39m.\u001b[39m_reset()  \u001b[39m# type: ignore[call-arg]\u001b[39;00m\n",
      "File \u001b[1;32mh:\\Anaconda\\envs\\tt\\lib\\site-packages\\torch\\autograd\\profiler.py:605\u001b[0m, in \u001b[0;36mrecord_function.__enter__\u001b[1;34m(self)\u001b[0m\n\u001b[0;32m    604\u001b[0m \u001b[39mdef\u001b[39;00m \u001b[39m__enter__\u001b[39m(\u001b[39mself\u001b[39m):\n\u001b[1;32m--> 605\u001b[0m     \u001b[39mself\u001b[39m\u001b[39m.\u001b[39mrecord \u001b[39m=\u001b[39m torch\u001b[39m.\u001b[39;49mops\u001b[39m.\u001b[39;49mprofiler\u001b[39m.\u001b[39;49m_record_function_enter_new(\n\u001b[0;32m    606\u001b[0m         \u001b[39mself\u001b[39;49m\u001b[39m.\u001b[39;49mname, \u001b[39mself\u001b[39;49m\u001b[39m.\u001b[39;49margs\n\u001b[0;32m    607\u001b[0m     )\n\u001b[0;32m    608\u001b[0m     \u001b[39mreturn\u001b[39;00m \u001b[39mself\u001b[39m\n",
      "File \u001b[1;32mh:\\Anaconda\\envs\\tt\\lib\\site-packages\\torch\\_ops.py:854\u001b[0m, in \u001b[0;36mOpOverloadPacket.__call__\u001b[1;34m(self_, *args, **kwargs)\u001b[0m\n\u001b[0;32m    846\u001b[0m \u001b[39mdef\u001b[39;00m \u001b[39m__call__\u001b[39m(self_, \u001b[39m*\u001b[39margs, \u001b[39m*\u001b[39m\u001b[39m*\u001b[39mkwargs):  \u001b[39m# noqa: B902\u001b[39;00m\n\u001b[0;32m    847\u001b[0m     \u001b[39m# use `self_` to avoid naming collide with aten ops arguments that\u001b[39;00m\n\u001b[0;32m    848\u001b[0m     \u001b[39m# named \"self\". This way, all the aten ops can be called by kwargs.\u001b[39;00m\n\u001b[1;32m   (...)\u001b[0m\n\u001b[0;32m    852\u001b[0m     \u001b[39m# We save the function ptr as the `op` attribute on\u001b[39;00m\n\u001b[0;32m    853\u001b[0m     \u001b[39m# OpOverloadPacket to access it here.\u001b[39;00m\n\u001b[1;32m--> 854\u001b[0m     \u001b[39mreturn\u001b[39;00m self_\u001b[39m.\u001b[39m_op(\u001b[39m*\u001b[39margs, \u001b[39m*\u001b[39m\u001b[39m*\u001b[39m(kwargs \u001b[39mor\u001b[39;00m {}))\n",
      "\u001b[1;31mKeyboardInterrupt\u001b[0m: "
     ]
    }
   ],
   "source": [
    "trn_user_ids = set()\n",
    "for user_fea,item_i,item_j in tqdm(train_loader):\n",
    "    trn_user_ids.update(user_fea.numpy())"
   ]
  },
  {
   "cell_type": "code",
   "execution_count": 51,
   "metadata": {},
   "outputs": [],
   "source": [
    "trn_user_ids.update(user_fea.numpy())"
   ]
  },
  {
   "cell_type": "code",
   "execution_count": 47,
   "metadata": {},
   "outputs": [
    {
     "data": {
      "text/plain": [
       "array([ 6.8908827e-03,  5.5735814e-03, -9.2331143e-03,  4.6274462e-03,\n",
       "        4.4738078e-03,  5.1760599e-03, -3.7225938e-04,  8.3511537e-03,\n",
       "        1.2542726e-02,  2.5386419e-03, -8.4746145e-03,  3.9174948e-03,\n",
       "       -2.1102675e-03,  6.2068054e-03, -1.3101082e-03,  4.3848511e-03,\n",
       "       -3.5490554e-03,  9.0378366e-04, -7.8911530e-03, -1.1393058e-03,\n",
       "        7.4744308e-03, -3.5606534e-03, -1.9727172e-03,  3.2889291e-03,\n",
       "        5.1537985e-03,  2.3442300e-03, -1.2512995e-03,  6.6579049e-03,\n",
       "        5.6610839e-03,  9.4328672e-05,  5.8099339e-03,  5.1901774e-03,\n",
       "        3.1130626e-03, -4.7986233e-03, -6.2107923e-03, -4.0074475e-03,\n",
       "        8.2914541e-03,  4.8420997e-03,  4.6810796e-03, -5.1157684e-03,\n",
       "       -3.4454253e-03, -5.7737539e-03,  5.4337289e-03,  6.4413501e-03,\n",
       "       -1.5137944e-02, -1.3992387e-02, -8.7928735e-03,  2.1315119e-04,\n",
       "       -2.6681249e-03,  9.1972584e-03, -3.0238536e-04, -1.0430278e-03,\n",
       "        1.5965941e-03, -5.2361116e-03,  3.8958158e-04,  6.4978208e-03,\n",
       "        7.9456164e-04,  3.3593874e-03, -2.7141022e-03,  1.0973237e-03,\n",
       "       -2.4480245e-03,  5.1480033e-03, -1.3452893e-02, -2.9108154e-03],\n",
       "      dtype=float32)"
      ]
     },
     "execution_count": 47,
     "metadata": {},
     "output_type": "execute_result"
    }
   ],
   "source": [
    "model.user_embed(torch.tensor(item_val.iloc[41000].user_id).cuda()).detach().cpu().numpy()"
   ]
  },
  {
   "cell_type": "code",
   "execution_count": 104,
   "metadata": {},
   "outputs": [
    {
     "data": {
      "text/plain": [
       "array([-6.47718844e-04,  2.44897697e-03, -5.82386553e-03, -7.07108702e-04,\n",
       "       -1.72569312e-03, -3.00709298e-03, -3.77733330e-03, -2.36914004e-03,\n",
       "       -2.03323201e-03,  2.39809300e-03,  4.52667614e-03, -1.26563162e-02,\n",
       "        4.01852652e-04,  8.27247370e-03,  8.27635173e-03, -1.41783594e-03,\n",
       "       -8.02599080e-03, -8.52880441e-03,  6.55439030e-03, -3.73293622e-03,\n",
       "       -2.76638952e-04, -8.03745538e-03,  1.08552836e-02,  1.32788962e-03,\n",
       "       -2.76707485e-03,  5.13987150e-03, -6.37872610e-03, -1.01398053e-02,\n",
       "        6.66447729e-03,  1.36400415e-02, -4.31851577e-03,  5.89336315e-03,\n",
       "        2.93145044e-04, -3.33363330e-03,  2.17886921e-03, -5.45824878e-03,\n",
       "        4.84044943e-03, -5.93662076e-03, -1.07976440e-02,  4.05566860e-03,\n",
       "       -1.96400601e-02, -8.24945862e-04,  6.45932555e-03, -4.14338137e-05,\n",
       "        4.50625457e-03,  8.22412374e-04,  4.87117330e-03,  4.32155188e-03,\n",
       "       -6.81279507e-03, -1.08568136e-04, -9.60117765e-03, -1.30240880e-02,\n",
       "       -8.50398187e-03, -1.22707142e-02, -1.67082238e-03, -1.57081522e-02,\n",
       "        1.33457398e-02, -1.11671114e-04, -1.67496596e-03,  8.07059929e-03,\n",
       "       -1.24333461e-03,  1.02474755e-02, -1.38683980e-02,  7.86652090e-05],\n",
       "      dtype=float32)"
      ]
     },
     "execution_count": 104,
     "metadata": {},
     "output_type": "execute_result"
    }
   ],
   "source": [
    "model.user_embed(torch.tensor(item_trn.iloc[41000].user_id).cuda()).detach().cpu().numpy()"
   ]
  },
  {
   "cell_type": "code",
   "execution_count": 369,
   "metadata": {},
   "outputs": [
    {
     "data": {
      "text/plain": [
       "array([-4.2816708e-03,  6.0236640e-03, -5.9078990e-05,  2.7680367e-03,\n",
       "       -4.6667904e-03, -2.5506539e-03, -4.1887364e-03, -4.8868647e-03,\n",
       "        6.2343157e-03,  3.7692725e-03, -2.8563896e-03, -3.5775490e-03,\n",
       "        6.0844012e-03,  1.1207264e-02,  3.2449367e-03,  5.2068280e-03,\n",
       "       -3.0789032e-04,  1.3829237e-03,  2.0116535e-03,  4.2341845e-03,\n",
       "        7.2334404e-03, -6.4414861e-03, -9.0164654e-03,  3.1441250e-03,\n",
       "        3.9684894e-03,  9.3372883e-03, -2.3234335e-03, -1.6447932e-03,\n",
       "        3.6622146e-03, -1.2775267e-02,  2.5935273e-03, -4.6908297e-03,\n",
       "        9.0169767e-03, -5.5137817e-03, -1.9935211e-03,  4.1265134e-03,\n",
       "        6.1708940e-03, -4.5954944e-03, -1.5023616e-03, -4.2850189e-03,\n",
       "        2.4073434e-03,  3.2268072e-04,  7.5593627e-05, -1.0880918e-02,\n",
       "       -5.5108508e-03,  5.9238039e-03,  1.6519962e-03, -1.1228019e-02,\n",
       "       -5.4894718e-03, -1.8805348e-03, -3.0495867e-04,  2.4685783e-03,\n",
       "       -2.5832229e-03,  6.1180112e-03, -3.3032186e-03,  1.2613136e-03,\n",
       "        5.7067685e-03,  4.0583699e-03, -3.6181053e-05,  1.9995894e-03,\n",
       "        6.4864927e-03, -8.3557889e-03, -1.1884619e-02,  6.3573285e-03],\n",
       "      dtype=float32)"
      ]
     },
     "execution_count": 369,
     "metadata": {},
     "output_type": "execute_result"
    }
   ],
   "source": [
    "model.user_embed(torch.tensor(9998).cuda()).detach().cpu().numpy()"
   ]
  },
  {
   "cell_type": "code",
   "execution_count": 333,
   "metadata": {},
   "outputs": [
    {
     "data": {
      "text/html": [
       "<div>\n",
       "<style scoped>\n",
       "    .dataframe tbody tr th:only-of-type {\n",
       "        vertical-align: middle;\n",
       "    }\n",
       "\n",
       "    .dataframe tbody tr th {\n",
       "        vertical-align: top;\n",
       "    }\n",
       "\n",
       "    .dataframe thead th {\n",
       "        text-align: right;\n",
       "    }\n",
       "</style>\n",
       "<table border=\"1\" class=\"dataframe\">\n",
       "  <thead>\n",
       "    <tr style=\"text-align: right;\">\n",
       "      <th></th>\n",
       "      <th>user_id</th>\n",
       "      <th>item_id</th>\n",
       "      <th>neg_item_id</th>\n",
       "    </tr>\n",
       "  </thead>\n",
       "  <tbody>\n",
       "    <tr>\n",
       "      <th>3</th>\n",
       "      <td>998</td>\n",
       "      <td>3</td>\n",
       "      <td>67941</td>\n",
       "    </tr>\n",
       "    <tr>\n",
       "      <th>4</th>\n",
       "      <td>998</td>\n",
       "      <td>4</td>\n",
       "      <td>16414</td>\n",
       "    </tr>\n",
       "    <tr>\n",
       "      <th>5</th>\n",
       "      <td>998</td>\n",
       "      <td>5</td>\n",
       "      <td>11396</td>\n",
       "    </tr>\n",
       "    <tr>\n",
       "      <th>6</th>\n",
       "      <td>998</td>\n",
       "      <td>6</td>\n",
       "      <td>24734</td>\n",
       "    </tr>\n",
       "    <tr>\n",
       "      <th>7</th>\n",
       "      <td>998</td>\n",
       "      <td>7</td>\n",
       "      <td>45898</td>\n",
       "    </tr>\n",
       "    <tr>\n",
       "      <th>...</th>\n",
       "      <td>...</td>\n",
       "      <td>...</td>\n",
       "      <td>...</td>\n",
       "    </tr>\n",
       "    <tr>\n",
       "      <th>6319941</th>\n",
       "      <td>1640781</td>\n",
       "      <td>251</td>\n",
       "      <td>73420</td>\n",
       "    </tr>\n",
       "    <tr>\n",
       "      <th>6319942</th>\n",
       "      <td>1640781</td>\n",
       "      <td>85</td>\n",
       "      <td>58763</td>\n",
       "    </tr>\n",
       "    <tr>\n",
       "      <th>6319943</th>\n",
       "      <td>1640781</td>\n",
       "      <td>120</td>\n",
       "      <td>180127</td>\n",
       "    </tr>\n",
       "    <tr>\n",
       "      <th>6319944</th>\n",
       "      <td>1640781</td>\n",
       "      <td>356</td>\n",
       "      <td>61921</td>\n",
       "    </tr>\n",
       "    <tr>\n",
       "      <th>6319945</th>\n",
       "      <td>1640781</td>\n",
       "      <td>700</td>\n",
       "      <td>95517</td>\n",
       "    </tr>\n",
       "  </tbody>\n",
       "</table>\n",
       "<p>48035240 rows × 3 columns</p>\n",
       "</div>"
      ],
      "text/plain": [
       "         user_id item_id  neg_item_id\n",
       "3            998       3        67941\n",
       "4            998       4        16414\n",
       "5            998       5        11396\n",
       "6            998       6        24734\n",
       "7            998       7        45898\n",
       "...          ...     ...          ...\n",
       "6319941  1640781     251        73420\n",
       "6319942  1640781      85        58763\n",
       "6319943  1640781     120       180127\n",
       "6319944  1640781     356        61921\n",
       "6319945  1640781     700        95517\n",
       "\n",
       "[48035240 rows x 3 columns]"
      ]
     },
     "execution_count": 333,
     "metadata": {},
     "output_type": "execute_result"
    }
   ],
   "source": [
    "train_data"
   ]
  },
  {
   "cell_type": "code",
   "execution_count": 22,
   "metadata": {},
   "outputs": [
    {
     "data": {
      "text/plain": [
       "<All keys matched successfully>"
      ]
     },
     "execution_count": 22,
     "metadata": {},
     "output_type": "execute_result"
    }
   ],
   "source": [
    "# torch.save(model.state_dict(),\"BPR_20w_3w_sample10_factor64.pth\")\n",
    "model.load_state_dict(torch.load(\"BPR_sample10_factor64_ep3.pth\"))"
   ]
  },
  {
   "cell_type": "code",
   "execution_count": null,
   "metadata": {},
   "outputs": [
    {
     "data": {
      "text/plain": [
       "torch.Size([1024])"
      ]
     },
     "execution_count": 20,
     "metadata": {},
     "output_type": "execute_result"
    }
   ],
   "source": [
    "user_fea.shape"
   ]
  },
  {
   "cell_type": "code",
   "execution_count": 152,
   "metadata": {},
   "outputs": [],
   "source": [
    "torch.save(model.state_dict(),\"BPR_sample10_factor64_ep3.pth\")"
   ]
  },
  {
   "cell_type": "code",
   "execution_count": 63,
   "metadata": {},
   "outputs": [
    {
     "data": {
      "text/plain": [
       "('I4701', tensor(1480))"
      ]
     },
     "execution_count": 63,
     "metadata": {},
     "output_type": "execute_result"
    }
   ],
   "source": [
    "idx2item[int(item_i[0].numpy())],item_i[0]"
   ]
  },
  {
   "cell_type": "code",
   "execution_count": 23,
   "metadata": {},
   "outputs": [
    {
     "ename": "NameError",
     "evalue": "name 'train_dataset' is not defined",
     "output_type": "error",
     "traceback": [
      "\u001b[1;31m---------------------------------------------------------------------------\u001b[0m",
      "\u001b[1;31mNameError\u001b[0m                                 Traceback (most recent call last)",
      "Cell \u001b[1;32mIn [23], line 4\u001b[0m\n\u001b[0;32m      1\u001b[0m start \u001b[39m=\u001b[39m \u001b[39m1000000\u001b[39m\n\u001b[0;32m      3\u001b[0m \u001b[39mfor\u001b[39;00m ii \u001b[39min\u001b[39;00m \u001b[39mrange\u001b[39m(start, start\u001b[39m+\u001b[39m\u001b[39m20\u001b[39m):\n\u001b[1;32m----> 4\u001b[0m     uu,item_i,item_j \u001b[39m=\u001b[39m train_dataset[ii]\n\u001b[0;32m      5\u001b[0m     uu \u001b[39m=\u001b[39m torch\u001b[39m.\u001b[39mtensor(uu)\u001b[39m.\u001b[39mcuda()\n\u001b[0;32m      6\u001b[0m     item_fea_i \u001b[39m=\u001b[39m torch\u001b[39m.\u001b[39mtensor(item_i)\u001b[39m.\u001b[39mcuda()\n",
      "\u001b[1;31mNameError\u001b[0m: name 'train_dataset' is not defined"
     ]
    }
   ],
   "source": [
    "start = 1000000\n",
    "\n",
    "for ii in range(start, start+20):\n",
    "    uu,item_i,item_j = train_dataset[ii]\n",
    "    uu = torch.tensor(uu).cuda()\n",
    "    item_fea_i = torch.tensor(item_i).cuda()\n",
    "    item_fea_j = torch.tensor(item_j).cuda()\n",
    "    pred_i2,pred_j2 = model(uu,item_fea_i,item_fea_j)\n",
    "    print([float(x.detach().cpu().numpy()) for x in [pred_i2,pred_j2]])"
   ]
  },
  {
   "cell_type": "code",
   "execution_count": 110,
   "metadata": {},
   "outputs": [
    {
     "name": "stdout",
     "output_type": "stream",
     "text": [
      "[0.6474443674087524, 0.07947587966918945]\n",
      "[1.7974094152450562, 0.0660865306854248]\n",
      "[0.08540710061788559, -0.8419563174247742]\n",
      "[0.8017714023590088, 0.17572204768657684]\n",
      "[-0.08387137204408646, 0.016119753941893578]\n",
      "[0.8485485315322876, -1.7725920677185059]\n",
      "[0.07586459070444107, -0.012445572763681412]\n",
      "[0.25201013684272766, 0.004813140258193016]\n",
      "[0.00676204776391387, 0.01935204118490219]\n",
      "[0.8383329510688782, -0.022735022008419037]\n",
      "[0.051315151154994965, -0.9918891191482544]\n",
      "[4.365927696228027, -0.2936568260192871]\n",
      "[4.364213943481445, -0.4521724283695221]\n",
      "[4.079098224639893, -0.08155763149261475]\n",
      "[3.6191165447235107, 0.46548599004745483]\n",
      "[3.328695774078369, -0.07319173216819763]\n",
      "[0.006003241054713726, -0.005468173883855343]\n",
      "[-0.043182529509067535, -0.11877325922250748]\n",
      "[0.46940988302230835, 0.012620078399777412]\n",
      "[0.11884622275829315, 0.09699103236198425]\n"
     ]
    }
   ],
   "source": [
    "start = 21000000\n",
    "model.cuda()\n",
    "for ii in range(start, start+20):\n",
    "    uu,item_i,item_j = train_dataset[ii]\n",
    "    uu = torch.tensor(uu).cuda()\n",
    "    item_fea_i = torch.tensor(item_i).cuda()\n",
    "    item_fea_j = torch.tensor(item_j).cuda()\n",
    "    pred_i2,pred_j2 = model(uu,item_fea_i,item_fea_j)\n",
    "    print([float(x.detach().cpu().numpy()) for x in [pred_i2,pred_j2]])"
   ]
  },
  {
   "cell_type": "code",
   "execution_count": 25,
   "metadata": {},
   "outputs": [
    {
     "name": "stderr",
     "output_type": "stream",
     "text": [
      "100%|██████████| 5138/5138 [00:02<00:00, 2029.98it/s]\n"
     ]
    }
   ],
   "source": [
    "from tqdm import tqdm\n",
    "all_items= [item2idx[x] for x in item_ids]\n",
    "trn_item_embeds = []\n",
    "\n",
    "for ii in tqdm(range(0,len(all_items),64)):\n",
    "    # item_id_idx = [item2idx[x] for x in top_items[ii:ii+64]]\n",
    "    item_embed = model.item_embed(torch.tensor(all_items[ii:ii+64],dtype=torch.int32).cuda())\n",
    "    trn_item_embeds.extend(item_embed.detach().cpu().numpy())\n",
    "len(trn_item_embeds)\n",
    "import numpy as np\n",
    "import faiss\n",
    "index = faiss.IndexFlatIP(factor_num)\n",
    "index.add(np.array(trn_item_embeds))\n"
   ]
  },
  {
   "cell_type": "code",
   "execution_count": 290,
   "metadata": {},
   "outputs": [
    {
     "data": {
      "text/plain": [
       "(150000, (64,))"
      ]
     },
     "execution_count": 290,
     "metadata": {},
     "output_type": "execute_result"
    }
   ],
   "source": [
    "len(trn_item_embeds), trn_item_embeds[0].shape"
   ]
  },
  {
   "cell_type": "code",
   "execution_count": 39,
   "metadata": {},
   "outputs": [
    {
     "data": {
      "text/plain": [
       "(146418, 182741, (1105016, 4))"
      ]
     },
     "execution_count": 39,
     "metadata": {},
     "output_type": "execute_result"
    }
   ],
   "source": [
    "item_val.item_id.nunique(),item_val.user_id.nunique(),item_val.shape"
   ]
  },
  {
   "cell_type": "code",
   "execution_count": 26,
   "metadata": {},
   "outputs": [
    {
     "name": "stderr",
     "output_type": "stream",
     "text": [
      "  2%|▏         | 3613/182741 [00:49<41:10, 72.50it/s, hit1=6482, hit2=1065, t=22817, tot2=3613]\n"
     ]
    },
    {
     "ename": "KeyboardInterrupt",
     "evalue": "",
     "output_type": "error",
     "traceback": [
      "\u001b[1;31m---------------------------------------------------------------------------\u001b[0m",
      "\u001b[1;31mKeyboardInterrupt\u001b[0m                         Traceback (most recent call last)",
      "Cell \u001b[1;32mIn [26], line 12\u001b[0m\n\u001b[0;32m     10\u001b[0m \u001b[39mwith\u001b[39;00m tqdm(total\u001b[39m=\u001b[39m\u001b[39mlen\u001b[39m(test_user_ids)) \u001b[39mas\u001b[39;00m pbar:\n\u001b[0;32m     11\u001b[0m     \u001b[39mfor\u001b[39;00m test_user \u001b[39min\u001b[39;00m test_user_ids:\n\u001b[1;32m---> 12\u001b[0m         user_embed \u001b[39m=\u001b[39m model\u001b[39m.\u001b[39muser_embed(torch\u001b[39m.\u001b[39mtensor(test_user)\u001b[39m.\u001b[39mcuda())\u001b[39m.\u001b[39mdetach()\u001b[39m.\u001b[39mcpu()\u001b[39m.\u001b[39mnumpy()\n\u001b[0;32m     13\u001b[0m         \u001b[39m# sims2 = np.dot(user_embed,np.array(trn_item_embeds).T)\u001b[39;00m\n\u001b[0;32m     14\u001b[0m         \u001b[39m# arts_fetch2 = np.random.choice(trn_item_ids,30000)\u001b[39;00m\n\u001b[0;32m     15\u001b[0m         \u001b[39m# arts_fetch1 = np.array(top_items)[np.argsort(sims2)[-1500:]]\u001b[39;00m\n\u001b[0;32m     16\u001b[0m         \u001b[39m# arts_fetch2 = np.array(top_items)[np.argsort(sims2)[:148500]]\u001b[39;00m\n\u001b[0;32m     17\u001b[0m         sim,idx \u001b[39m=\u001b[39m  index\u001b[39m.\u001b[39msearch(np\u001b[39m.\u001b[39marray([user_embed]),\u001b[39m3000\u001b[39m)\n",
      "\u001b[1;31mKeyboardInterrupt\u001b[0m: "
     ]
    }
   ],
   "source": [
    "test_user_ids = list(item_val.user_id.unique())\n",
    "gt_item = item_val.groupby(\"user_id\")[\"item_id\"].apply(list)\n",
    "gt_item2 = item_last[item_last.user_id.isin(test_user_ids)].set_index(\"user_id\")\n",
    "np.random.shuffle(test_user_ids)\n",
    "count1 =0 \n",
    "count2 = 0\n",
    "total1 = 0\n",
    "total2 = 0\n",
    "check = 0\n",
    "with tqdm(total=len(test_user_ids)) as pbar:\n",
    "    for test_user in test_user_ids:\n",
    "        user_embed = model.user_embed(torch.tensor(test_user).cuda()).detach().cpu().numpy()\n",
    "        # sims2 = np.dot(user_embed,np.array(trn_item_embeds).T)\n",
    "        # arts_fetch2 = np.random.choice(trn_item_ids,30000)\n",
    "        # arts_fetch1 = np.array(top_items)[np.argsort(sims2)[-1500:]]\n",
    "        # arts_fetch2 = np.array(top_items)[np.argsort(sims2)[:148500]]\n",
    "        sim,idx =  index.search(np.array([user_embed]),3000)\n",
    "        \n",
    "        # gt_arts2 = item_trn[item_trn.user_id==test_user].item_id.values\n",
    "        gt_arts = gt_item.loc[test_user]\n",
    "        gt_arts = [item2idx[x] for x in gt_arts]\n",
    "        gt_arts2 = gt_item2.loc[test_user].item_id\n",
    "        gt_arts2 = [item2idx[x] for x in [gt_arts2]]\n",
    "        count1+=len(set(gt_arts).intersection(set(idx[0][:])))\n",
    "        count2+=len(set(gt_arts2).intersection(set(idx[0][:])))\n",
    "        check+=len(set(gt_arts).intersection(set(gt_arts2)))\n",
    "        total1+=len(gt_arts)\n",
    "        total2+=len(gt_arts2)\n",
    "        pbar.update(1)\n",
    "        pbar.set_postfix(hit1=count1,hit2=count2,t=total1,tot2=total2)"
   ]
  },
  {
   "cell_type": "code",
   "execution_count": 154,
   "metadata": {},
   "outputs": [
    {
     "name": "stderr",
     "output_type": "stream",
     "text": [
      "  1%|          | 1670/182741 [00:22<40:36, 74.32it/s, hit1=2872, hit2=500, t=10101, tot2=1670]\n"
     ]
    },
    {
     "ename": "KeyboardInterrupt",
     "evalue": "",
     "output_type": "error",
     "traceback": [
      "\u001b[1;31m---------------------------------------------------------------------------\u001b[0m",
      "\u001b[1;31mKeyboardInterrupt\u001b[0m                         Traceback (most recent call last)",
      "Cell \u001b[1;32mIn [154], line 17\u001b[0m\n\u001b[0;32m     12\u001b[0m user_embed \u001b[39m=\u001b[39m model\u001b[39m.\u001b[39muser_embed(torch\u001b[39m.\u001b[39mtensor(test_user)\u001b[39m.\u001b[39mcuda())\u001b[39m.\u001b[39mdetach()\u001b[39m.\u001b[39mcpu()\u001b[39m.\u001b[39mnumpy()\n\u001b[0;32m     13\u001b[0m \u001b[39m# sims2 = np.dot(user_embed,np.array(trn_item_embeds).T)\u001b[39;00m\n\u001b[0;32m     14\u001b[0m \u001b[39m# arts_fetch2 = np.random.choice(trn_item_ids,30000)\u001b[39;00m\n\u001b[0;32m     15\u001b[0m \u001b[39m# arts_fetch1 = np.array(top_items)[np.argsort(sims2)[-1500:]]\u001b[39;00m\n\u001b[0;32m     16\u001b[0m \u001b[39m# arts_fetch2 = np.array(top_items)[np.argsort(sims2)[:148500]]\u001b[39;00m\n\u001b[1;32m---> 17\u001b[0m sim,idx \u001b[39m=\u001b[39m  index\u001b[39m.\u001b[39msearch(np\u001b[39m.\u001b[39marray([user_embed]),\u001b[39m3000\u001b[39m)\n\u001b[0;32m     19\u001b[0m \u001b[39m# gt_arts2 = item_trn[item_trn.user_id==test_user].item_id.values\u001b[39;00m\n\u001b[0;32m     20\u001b[0m gt_arts \u001b[39m=\u001b[39m gt_item\u001b[39m.\u001b[39mloc[test_user]\n",
      "File \u001b[1;32mh:\\Anaconda\\envs\\tt\\lib\\site-packages\\faiss\\class_wrappers.py:343\u001b[0m, in \u001b[0;36mhandle_Index.<locals>.replacement_search\u001b[1;34m(self, x, k, params, D, I)\u001b[0m\n\u001b[0;32m    340\u001b[0m \u001b[39melse\u001b[39;00m:\n\u001b[0;32m    341\u001b[0m     \u001b[39massert\u001b[39;00m I\u001b[39m.\u001b[39mshape \u001b[39m==\u001b[39m (n, k)\n\u001b[1;32m--> 343\u001b[0m \u001b[39mself\u001b[39;49m\u001b[39m.\u001b[39;49msearch_c(n, swig_ptr(x), k, swig_ptr(D), swig_ptr(I), params)\n\u001b[0;32m    344\u001b[0m \u001b[39mreturn\u001b[39;00m D, I\n",
      "File \u001b[1;32mh:\\Anaconda\\envs\\tt\\lib\\site-packages\\faiss\\swigfaiss_avx2.py:2261\u001b[0m, in \u001b[0;36mIndexFlat.search\u001b[1;34m(self, n, x, k, distances, labels, params)\u001b[0m\n\u001b[0;32m   2260\u001b[0m \u001b[39mdef\u001b[39;00m \u001b[39msearch\u001b[39m(\u001b[39mself\u001b[39m, n, x, k, distances, labels, params\u001b[39m=\u001b[39m\u001b[39mNone\u001b[39;00m):\n\u001b[1;32m-> 2261\u001b[0m     \u001b[39mreturn\u001b[39;00m _swigfaiss_avx2\u001b[39m.\u001b[39;49mIndexFlat_search(\u001b[39mself\u001b[39;49m, n, x, k, distances, labels, params)\n",
      "\u001b[1;31mKeyboardInterrupt\u001b[0m: "
     ]
    }
   ],
   "source": [
    "# test_user_ids = list(item_val.user_id.unique())\n",
    "# gt_item = item_val.groupby(\"user_id\")[\"item_id\"].apply(list)\n",
    "# gt_item2 = item_last[item_last.user_id.isin(test_user_ids)].set_index(\"user_id\")\n",
    "# np.random.shuffle(test_user_ids)\n",
    "count1 =0 \n",
    "count2 = 0\n",
    "total1 = 0\n",
    "total2 = 0\n",
    "check = 0\n",
    "with tqdm(total=len(test_user_ids)) as pbar:\n",
    "    for test_user in test_user_ids:\n",
    "        user_embed = model.user_embed(torch.tensor(test_user).cuda()).detach().cpu().numpy()\n",
    "        # sims2 = np.dot(user_embed,np.array(trn_item_embeds).T)\n",
    "        # arts_fetch2 = np.random.choice(trn_item_ids,30000)\n",
    "        # arts_fetch1 = np.array(top_items)[np.argsort(sims2)[-1500:]]\n",
    "        # arts_fetch2 = np.array(top_items)[np.argsort(sims2)[:148500]]\n",
    "        sim,idx =  index.search(np.array([user_embed]),3000)\n",
    "        \n",
    "        # gt_arts2 = item_trn[item_trn.user_id==test_user].item_id.values\n",
    "        gt_arts = gt_item.loc[test_user]\n",
    "        gt_arts = [item2idx[x] for x in gt_arts]\n",
    "        gt_arts2 = gt_item2.loc[test_user].item_id\n",
    "        gt_arts2 = [item2idx[x] for x in [gt_arts2]]\n",
    "        count1+=len(set(gt_arts).intersection(set(idx[0][:])))\n",
    "        count2+=len(set(gt_arts2).intersection(set(idx[0][:])))\n",
    "        check+=len(set(gt_arts).intersection(set(gt_arts2)))\n",
    "        total1+=len(gt_arts)\n",
    "        total2+=len(gt_arts2)\n",
    "        pbar.update(1)\n",
    "        pbar.set_postfix(hit1=count1,hit2=count2,t=total1,tot2=total2)"
   ]
  },
  {
   "cell_type": "code",
   "execution_count": 1,
   "metadata": {},
   "outputs": [
    {
     "ename": "NameError",
     "evalue": "name 'tqdm' is not defined",
     "output_type": "error",
     "traceback": [
      "\u001b[1;31m---------------------------------------------------------------------------\u001b[0m",
      "\u001b[1;31mNameError\u001b[0m                                 Traceback (most recent call last)",
      "Cell \u001b[1;32mIn [1], line 10\u001b[0m\n\u001b[0;32m      8\u001b[0m total2 \u001b[39m=\u001b[39m \u001b[39m0\u001b[39m\n\u001b[0;32m      9\u001b[0m check \u001b[39m=\u001b[39m \u001b[39m0\u001b[39m\n\u001b[1;32m---> 10\u001b[0m \u001b[39mwith\u001b[39;00m tqdm(total\u001b[39m=\u001b[39m\u001b[39mlen\u001b[39m(test_user_ids)) \u001b[39mas\u001b[39;00m pbar:\n\u001b[0;32m     11\u001b[0m     \u001b[39mfor\u001b[39;00m test_user \u001b[39min\u001b[39;00m test_user_ids:\n\u001b[0;32m     12\u001b[0m         user_embed \u001b[39m=\u001b[39m model\u001b[39m.\u001b[39muser_embed(torch\u001b[39m.\u001b[39mtensor(test_user)\u001b[39m.\u001b[39mcuda())\u001b[39m.\u001b[39mdetach()\u001b[39m.\u001b[39mcpu()\u001b[39m.\u001b[39mnumpy()\n",
      "\u001b[1;31mNameError\u001b[0m: name 'tqdm' is not defined"
     ]
    }
   ],
   "source": [
    "# test_user_ids = list(item_val.user_id.unique())\n",
    "# gt_item = item_val.groupby(\"user_id\")[\"item_id\"].apply(list)\n",
    "# gt_item2 = item_last[item_last.user_id.isin(test_user_ids)].set_index(\"user_id\")\n",
    "# np.random.shuffle(test_user_ids)\n",
    "count1 =0 \n",
    "count2 = 0\n",
    "total1 = 0\n",
    "total2 = 0\n",
    "check = 0\n",
    "with tqdm(total=len(test_user_ids)) as pbar:\n",
    "    for test_user in test_user_ids:\n",
    "        user_embed = model.user_embed(torch.tensor(test_user).cuda()).detach().cpu().numpy()\n",
    "        # sims2 = np.dot(user_embed,np.array(trn_item_embeds).T)\n",
    "        # arts_fetch2 = np.random.choice(trn_item_ids,30000)\n",
    "        # arts_fetch1 = np.array(top_items)[np.argsort(sims2)[-1500:]]\n",
    "        # arts_fetch2 = np.array(top_items)[np.argsort(sims2)[:148500]]\n",
    "        sim,idx =  index.search(np.array([user_embed]),3000)\n",
    "        \n",
    "        # gt_arts2 = item_trn[item_trn.user_id==test_user].item_id.values\n",
    "        gt_arts = gt_item.loc[test_user]\n",
    "        gt_arts = [item2idx[x] for x in gt_arts]\n",
    "        gt_arts2 = gt_item2.loc[test_user].item_id\n",
    "        gt_arts2 = [item2idx[x] for x in [gt_arts2]]\n",
    "        count1+=len(set(gt_arts).intersection(set(idx[0][:])))\n",
    "        count2+=len(set(gt_arts2).intersection(set(idx[0][:])))\n",
    "        check+=len(set(gt_arts).intersection(set(gt_arts2)))\n",
    "        total1+=len(gt_arts)\n",
    "        total2+=len(gt_arts2)\n",
    "        pbar.update(1)\n",
    "        pbar.set_postfix(hit1=count1,hit2=count2,t=total1,tot2=total2)"
   ]
  },
  {
   "cell_type": "code",
   "execution_count": 113,
   "metadata": {},
   "outputs": [
    {
     "data": {
      "text/plain": [
       "(328822, 300000, 328822)"
      ]
     },
     "execution_count": 113,
     "metadata": {},
     "output_type": "execute_result"
    }
   ],
   "source": [
    "max(idx[0]),len(np.unique(idx[0])),max( [item2idx[x] for x in item_val.item_id])"
   ]
  },
  {
   "cell_type": "code",
   "execution_count": 114,
   "metadata": {},
   "outputs": [
    {
     "data": {
      "text/plain": [
       "127262"
      ]
     },
     "execution_count": 114,
     "metadata": {},
     "output_type": "execute_result"
    }
   ],
   "source": [
    "len(set(idx[0]).intersection([item2idx[x] for x in item_val.item_id]))"
   ]
  },
  {
   "cell_type": "code",
   "execution_count": 116,
   "metadata": {},
   "outputs": [
    {
     "data": {
      "text/plain": [
       "(283142, 146418)"
      ]
     },
     "execution_count": 116,
     "metadata": {},
     "output_type": "execute_result"
    }
   ],
   "source": [
    "item_trn.item_id.nunique(), item_val.item_id.nunique()"
   ]
  },
  {
   "cell_type": "code",
   "execution_count": 85,
   "metadata": {},
   "outputs": [
    {
     "data": {
      "text/plain": [
       "([2013],\n",
       " array([   357,    356,    949, ..., 314165, 231708, 142856], dtype=int64))"
      ]
     },
     "execution_count": 85,
     "metadata": {},
     "output_type": "execute_result"
    }
   ],
   "source": [
    "gt_arts,idx[0]"
   ]
  },
  {
   "cell_type": "code",
   "execution_count": 97,
   "metadata": {},
   "outputs": [
    {
     "data": {
      "text/plain": [
       "300000"
      ]
     },
     "execution_count": 97,
     "metadata": {},
     "output_type": "execute_result"
    }
   ],
   "source": [
    "len(sim[0])"
   ]
  },
  {
   "cell_type": "code",
   "execution_count": 27,
   "metadata": {},
   "outputs": [
    {
     "name": "stderr",
     "output_type": "stream",
     "text": [
      "  0%|          | 1983/730966 [00:27<2:47:14, 72.65it/s, hit1=8497, hit2=1088, t=13081, tot2=1982]\n"
     ]
    },
    {
     "ename": "KeyboardInterrupt",
     "evalue": "",
     "output_type": "error",
     "traceback": [
      "\u001b[1;31m---------------------------------------------------------------------------\u001b[0m",
      "\u001b[1;31mKeyboardInterrupt\u001b[0m                         Traceback (most recent call last)",
      "Cell \u001b[1;32mIn [27], line 29\u001b[0m\n\u001b[0;32m     27\u001b[0m total1\u001b[39m+\u001b[39m\u001b[39m=\u001b[39m\u001b[39mlen\u001b[39m(gt_arts)\n\u001b[0;32m     28\u001b[0m total2\u001b[39m+\u001b[39m\u001b[39m=\u001b[39m\u001b[39mlen\u001b[39m(gt_arts2)\n\u001b[1;32m---> 29\u001b[0m pbar\u001b[39m.\u001b[39mupdate(\u001b[39m1\u001b[39m)\n\u001b[0;32m     30\u001b[0m pbar\u001b[39m.\u001b[39mset_postfix(hit1\u001b[39m=\u001b[39mcount1,hit2\u001b[39m=\u001b[39mcount2,t\u001b[39m=\u001b[39mtotal1,tot2\u001b[39m=\u001b[39mtotal2)\n",
      "File \u001b[1;32mh:\\Anaconda\\envs\\tt\\lib\\site-packages\\tqdm\\std.py:1256\u001b[0m, in \u001b[0;36mtqdm.update\u001b[1;34m(self, n)\u001b[0m\n\u001b[0;32m   1254\u001b[0m     \u001b[39mself\u001b[39m\u001b[39m.\u001b[39m_ema_dn(dn)\n\u001b[0;32m   1255\u001b[0m     \u001b[39mself\u001b[39m\u001b[39m.\u001b[39m_ema_dt(dt)\n\u001b[1;32m-> 1256\u001b[0m \u001b[39mself\u001b[39;49m\u001b[39m.\u001b[39;49mrefresh(lock_args\u001b[39m=\u001b[39;49m\u001b[39mself\u001b[39;49m\u001b[39m.\u001b[39;49mlock_args)\n\u001b[0;32m   1257\u001b[0m \u001b[39mif\u001b[39;00m \u001b[39mself\u001b[39m\u001b[39m.\u001b[39mdynamic_miniters:\n\u001b[0;32m   1258\u001b[0m     \u001b[39m# If no `miniters` was specified, adjust automatically to the\u001b[39;00m\n\u001b[0;32m   1259\u001b[0m     \u001b[39m# maximum iteration rate seen so far between two prints.\u001b[39;00m\n\u001b[0;32m   1260\u001b[0m     \u001b[39m# e.g.: After running `tqdm.update(5)`, subsequent\u001b[39;00m\n\u001b[0;32m   1261\u001b[0m     \u001b[39m# calls to `tqdm.update()` will only cause an update after\u001b[39;00m\n\u001b[0;32m   1262\u001b[0m     \u001b[39m# at least 5 more iterations.\u001b[39;00m\n\u001b[0;32m   1263\u001b[0m     \u001b[39mif\u001b[39;00m \u001b[39mself\u001b[39m\u001b[39m.\u001b[39mmaxinterval \u001b[39mand\u001b[39;00m dt \u001b[39m>\u001b[39m\u001b[39m=\u001b[39m \u001b[39mself\u001b[39m\u001b[39m.\u001b[39mmaxinterval:\n",
      "File \u001b[1;32mh:\\Anaconda\\envs\\tt\\lib\\site-packages\\tqdm\\std.py:1361\u001b[0m, in \u001b[0;36mtqdm.refresh\u001b[1;34m(self, nolock, lock_args)\u001b[0m\n\u001b[0;32m   1359\u001b[0m     \u001b[39melse\u001b[39;00m:\n\u001b[0;32m   1360\u001b[0m         \u001b[39mself\u001b[39m\u001b[39m.\u001b[39m_lock\u001b[39m.\u001b[39macquire()\n\u001b[1;32m-> 1361\u001b[0m \u001b[39mself\u001b[39;49m\u001b[39m.\u001b[39;49mdisplay()\n\u001b[0;32m   1362\u001b[0m \u001b[39mif\u001b[39;00m \u001b[39mnot\u001b[39;00m nolock:\n\u001b[0;32m   1363\u001b[0m     \u001b[39mself\u001b[39m\u001b[39m.\u001b[39m_lock\u001b[39m.\u001b[39mrelease()\n",
      "File \u001b[1;32mh:\\Anaconda\\envs\\tt\\lib\\site-packages\\tqdm\\std.py:1509\u001b[0m, in \u001b[0;36mtqdm.display\u001b[1;34m(self, msg, pos)\u001b[0m\n\u001b[0;32m   1507\u001b[0m \u001b[39mif\u001b[39;00m pos:\n\u001b[0;32m   1508\u001b[0m     \u001b[39mself\u001b[39m\u001b[39m.\u001b[39mmoveto(pos)\n\u001b[1;32m-> 1509\u001b[0m \u001b[39mself\u001b[39;49m\u001b[39m.\u001b[39;49msp(\u001b[39mself\u001b[39;49m\u001b[39m.\u001b[39;49m\u001b[39m__str__\u001b[39;49m() \u001b[39mif\u001b[39;49;00m msg \u001b[39mis\u001b[39;49;00m \u001b[39mNone\u001b[39;49;00m \u001b[39melse\u001b[39;49;00m msg)\n\u001b[0;32m   1510\u001b[0m \u001b[39mif\u001b[39;00m pos:\n\u001b[0;32m   1511\u001b[0m     \u001b[39mself\u001b[39m\u001b[39m.\u001b[39mmoveto(\u001b[39m-\u001b[39mpos)\n",
      "File \u001b[1;32mh:\\Anaconda\\envs\\tt\\lib\\site-packages\\tqdm\\std.py:350\u001b[0m, in \u001b[0;36mtqdm.status_printer.<locals>.print_status\u001b[1;34m(s)\u001b[0m\n\u001b[0;32m    348\u001b[0m \u001b[39mdef\u001b[39;00m \u001b[39mprint_status\u001b[39m(s):\n\u001b[0;32m    349\u001b[0m     len_s \u001b[39m=\u001b[39m disp_len(s)\n\u001b[1;32m--> 350\u001b[0m     fp_write(\u001b[39m'\u001b[39;49m\u001b[39m\\r\u001b[39;49;00m\u001b[39m'\u001b[39;49m \u001b[39m+\u001b[39;49m s \u001b[39m+\u001b[39;49m (\u001b[39m'\u001b[39;49m\u001b[39m \u001b[39;49m\u001b[39m'\u001b[39;49m \u001b[39m*\u001b[39;49m \u001b[39mmax\u001b[39;49m(last_len[\u001b[39m0\u001b[39;49m] \u001b[39m-\u001b[39;49m len_s, \u001b[39m0\u001b[39;49m)))\n\u001b[0;32m    351\u001b[0m     last_len[\u001b[39m0\u001b[39m] \u001b[39m=\u001b[39m len_s\n",
      "File \u001b[1;32mh:\\Anaconda\\envs\\tt\\lib\\site-packages\\tqdm\\std.py:344\u001b[0m, in \u001b[0;36mtqdm.status_printer.<locals>.fp_write\u001b[1;34m(s)\u001b[0m\n\u001b[0;32m    342\u001b[0m \u001b[39mdef\u001b[39;00m \u001b[39mfp_write\u001b[39m(s):\n\u001b[0;32m    343\u001b[0m     fp\u001b[39m.\u001b[39mwrite(_unicode(s))\n\u001b[1;32m--> 344\u001b[0m     fp_flush()\n",
      "File \u001b[1;32mh:\\Anaconda\\envs\\tt\\lib\\site-packages\\tqdm\\utils.py:145\u001b[0m, in \u001b[0;36mDisableOnWriteError.disable_on_exception.<locals>.inner\u001b[1;34m(*args, **kwargs)\u001b[0m\n\u001b[0;32m    143\u001b[0m \u001b[39mdef\u001b[39;00m \u001b[39minner\u001b[39m(\u001b[39m*\u001b[39margs, \u001b[39m*\u001b[39m\u001b[39m*\u001b[39mkwargs):\n\u001b[0;32m    144\u001b[0m     \u001b[39mtry\u001b[39;00m:\n\u001b[1;32m--> 145\u001b[0m         \u001b[39mreturn\u001b[39;00m func(\u001b[39m*\u001b[39margs, \u001b[39m*\u001b[39m\u001b[39m*\u001b[39mkwargs)\n\u001b[0;32m    146\u001b[0m     \u001b[39mexcept\u001b[39;00m \u001b[39mOSError\u001b[39;00m \u001b[39mas\u001b[39;00m e:\n\u001b[0;32m    147\u001b[0m         \u001b[39mif\u001b[39;00m e\u001b[39m.\u001b[39merrno \u001b[39m!=\u001b[39m \u001b[39m5\u001b[39m:\n",
      "File \u001b[1;32mh:\\Anaconda\\envs\\tt\\lib\\site-packages\\ipykernel\\iostream.py:480\u001b[0m, in \u001b[0;36mOutStream.flush\u001b[1;34m(self)\u001b[0m\n\u001b[0;32m    478\u001b[0m     \u001b[39mself\u001b[39m\u001b[39m.\u001b[39mpub_thread\u001b[39m.\u001b[39mschedule(evt\u001b[39m.\u001b[39mset)\n\u001b[0;32m    479\u001b[0m     \u001b[39m# and give a timeout to avoid\u001b[39;00m\n\u001b[1;32m--> 480\u001b[0m     \u001b[39mif\u001b[39;00m \u001b[39mnot\u001b[39;00m evt\u001b[39m.\u001b[39;49mwait(\u001b[39mself\u001b[39;49m\u001b[39m.\u001b[39;49mflush_timeout):\n\u001b[0;32m    481\u001b[0m         \u001b[39m# write directly to __stderr__ instead of warning because\u001b[39;00m\n\u001b[0;32m    482\u001b[0m         \u001b[39m# if this is happening sys.stderr may be the problem.\u001b[39;00m\n\u001b[0;32m    483\u001b[0m         \u001b[39mprint\u001b[39m(\u001b[39m\"\u001b[39m\u001b[39mIOStream.flush timed out\u001b[39m\u001b[39m\"\u001b[39m, file\u001b[39m=\u001b[39msys\u001b[39m.\u001b[39m__stderr__)\n\u001b[0;32m    484\u001b[0m \u001b[39melse\u001b[39;00m:\n",
      "File \u001b[1;32mh:\\Anaconda\\envs\\tt\\lib\\threading.py:607\u001b[0m, in \u001b[0;36mEvent.wait\u001b[1;34m(self, timeout)\u001b[0m\n\u001b[0;32m    605\u001b[0m signaled \u001b[39m=\u001b[39m \u001b[39mself\u001b[39m\u001b[39m.\u001b[39m_flag\n\u001b[0;32m    606\u001b[0m \u001b[39mif\u001b[39;00m \u001b[39mnot\u001b[39;00m signaled:\n\u001b[1;32m--> 607\u001b[0m     signaled \u001b[39m=\u001b[39m \u001b[39mself\u001b[39;49m\u001b[39m.\u001b[39;49m_cond\u001b[39m.\u001b[39;49mwait(timeout)\n\u001b[0;32m    608\u001b[0m \u001b[39mreturn\u001b[39;00m signaled\n",
      "File \u001b[1;32mh:\\Anaconda\\envs\\tt\\lib\\threading.py:324\u001b[0m, in \u001b[0;36mCondition.wait\u001b[1;34m(self, timeout)\u001b[0m\n\u001b[0;32m    322\u001b[0m \u001b[39melse\u001b[39;00m:\n\u001b[0;32m    323\u001b[0m     \u001b[39mif\u001b[39;00m timeout \u001b[39m>\u001b[39m \u001b[39m0\u001b[39m:\n\u001b[1;32m--> 324\u001b[0m         gotit \u001b[39m=\u001b[39m waiter\u001b[39m.\u001b[39;49macquire(\u001b[39mTrue\u001b[39;49;00m, timeout)\n\u001b[0;32m    325\u001b[0m     \u001b[39melse\u001b[39;00m:\n\u001b[0;32m    326\u001b[0m         gotit \u001b[39m=\u001b[39m waiter\u001b[39m.\u001b[39macquire(\u001b[39mFalse\u001b[39;00m)\n",
      "\u001b[1;31mKeyboardInterrupt\u001b[0m: "
     ]
    }
   ],
   "source": [
    "test_user_ids_trn = list(item_trn.user_id.unique())\n",
    "gt_item_trn = item_trn.groupby(\"user_id\")[\"item_id\"].apply(list)\n",
    "gt_item_trn2 = item_last[item_last.user_id.isin(test_user_ids_trn)].set_index(\"user_id\")\n",
    "np.random.shuffle(test_user_ids_trn)\n",
    "count1 =0 \n",
    "count2 = 0\n",
    "total1 = 0\n",
    "total2 = 0\n",
    "check = 0\n",
    "with tqdm(total=len(test_user_ids_trn)) as pbar:\n",
    "    for test_user in test_user_ids_trn:\n",
    "        user_embed = model.user_embed(torch.tensor(test_user).cuda()).detach().cpu().numpy()\n",
    "        # sims2 = np.dot(user_embed,np.array(trn_item_embeds).T)\n",
    "        # arts_fetch2 = np.random.choice(trn_item_ids,30000)\n",
    "        # arts_fetch1 = np.array(top_items)[np.argsort(sims2)[-1500:]]\n",
    "        # arts_fetch2 = np.array(top_items)[np.argsort(sims2)[:148500]]\n",
    "        sim,idx =  index.search(np.array([user_embed]),3000)\n",
    "        \n",
    "        # gt_arts2 = item_trn[item_trn.user_id==test_user].item_id.values\n",
    "        gt_arts = gt_item_trn.loc[test_user]\n",
    "        gt_arts = [item2idx[x] for x in gt_arts]\n",
    "        gt_arts2 = gt_item_trn2.loc[test_user].item_id\n",
    "        gt_arts2 = [item2idx[x] for x in [gt_arts2]]\n",
    "        count1+=len(set(gt_arts).intersection(set(idx[0][:3000])))\n",
    "        count2+=len(set(gt_arts2).intersection(set(idx[0][:3000])))\n",
    "        check+=len(set(gt_arts).intersection(set(gt_arts2)))\n",
    "        total1+=len(gt_arts)\n",
    "        total2+=len(gt_arts2)\n",
    "        pbar.update(1)\n",
    "        pbar.set_postfix(hit1=count1,hit2=count2,t=total1,tot2=total2)"
   ]
  },
  {
   "cell_type": "code",
   "execution_count": 155,
   "metadata": {},
   "outputs": [
    {
     "name": "stderr",
     "output_type": "stream",
     "text": [
      "  0%|          | 1716/730966 [00:23<2:43:31, 74.32it/s, hit1=6337, hit2=903, t=1e+4, tot2=1716]\n"
     ]
    },
    {
     "ename": "KeyboardInterrupt",
     "evalue": "",
     "output_type": "error",
     "traceback": [
      "\u001b[1;31m---------------------------------------------------------------------------\u001b[0m",
      "\u001b[1;31mKeyboardInterrupt\u001b[0m                         Traceback (most recent call last)",
      "Cell \u001b[1;32mIn [155], line 17\u001b[0m\n\u001b[0;32m     12\u001b[0m user_embed \u001b[39m=\u001b[39m model\u001b[39m.\u001b[39muser_embed(torch\u001b[39m.\u001b[39mtensor(test_user)\u001b[39m.\u001b[39mcuda())\u001b[39m.\u001b[39mdetach()\u001b[39m.\u001b[39mcpu()\u001b[39m.\u001b[39mnumpy()\n\u001b[0;32m     13\u001b[0m \u001b[39m# sims2 = np.dot(user_embed,np.array(trn_item_embeds).T)\u001b[39;00m\n\u001b[0;32m     14\u001b[0m \u001b[39m# arts_fetch2 = np.random.choice(trn_item_ids,30000)\u001b[39;00m\n\u001b[0;32m     15\u001b[0m \u001b[39m# arts_fetch1 = np.array(top_items)[np.argsort(sims2)[-1500:]]\u001b[39;00m\n\u001b[0;32m     16\u001b[0m \u001b[39m# arts_fetch2 = np.array(top_items)[np.argsort(sims2)[:148500]]\u001b[39;00m\n\u001b[1;32m---> 17\u001b[0m sim,idx \u001b[39m=\u001b[39m  index\u001b[39m.\u001b[39msearch(np\u001b[39m.\u001b[39marray([user_embed]),\u001b[39m3000\u001b[39m)\n\u001b[0;32m     19\u001b[0m \u001b[39m# gt_arts2 = item_trn[item_trn.user_id==test_user].item_id.values\u001b[39;00m\n\u001b[0;32m     20\u001b[0m gt_arts \u001b[39m=\u001b[39m gt_item_trn\u001b[39m.\u001b[39mloc[test_user]\n",
      "File \u001b[1;32mh:\\Anaconda\\envs\\tt\\lib\\site-packages\\faiss\\class_wrappers.py:343\u001b[0m, in \u001b[0;36mhandle_Index.<locals>.replacement_search\u001b[1;34m(self, x, k, params, D, I)\u001b[0m\n\u001b[0;32m    340\u001b[0m \u001b[39melse\u001b[39;00m:\n\u001b[0;32m    341\u001b[0m     \u001b[39massert\u001b[39;00m I\u001b[39m.\u001b[39mshape \u001b[39m==\u001b[39m (n, k)\n\u001b[1;32m--> 343\u001b[0m \u001b[39mself\u001b[39;49m\u001b[39m.\u001b[39;49msearch_c(n, swig_ptr(x), k, swig_ptr(D), swig_ptr(I), params)\n\u001b[0;32m    344\u001b[0m \u001b[39mreturn\u001b[39;00m D, I\n",
      "File \u001b[1;32mh:\\Anaconda\\envs\\tt\\lib\\site-packages\\faiss\\swigfaiss_avx2.py:2261\u001b[0m, in \u001b[0;36mIndexFlat.search\u001b[1;34m(self, n, x, k, distances, labels, params)\u001b[0m\n\u001b[0;32m   2260\u001b[0m \u001b[39mdef\u001b[39;00m \u001b[39msearch\u001b[39m(\u001b[39mself\u001b[39m, n, x, k, distances, labels, params\u001b[39m=\u001b[39m\u001b[39mNone\u001b[39;00m):\n\u001b[1;32m-> 2261\u001b[0m     \u001b[39mreturn\u001b[39;00m _swigfaiss_avx2\u001b[39m.\u001b[39;49mIndexFlat_search(\u001b[39mself\u001b[39;49m, n, x, k, distances, labels, params)\n",
      "\u001b[1;31mKeyboardInterrupt\u001b[0m: "
     ]
    }
   ],
   "source": [
    "# test_user_ids_trn = list(item_trn.user_id.unique())\n",
    "# gt_item_trn = item_trn.groupby(\"user_id\")[\"item_id\"].apply(list)\n",
    "# gt_item_trn2 = item_last[item_last.user_id.isin(test_user_ids_trn)].set_index(\"user_id\")\n",
    "# np.random.shuffle(test_user_ids_trn)\n",
    "count1 =0 \n",
    "count2 = 0\n",
    "total1 = 0\n",
    "total2 = 0\n",
    "check = 0\n",
    "with tqdm(total=len(test_user_ids_trn)) as pbar:\n",
    "    for test_user in test_user_ids_trn:\n",
    "        user_embed = model.user_embed(torch.tensor(test_user).cuda()).detach().cpu().numpy()\n",
    "        # sims2 = np.dot(user_embed,np.array(trn_item_embeds).T)\n",
    "        # arts_fetch2 = np.random.choice(trn_item_ids,30000)\n",
    "        # arts_fetch1 = np.array(top_items)[np.argsort(sims2)[-1500:]]\n",
    "        # arts_fetch2 = np.array(top_items)[np.argsort(sims2)[:148500]]\n",
    "        sim,idx =  index.search(np.array([user_embed]),3000)\n",
    "        \n",
    "        # gt_arts2 = item_trn[item_trn.user_id==test_user].item_id.values\n",
    "        gt_arts = gt_item_trn.loc[test_user]\n",
    "        gt_arts = [item2idx[x] for x in gt_arts]\n",
    "        gt_arts2 = gt_item_trn2.loc[test_user].item_id\n",
    "        gt_arts2 = [item2idx[x] for x in [gt_arts2]]\n",
    "        count1+=len(set(gt_arts).intersection(set(idx[0][:3000])))\n",
    "        count2+=len(set(gt_arts2).intersection(set(idx[0][:3000])))\n",
    "        check+=len(set(gt_arts).intersection(set(gt_arts2)))\n",
    "        total1+=len(gt_arts)\n",
    "        total2+=len(gt_arts2)\n",
    "        pbar.update(1)\n",
    "        pbar.set_postfix(hit1=count1,hit2=count2,t=total1,tot2=total2)"
   ]
  },
  {
   "cell_type": "code",
   "execution_count": 158,
   "metadata": {},
   "outputs": [
    {
     "name": "stderr",
     "output_type": "stream",
     "text": [
      "  0%|          | 1730/730966 [00:21<2:30:18, 80.86it/s, hit1=5767, hit2=850, t=10175, tot2=1730]\n"
     ]
    },
    {
     "ename": "KeyboardInterrupt",
     "evalue": "",
     "output_type": "error",
     "traceback": [
      "\u001b[1;31m---------------------------------------------------------------------------\u001b[0m",
      "\u001b[1;31mKeyboardInterrupt\u001b[0m                         Traceback (most recent call last)",
      "Cell \u001b[1;32mIn [158], line 13\u001b[0m\n\u001b[0;32m      8\u001b[0m user_embed \u001b[39m=\u001b[39m model\u001b[39m.\u001b[39muser_embed(torch\u001b[39m.\u001b[39mtensor(test_user)\u001b[39m.\u001b[39mcuda())\u001b[39m.\u001b[39mdetach()\u001b[39m.\u001b[39mcpu()\u001b[39m.\u001b[39mnumpy()\n\u001b[0;32m      9\u001b[0m \u001b[39m# sims2 = np.dot(user_embed,np.array(trn_item_embeds).T)\u001b[39;00m\n\u001b[0;32m     10\u001b[0m \u001b[39m# arts_fetch2 = np.random.choice(trn_item_ids,30000)\u001b[39;00m\n\u001b[0;32m     11\u001b[0m \u001b[39m# arts_fetch1 = np.array(top_items)[np.argsort(sims2)[-1500:]]\u001b[39;00m\n\u001b[0;32m     12\u001b[0m \u001b[39m# arts_fetch2 = np.array(top_items)[np.argsort(sims2)[:148500]]\u001b[39;00m\n\u001b[1;32m---> 13\u001b[0m sim,idx \u001b[39m=\u001b[39m  index\u001b[39m.\u001b[39msearch(np\u001b[39m.\u001b[39marray([user_embed]),\u001b[39m3000\u001b[39m)\n\u001b[0;32m     15\u001b[0m \u001b[39m# gt_arts2 = item_trn[item_trn.user_id==test_user].item_id.values\u001b[39;00m\n\u001b[0;32m     16\u001b[0m gt_arts \u001b[39m=\u001b[39m gt_item_trn\u001b[39m.\u001b[39mloc[test_user]\n",
      "File \u001b[1;32mh:\\Anaconda\\envs\\tt\\lib\\site-packages\\faiss\\class_wrappers.py:343\u001b[0m, in \u001b[0;36mhandle_Index.<locals>.replacement_search\u001b[1;34m(self, x, k, params, D, I)\u001b[0m\n\u001b[0;32m    340\u001b[0m \u001b[39melse\u001b[39;00m:\n\u001b[0;32m    341\u001b[0m     \u001b[39massert\u001b[39;00m I\u001b[39m.\u001b[39mshape \u001b[39m==\u001b[39m (n, k)\n\u001b[1;32m--> 343\u001b[0m \u001b[39mself\u001b[39;49m\u001b[39m.\u001b[39;49msearch_c(n, swig_ptr(x), k, swig_ptr(D), swig_ptr(I), params)\n\u001b[0;32m    344\u001b[0m \u001b[39mreturn\u001b[39;00m D, I\n",
      "File \u001b[1;32mh:\\Anaconda\\envs\\tt\\lib\\site-packages\\faiss\\swigfaiss_avx2.py:2261\u001b[0m, in \u001b[0;36mIndexFlat.search\u001b[1;34m(self, n, x, k, distances, labels, params)\u001b[0m\n\u001b[0;32m   2260\u001b[0m \u001b[39mdef\u001b[39;00m \u001b[39msearch\u001b[39m(\u001b[39mself\u001b[39m, n, x, k, distances, labels, params\u001b[39m=\u001b[39m\u001b[39mNone\u001b[39;00m):\n\u001b[1;32m-> 2261\u001b[0m     \u001b[39mreturn\u001b[39;00m _swigfaiss_avx2\u001b[39m.\u001b[39;49mIndexFlat_search(\u001b[39mself\u001b[39;49m, n, x, k, distances, labels, params)\n",
      "\u001b[1;31mKeyboardInterrupt\u001b[0m: "
     ]
    }
   ],
   "source": [
    "count1 =0 \n",
    "count2 = 0\n",
    "total1 = 0\n",
    "total2 = 0\n",
    "check = 0\n",
    "with tqdm(total=len(test_user_ids_trn)) as pbar:\n",
    "    for test_user in test_user_ids_trn:\n",
    "        user_embed = model.user_embed(torch.tensor(test_user).cuda()).detach().cpu().numpy()\n",
    "        # sims2 = np.dot(user_embed,np.array(trn_item_embeds).T)\n",
    "        # arts_fetch2 = np.random.choice(trn_item_ids,30000)\n",
    "        # arts_fetch1 = np.array(top_items)[np.argsort(sims2)[-1500:]]\n",
    "        # arts_fetch2 = np.array(top_items)[np.argsort(sims2)[:148500]]\n",
    "        sim,idx =  index.search(np.array([user_embed]),3000)\n",
    "        \n",
    "        # gt_arts2 = item_trn[item_trn.user_id==test_user].item_id.values\n",
    "        gt_arts = gt_item_trn.loc[test_user]\n",
    "        gt_arts = [item2idx[x] for x in gt_arts]\n",
    "        gt_arts2 = gt_item_trn2.loc[test_user].item_id\n",
    "        gt_arts2 = [item2idx[x] for x in [gt_arts2]]\n",
    "        count1+=len(set(gt_arts).intersection(set(idx[0][:3000])))\n",
    "        count2+=len(set(gt_arts2).intersection(set(idx[0][:3000])))\n",
    "        check+=len(set(gt_arts).intersection(set(gt_arts2)))\n",
    "        total1+=len(gt_arts)\n",
    "        total2+=len(gt_arts2)\n",
    "        pbar.update(1)\n",
    "        pbar.set_postfix(hit1=count1,hit2=count2,t=total1,tot2=total2)"
   ]
  },
  {
   "cell_type": "code",
   "execution_count": 173,
   "metadata": {},
   "outputs": [
    {
     "name": "stderr",
     "output_type": "stream",
     "text": [
      "  0%|          | 1821/730966 [00:22<2:29:06, 81.50it/s, hit1=6065, hit2=897, t=10656, tot2=1821]\n"
     ]
    },
    {
     "ename": "KeyboardInterrupt",
     "evalue": "",
     "output_type": "error",
     "traceback": [
      "\u001b[1;31m---------------------------------------------------------------------------\u001b[0m",
      "\u001b[1;31mKeyboardInterrupt\u001b[0m                         Traceback (most recent call last)",
      "Cell \u001b[1;32mIn [173], line 17\u001b[0m\n\u001b[0;32m     12\u001b[0m user_embed \u001b[39m=\u001b[39m model\u001b[39m.\u001b[39muser_embed(torch\u001b[39m.\u001b[39mtensor(test_user)\u001b[39m.\u001b[39mcuda())\u001b[39m.\u001b[39mdetach()\u001b[39m.\u001b[39mcpu()\u001b[39m.\u001b[39mnumpy()\n\u001b[0;32m     13\u001b[0m \u001b[39m# sims2 = np.dot(user_embed,np.array(trn_item_embeds).T)\u001b[39;00m\n\u001b[0;32m     14\u001b[0m \u001b[39m# arts_fetch2 = np.random.choice(trn_item_ids,30000)\u001b[39;00m\n\u001b[0;32m     15\u001b[0m \u001b[39m# arts_fetch1 = np.array(top_items)[np.argsort(sims2)[-1500:]]\u001b[39;00m\n\u001b[0;32m     16\u001b[0m \u001b[39m# arts_fetch2 = np.array(top_items)[np.argsort(sims2)[:148500]]\u001b[39;00m\n\u001b[1;32m---> 17\u001b[0m sim,idx \u001b[39m=\u001b[39m  index\u001b[39m.\u001b[39msearch(np\u001b[39m.\u001b[39marray([user_embed]),\u001b[39m3000\u001b[39m)\n\u001b[0;32m     19\u001b[0m \u001b[39m# gt_arts2 = item_trn[item_trn.user_id==test_user].item_id.values\u001b[39;00m\n\u001b[0;32m     20\u001b[0m gt_arts \u001b[39m=\u001b[39m gt_item_trn\u001b[39m.\u001b[39mloc[test_user]\n",
      "File \u001b[1;32mh:\\Anaconda\\envs\\tt\\lib\\site-packages\\faiss\\class_wrappers.py:343\u001b[0m, in \u001b[0;36mhandle_Index.<locals>.replacement_search\u001b[1;34m(self, x, k, params, D, I)\u001b[0m\n\u001b[0;32m    340\u001b[0m \u001b[39melse\u001b[39;00m:\n\u001b[0;32m    341\u001b[0m     \u001b[39massert\u001b[39;00m I\u001b[39m.\u001b[39mshape \u001b[39m==\u001b[39m (n, k)\n\u001b[1;32m--> 343\u001b[0m \u001b[39mself\u001b[39;49m\u001b[39m.\u001b[39;49msearch_c(n, swig_ptr(x), k, swig_ptr(D), swig_ptr(I), params)\n\u001b[0;32m    344\u001b[0m \u001b[39mreturn\u001b[39;00m D, I\n",
      "File \u001b[1;32mh:\\Anaconda\\envs\\tt\\lib\\site-packages\\faiss\\swigfaiss_avx2.py:2261\u001b[0m, in \u001b[0;36mIndexFlat.search\u001b[1;34m(self, n, x, k, distances, labels, params)\u001b[0m\n\u001b[0;32m   2260\u001b[0m \u001b[39mdef\u001b[39;00m \u001b[39msearch\u001b[39m(\u001b[39mself\u001b[39m, n, x, k, distances, labels, params\u001b[39m=\u001b[39m\u001b[39mNone\u001b[39;00m):\n\u001b[1;32m-> 2261\u001b[0m     \u001b[39mreturn\u001b[39;00m _swigfaiss_avx2\u001b[39m.\u001b[39;49mIndexFlat_search(\u001b[39mself\u001b[39;49m, n, x, k, distances, labels, params)\n",
      "\u001b[1;31mKeyboardInterrupt\u001b[0m: "
     ]
    }
   ],
   "source": [
    "# test_user_ids_trn = list(item_trn.user_id.unique())\n",
    "# gt_item_trn = item_trn.groupby(\"user_id\")[\"item_id\"].apply(list)\n",
    "# gt_item_trn2 = item_last[item_last.user_id.isin(test_user_ids_trn)].set_index(\"user_id\")\n",
    "# np.random.shuffle(test_user_ids_trn)\n",
    "count1 =0 \n",
    "count2 = 0\n",
    "total1 = 0\n",
    "total2 = 0\n",
    "check = 0\n",
    "with tqdm(total=len(test_user_ids_trn)) as pbar:\n",
    "    for test_user in test_user_ids_trn:\n",
    "        user_embed = model.user_embed(torch.tensor(test_user).cuda()).detach().cpu().numpy()\n",
    "        # sims2 = np.dot(user_embed,np.array(trn_item_embeds).T)\n",
    "        # arts_fetch2 = np.random.choice(trn_item_ids,30000)\n",
    "        # arts_fetch1 = np.array(top_items)[np.argsort(sims2)[-1500:]]\n",
    "        # arts_fetch2 = np.array(top_items)[np.argsort(sims2)[:148500]]\n",
    "        sim,idx =  index.search(np.array([user_embed]),3000)\n",
    "        \n",
    "        # gt_arts2 = item_trn[item_trn.user_id==test_user].item_id.values\n",
    "        gt_arts = gt_item_trn.loc[test_user]\n",
    "        gt_arts = [item2idx[x] for x in gt_arts]\n",
    "        gt_arts2 = gt_item_trn2.loc[test_user].item_id\n",
    "        gt_arts2 = [item2idx[x] for x in [gt_arts2]]\n",
    "        count1+=len(set(gt_arts).intersection(set(idx[0][:3000])))\n",
    "        count2+=len(set(gt_arts2).intersection(set(idx[0][:3000])))\n",
    "        check+=len(set(gt_arts).intersection(set(gt_arts2)))\n",
    "        total1+=len(gt_arts)\n",
    "        total2+=len(gt_arts2)\n",
    "        pbar.update(1)\n",
    "        pbar.set_postfix(hit1=count1,hit2=count2,t=total1,tot2=total2)"
   ]
  },
  {
   "cell_type": "code",
   "execution_count": 21,
   "metadata": {},
   "outputs": [
    {
     "data": {
      "text/plain": [
       "328823"
      ]
     },
     "execution_count": 21,
     "metadata": {},
     "output_type": "execute_result"
    }
   ],
   "source": [
    "len(trn_item_embeds)"
   ]
  },
  {
   "cell_type": "code",
   "execution_count": 273,
   "metadata": {},
   "outputs": [
    {
     "data": {
      "text/plain": [
       "(326699, 150000)"
      ]
     },
     "execution_count": 273,
     "metadata": {},
     "output_type": "execute_result"
    }
   ],
   "source": [
    "max(top_items),len(set(top_items))"
   ]
  },
  {
   "cell_type": "code",
   "execution_count": 287,
   "metadata": {},
   "outputs": [
    {
     "data": {
      "text/plain": [
       "array([-0.00205872,  0.01067198,  0.00442559,  0.00387845, -0.00243466,\n",
       "       -0.00018402,  0.00366135, -0.00064728,  0.00664593, -0.00826498,\n",
       "        0.00831544,  0.00995937,  0.00281455, -0.00441395,  0.00028359,\n",
       "       -0.00266338, -0.00372765, -0.00231449, -0.00027135, -0.00983913,\n",
       "        0.00378682, -0.00506463,  0.00596974,  0.00934513, -0.00212543,\n",
       "       -0.00384673,  0.00536456,  0.00757025, -0.0020385 , -0.00775156,\n",
       "        0.00721003,  0.00400864,  0.00114823, -0.00374699, -0.0127686 ,\n",
       "       -0.00113352, -0.00088708,  0.0096148 ,  0.01219288,  0.00373809,\n",
       "       -0.00394224,  0.00305708, -0.00365596, -0.00378627, -0.00196633,\n",
       "        0.00321073,  0.01195292, -0.00072244, -0.00443617, -0.00162997,\n",
       "       -0.00321434, -0.01534081,  0.01623973,  0.00530946,  0.00361922,\n",
       "        0.00076687, -0.00397851,  0.0058771 ,  0.00251416, -0.00709711,\n",
       "        0.01413247,  0.00443728, -0.00552901, -0.00657055], dtype=float32)"
      ]
     },
     "execution_count": 287,
     "metadata": {},
     "output_type": "execute_result"
    }
   ],
   "source": [
    "trn_item_embeds[25300]"
   ]
  },
  {
   "cell_type": "code",
   "execution_count": 266,
   "metadata": {},
   "outputs": [
    {
     "data": {
      "text/plain": [
       "25300"
      ]
     },
     "execution_count": 266,
     "metadata": {},
     "output_type": "execute_result"
    }
   ],
   "source": [
    "max(np.array(top_items)[np.argsort(sims2)[-1500:]])"
   ]
  },
  {
   "cell_type": "code",
   "execution_count": 260,
   "metadata": {},
   "outputs": [
    {
     "data": {
      "text/plain": [
       "array([ 4301, 12498,  3350, ...,    86,   862,   357])"
      ]
     },
     "execution_count": 260,
     "metadata": {},
     "output_type": "execute_result"
    }
   ],
   "source": [
    "np.array(top_items)[np.argsort(sims2)[-1500:]]+1"
   ]
  },
  {
   "cell_type": "code",
   "execution_count": null,
   "metadata": {},
   "outputs": [
    {
     "data": {
      "text/plain": [
       "50000"
      ]
     },
     "execution_count": 473,
     "metadata": {},
     "output_type": "execute_result"
    }
   ],
   "source": [
    "len(trn_item_embeds)"
   ]
  },
  {
   "cell_type": "code",
   "execution_count": null,
   "metadata": {},
   "outputs": [
    {
     "data": {
      "text/plain": [
       "(328823, 100)"
      ]
     },
     "metadata": {},
     "output_type": "display_data"
    }
   ],
   "source": [
    "len(item_embed_val),len(item_embed_val[0])"
   ]
  },
  {
   "cell_type": "code",
   "execution_count": null,
   "metadata": {},
   "outputs": [],
   "source": [
    "item_hist_val_idx = item_hist_val.groupby(\"user_id\")[\"item_id\"].apply(list)"
   ]
  },
  {
   "cell_type": "code",
   "execution_count": null,
   "metadata": {},
   "outputs": [
    {
     "data": {
      "text/plain": [
       "182741"
      ]
     },
     "metadata": {},
     "output_type": "display_data"
    }
   ],
   "source": [
    "val_user_id = item_hist_val.user_id.unique()\n",
    "len(val_user_id)\n"
   ]
  },
  {
   "cell_type": "code",
   "execution_count": null,
   "metadata": {},
   "outputs": [
    {
     "data": {
      "text/plain": [
       "(182741, 986)"
      ]
     },
     "metadata": {},
     "output_type": "display_data"
    }
   ],
   "source": [
    "user_feature_val = user_feature.loc[val_user_id]\n",
    "user_feature_val.shape"
   ]
  },
  {
   "cell_type": "code",
   "execution_count": null,
   "metadata": {},
   "outputs": [
    {
     "data": {
      "text/plain": [
       "50000"
      ]
     },
     "execution_count": 457,
     "metadata": {},
     "output_type": "execute_result"
    }
   ],
   "source": [
    "train_data.item_id.nunique()"
   ]
  },
  {
   "cell_type": "code",
   "execution_count": null,
   "metadata": {},
   "outputs": [
    {
     "name": "stderr",
     "output_type": "stream",
     "text": [
      "100%|██████████| 2856/2856 [00:17<00:00, 162.46it/s]\n"
     ]
    }
   ],
   "source": [
    "user_embed_val = []\n",
    "\n",
    "\n",
    "for ii in tqdm(range(0,user_feature_val.shape[0],64)):\n",
    "    user_feature_t = user_feature_val.iloc[ii:ii+64].values\n",
    "    # user_feature_t = np.zeros([128,986])\n",
    "    user_feature_t = user_feature_t.astype(np.float32)\n",
    "    # print(user_feature_t.shape)\n",
    "    user_embed = model.user_embed(torch.tensor(user_feature_t).cuda())\n",
    "    user_embed = user_embed.detach().cpu().numpy()\n",
    "#     print(user_embed.shape)\n",
    "    user_embed_val.extend(user_embed)\n"
   ]
  },
  {
   "cell_type": "code",
   "execution_count": null,
   "metadata": {},
   "outputs": [
    {
     "data": {
      "text/plain": [
       "(182741,\n",
       " (100,),\n",
       " array([nan, nan, nan, nan, nan, nan, nan, nan, nan, nan, nan, nan, nan,\n",
       "        nan, nan, nan, nan, nan, nan, nan, nan, nan, nan, nan, nan, nan,\n",
       "        nan, nan, nan, nan, nan, nan, nan, nan, nan, nan, nan, nan, nan,\n",
       "        nan, nan, nan, nan, nan, nan, nan, nan, nan, nan, nan, nan, nan,\n",
       "        nan, nan, nan, nan, nan, nan, nan, nan, nan, nan, nan, nan, nan,\n",
       "        nan, nan, nan, nan, nan, nan, nan, nan, nan, nan, nan, nan, nan,\n",
       "        nan, nan, nan, nan, nan, nan, nan, nan, nan, nan, nan, nan, nan,\n",
       "        nan, nan, nan, nan, nan, nan, nan, nan, nan], dtype=float32))"
      ]
     },
     "metadata": {},
     "output_type": "display_data"
    }
   ],
   "source": [
    "len(user_embed_val), user_embed_val[182740].shape,user_embed_val[0]"
   ]
  },
  {
   "cell_type": "code",
   "execution_count": null,
   "metadata": {},
   "outputs": [
    {
     "ename": "NameError",
     "evalue": "name 'factor_num' is not defined",
     "output_type": "error",
     "traceback": [
      "\u001b[1;31m---------------------------------------------------------------------------\u001b[0m\n",
      "\u001b[1;31mNameError\u001b[0m                                 Traceback (most recent call last)\n",
      "Cell \u001b[1;32mIn [1], line 2\u001b[0m\n",
      "\u001b[0;32m      1\u001b[0m \u001b[39mimport\u001b[39;00m \u001b[39mfaiss\u001b[39;00m\n",
      "\u001b[1;32m----> 2\u001b[0m index \u001b[39m=\u001b[39m faiss\u001b[39m.\u001b[39mIndexFlatIP(factor_num)\n",
      "\u001b[0;32m      3\u001b[0m index\u001b[39m.\u001b[39madd(item_embed_val)\n",
      "\n",
      "\u001b[1;31mNameError\u001b[0m: name 'factor_num' is not defined"
     ]
    }
   ],
   "source": [
    "import faiss\n",
    "index = faiss.IndexFlatIP(factor_num)\n",
    "index.add(item_embed_val)"
   ]
  }
 ],
 "metadata": {
  "kernelspec": {
   "display_name": "Python 3",
   "language": "python",
   "name": "python3"
  },
  "language_info": {
   "codemirror_mode": {
    "name": "ipython",
    "version": 3
   },
   "file_extension": ".py",
   "mimetype": "text/x-python",
   "name": "python",
   "nbconvert_exporter": "python",
   "pygments_lexer": "ipython3",
   "version": "3.10.6"
  },
  "orig_nbformat": 4,
  "vscode": {
   "interpreter": {
    "hash": "68eae4f3e7f55890dc732af53cfdd1bb6aef18f4a2f4f781c707b84e0af1643c"
   }
  }
 },
 "nbformat": 4,
 "nbformat_minor": 2
}
