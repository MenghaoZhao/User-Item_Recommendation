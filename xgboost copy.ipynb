{
 "cells": [
  {
   "cell_type": "code",
   "execution_count": 2,
   "metadata": {},
   "outputs": [],
   "source": [
    "import pandas as pd\n",
    "user = pd.read_csv(\"target_users.tsv\")\n",
    "item = pd.read_csv(\"item_history.tsv\",sep=\"\\t\")\n"
   ]
  },
  {
   "cell_type": "code",
   "execution_count": 3,
   "metadata": {},
   "outputs": [],
   "source": [
    "user_master = pd.read_csv(\"user_master.tsv\",sep=\"\\t\")"
   ]
  },
  {
   "attachments": {},
   "cell_type": "markdown",
   "metadata": {},
   "source": [
    "### item to idx mapping"
   ]
  },
  {
   "cell_type": "code",
   "execution_count": 4,
   "metadata": {},
   "outputs": [],
   "source": [
    "item_ids = item.item_id.unique()\n",
    "user_ids = item.user_id.unique()\n",
    "item2idx = {item:idx for idx,item in enumerate(item_ids)}\n",
    "idx2item = {idx:item for item,idx in item2idx.items()}\n",
    "user2idx = {user:idx for idx,user in enumerate(user_ids)}\n",
    "idx2user = {idx:user for idx,user in enumerate(user_ids)}"
   ]
  },
  {
   "cell_type": "code",
   "execution_count": 5,
   "metadata": {},
   "outputs": [
    {
     "data": {
      "text/plain": [
       "(913707, 27078)"
      ]
     },
     "execution_count": 5,
     "metadata": {},
     "output_type": "execute_result"
    }
   ],
   "source": [
    "item_user = set(item.user_id)\n",
    "test_user = set(user.user_id.values)\n",
    "len(item_user), len(test_user - item_user) "
   ]
  },
  {
   "cell_type": "code",
   "execution_count": 6,
   "metadata": {},
   "outputs": [],
   "source": [
    "extra_user_ids = list(test_user - item_user)\n",
    "start_id = len(user_ids)\n",
    "for i in range(len(extra_user_ids)):\n",
    "    user2idx[extra_user_ids[i]] = start_id+i\n",
    "    idx2user[start_id+i] = extra_user_ids[i]"
   ]
  },
  {
   "cell_type": "code",
   "execution_count": 8,
   "metadata": {},
   "outputs": [
    {
     "data": {
      "text/plain": [
       "set()"
      ]
     },
     "execution_count": 8,
     "metadata": {},
     "output_type": "execute_result"
    }
   ],
   "source": [
    "test_user - set(user_master.user_id)"
   ]
  },
  {
   "cell_type": "code",
   "execution_count": 9,
   "metadata": {},
   "outputs": [
    {
     "data": {
      "text/plain": [
       "(6.9168190678193335, 19.21990250073748)"
      ]
     },
     "execution_count": 9,
     "metadata": {},
     "output_type": "execute_result"
    }
   ],
   "source": [
    "item.groupby(\"user_id\")[\"user_id\"].count().mean(),\\\n",
    "    item.groupby(\"item_id\")[\"item_id\"].count().mean()"
   ]
  },
  {
   "cell_type": "code",
   "execution_count": 10,
   "metadata": {},
   "outputs": [
    {
     "data": {
      "text/plain": [
       "((6319946, 4), 1640955, 1640953)"
      ]
     },
     "execution_count": 10,
     "metadata": {},
     "output_type": "execute_result"
    }
   ],
   "source": [
    "item.shape,  item.user_id.max(), user.user_id.max(),"
   ]
  },
  {
   "cell_type": "markdown",
   "metadata": {},
   "source": [
    "### group train data by timestamp"
   ]
  },
  {
   "cell_type": "code",
   "execution_count": 7,
   "metadata": {},
   "outputs": [],
   "source": [
    "\n",
    "timestamps = sorted(item.latest_timestamp.unique())\n",
    "timestamp_order = {t:idx for idx,t in enumerate(timestamps)}\n",
    "\n",
    "# timestamps"
   ]
  },
  {
   "cell_type": "code",
   "execution_count": 8,
   "metadata": {},
   "outputs": [
    {
     "data": {
      "text/plain": [
       "90"
      ]
     },
     "execution_count": 8,
     "metadata": {},
     "output_type": "execute_result"
    }
   ],
   "source": [
    "item[\"timestamp_rank\"] = item[\"latest_timestamp\"].apply(lambda x:timestamp_order[x])\n",
    "# item = item.drop(columns=[\"timestamp_rank\"])\n",
    "item.timestamp_rank.nunique()"
   ]
  },
  {
   "cell_type": "code",
   "execution_count": 9,
   "metadata": {},
   "outputs": [
    {
     "data": {
      "text/html": [
       "<div>\n",
       "<style scoped>\n",
       "    .dataframe tbody tr th:only-of-type {\n",
       "        vertical-align: middle;\n",
       "    }\n",
       "\n",
       "    .dataframe tbody tr th {\n",
       "        vertical-align: top;\n",
       "    }\n",
       "\n",
       "    .dataframe thead th {\n",
       "        text-align: right;\n",
       "    }\n",
       "</style>\n",
       "<table border=\"1\" class=\"dataframe\">\n",
       "  <thead>\n",
       "    <tr style=\"text-align: right;\">\n",
       "      <th></th>\n",
       "      <th>user_id</th>\n",
       "      <th>item_id</th>\n",
       "      <th>latest_timestamp</th>\n",
       "      <th>frequency</th>\n",
       "      <th>timestamp_rank</th>\n",
       "      <th>time_group</th>\n",
       "    </tr>\n",
       "  </thead>\n",
       "  <tbody>\n",
       "    <tr>\n",
       "      <th>0</th>\n",
       "      <td>484</td>\n",
       "      <td>I355496</td>\n",
       "      <td>1587686400</td>\n",
       "      <td>1</td>\n",
       "      <td>84</td>\n",
       "      <td>16</td>\n",
       "    </tr>\n",
       "    <tr>\n",
       "      <th>1</th>\n",
       "      <td>484</td>\n",
       "      <td>I301315</td>\n",
       "      <td>1587686400</td>\n",
       "      <td>1</td>\n",
       "      <td>84</td>\n",
       "      <td>16</td>\n",
       "    </tr>\n",
       "    <tr>\n",
       "      <th>2</th>\n",
       "      <td>815</td>\n",
       "      <td>I146224</td>\n",
       "      <td>1583798400</td>\n",
       "      <td>1</td>\n",
       "      <td>39</td>\n",
       "      <td>7</td>\n",
       "    </tr>\n",
       "    <tr>\n",
       "      <th>3</th>\n",
       "      <td>998</td>\n",
       "      <td>I159337</td>\n",
       "      <td>1581033600</td>\n",
       "      <td>1</td>\n",
       "      <td>7</td>\n",
       "      <td>1</td>\n",
       "    </tr>\n",
       "    <tr>\n",
       "      <th>4</th>\n",
       "      <td>998</td>\n",
       "      <td>I69340</td>\n",
       "      <td>1580688000</td>\n",
       "      <td>1</td>\n",
       "      <td>3</td>\n",
       "      <td>0</td>\n",
       "    </tr>\n",
       "    <tr>\n",
       "      <th>...</th>\n",
       "      <td>...</td>\n",
       "      <td>...</td>\n",
       "      <td>...</td>\n",
       "      <td>...</td>\n",
       "      <td>...</td>\n",
       "      <td>...</td>\n",
       "    </tr>\n",
       "    <tr>\n",
       "      <th>6319941</th>\n",
       "      <td>1640781</td>\n",
       "      <td>I75214</td>\n",
       "      <td>1588032000</td>\n",
       "      <td>1</td>\n",
       "      <td>88</td>\n",
       "      <td>17</td>\n",
       "    </tr>\n",
       "    <tr>\n",
       "      <th>6319942</th>\n",
       "      <td>1640781</td>\n",
       "      <td>I103751</td>\n",
       "      <td>1588032000</td>\n",
       "      <td>1</td>\n",
       "      <td>88</td>\n",
       "      <td>17</td>\n",
       "    </tr>\n",
       "    <tr>\n",
       "      <th>6319943</th>\n",
       "      <td>1640781</td>\n",
       "      <td>I66854</td>\n",
       "      <td>1587772800</td>\n",
       "      <td>1</td>\n",
       "      <td>85</td>\n",
       "      <td>17</td>\n",
       "    </tr>\n",
       "    <tr>\n",
       "      <th>6319944</th>\n",
       "      <td>1640781</td>\n",
       "      <td>I102695</td>\n",
       "      <td>1588032000</td>\n",
       "      <td>1</td>\n",
       "      <td>88</td>\n",
       "      <td>17</td>\n",
       "    </tr>\n",
       "    <tr>\n",
       "      <th>6319945</th>\n",
       "      <td>1640781</td>\n",
       "      <td>I177269</td>\n",
       "      <td>1588032000</td>\n",
       "      <td>1</td>\n",
       "      <td>88</td>\n",
       "      <td>17</td>\n",
       "    </tr>\n",
       "  </tbody>\n",
       "</table>\n",
       "<p>6319946 rows × 6 columns</p>\n",
       "</div>"
      ],
      "text/plain": [
       "         user_id  item_id  latest_timestamp  frequency  timestamp_rank  \\\n",
       "0            484  I355496        1587686400          1              84   \n",
       "1            484  I301315        1587686400          1              84   \n",
       "2            815  I146224        1583798400          1              39   \n",
       "3            998  I159337        1581033600          1               7   \n",
       "4            998   I69340        1580688000          1               3   \n",
       "...          ...      ...               ...        ...             ...   \n",
       "6319941  1640781   I75214        1588032000          1              88   \n",
       "6319942  1640781  I103751        1588032000          1              88   \n",
       "6319943  1640781   I66854        1587772800          1              85   \n",
       "6319944  1640781  I102695        1588032000          1              88   \n",
       "6319945  1640781  I177269        1588032000          1              88   \n",
       "\n",
       "         time_group  \n",
       "0                16  \n",
       "1                16  \n",
       "2                 7  \n",
       "3                 1  \n",
       "4                 0  \n",
       "...             ...  \n",
       "6319941          17  \n",
       "6319942          17  \n",
       "6319943          17  \n",
       "6319944          17  \n",
       "6319945          17  \n",
       "\n",
       "[6319946 rows x 6 columns]"
      ]
     },
     "execution_count": 9,
     "metadata": {},
     "output_type": "execute_result"
    }
   ],
   "source": [
    "item[\"time_group\"] = item[\"timestamp_rank\"].apply(lambda x: x//5)\n",
    "item"
   ]
  },
  {
   "cell_type": "code",
   "execution_count": 10,
   "metadata": {},
   "outputs": [
    {
     "data": {
      "text/plain": [
       "(17,\n",
       " 18,\n",
       " array([16,  7,  1,  0,  3,  5, 17, 12, 13,  8, 14, 10,  9,  2,  6, 15,  4,\n",
       "        11], dtype=int64))"
      ]
     },
     "execution_count": 10,
     "metadata": {},
     "output_type": "execute_result"
    }
   ],
   "source": [
    "item.time_group.max(),item.time_group.nunique(),item.time_group.unique()"
   ]
  },
  {
   "cell_type": "code",
   "execution_count": 11,
   "metadata": {},
   "outputs": [
    {
     "data": {
      "text/plain": [
       "Index(['user_id', 'item_id', 'latest_timestamp', 'frequency', 'time_group'], dtype='object')"
      ]
     },
     "execution_count": 11,
     "metadata": {},
     "output_type": "execute_result"
    }
   ],
   "source": [
    "item.columns"
   ]
  },
  {
   "attachments": {},
   "cell_type": "markdown",
   "metadata": {},
   "source": [
    "### user features"
   ]
  },
  {
   "cell_type": "code",
   "execution_count": 10,
   "metadata": {},
   "outputs": [
    {
     "data": {
      "text/plain": [
       "(940785, 16)"
      ]
     },
     "execution_count": 10,
     "metadata": {},
     "output_type": "execute_result"
    }
   ],
   "source": [
    "user_set = set(user.user_id).union(set(item.user_id))\n",
    "len(user_set)\n",
    "user_info = user_master[user_master.columns[:]]\n",
    "user_info = user_info[user_info.user_id.isin(user_set)].reset_index(drop=True)\n",
    "user_info.shape"
   ]
  },
  {
   "cell_type": "code",
   "execution_count": 11,
   "metadata": {},
   "outputs": [],
   "source": [
    "from sklearn.preprocessing import MultiLabelBinarizer\n",
    "import numpy as np\n",
    "\n",
    "def multihot_encode(user_fea, target, topk = 9999):\n",
    "    feature_list = user_fea[target].apply(lambda x:str(x).split(',')).values\n",
    "    feature_list_multihot = MultiLabelBinarizer().fit_transform(feature_list)\n",
    "    common_feature_idx = np.argsort(feature_list_multihot.sum(axis=0))[-topk:]\n",
    "    common_feature_idx = common_feature_idx[::-1]\n",
    "    # print(feature_list_multihot.sum(axis=0)[common_feature_idx])\n",
    "    # feature_list_multihot = feature_list_multihot.astype(np.bool_)\n",
    "    extra_feature = pd.DataFrame(feature_list_multihot[:,common_feature_idx],dtype=bool)\n",
    "    extra_feature.columns=[target+\"_\"+str(ii) for ii in range(extra_feature.shape[1])]\n",
    "    # print(extra_feature.memory_usage())\n",
    "    return extra_feature"
   ]
  },
  {
   "cell_type": "code",
   "execution_count": 12,
   "metadata": {},
   "outputs": [],
   "source": [
    "for i in [1,3,5]:\n",
    "    feature_list_multihot = multihot_encode(user_info,f\"feature_list{i}\",10)\n",
    "    user_info = pd.concat([user_info,feature_list_multihot],axis=1)"
   ]
  },
  {
   "cell_type": "code",
   "execution_count": 13,
   "metadata": {},
   "outputs": [],
   "source": [
    "user_feature = user_info.set_index(\"user_id\")[list(user_info.columns[1:7]) + \\\n",
    "                        list(user_info.columns[16:])]"
   ]
  },
  {
   "cell_type": "code",
   "execution_count": 14,
   "metadata": {},
   "outputs": [],
   "source": [
    "from sklearn.preprocessing import LabelEncoder\n",
    "for i in range(1,7):\n",
    "    col = \"feature\"+str(i)\n",
    "    le = LabelEncoder()\n",
    "    le.fit(user_feature[col].unique())\n",
    "    user_feature.loc[:,col] = le.transform(user_info[col])"
   ]
  },
  {
   "cell_type": "code",
   "execution_count": 16,
   "metadata": {},
   "outputs": [
    {
     "data": {
      "text/plain": [
       "(Index(['feature1', 'feature2', 'feature3', 'feature4', 'feature5', 'feature6',\n",
       "        'feature_list1_0', 'feature_list1_1', 'feature_list1_2',\n",
       "        'feature_list1_3', 'feature_list1_4', 'feature_list1_5',\n",
       "        'feature_list1_6', 'feature_list1_7', 'feature_list1_8',\n",
       "        'feature_list1_9', 'feature_list3_0', 'feature_list3_1',\n",
       "        'feature_list3_2', 'feature_list3_3', 'feature_list3_4',\n",
       "        'feature_list3_5', 'feature_list3_6', 'feature_list3_7',\n",
       "        'feature_list3_8', 'feature_list3_9', 'feature_list5_0',\n",
       "        'feature_list5_1', 'feature_list5_2', 'feature_list5_3',\n",
       "        'feature_list5_4', 'feature_list5_5', 'feature_list5_6',\n",
       "        'feature_list5_7', 'feature_list5_8', 'feature_list5_9'],\n",
       "       dtype='object'),\n",
       " Index([    484,     815,     998,    1213,    1462,    1962,    2137,    2842,\n",
       "           3472,    3797,\n",
       "        ...\n",
       "        1638755, 1638951, 1639138, 1639195, 1639321, 1639523, 1639795, 1640422,\n",
       "        1640554, 1640781],\n",
       "       dtype='int64', name='user_id', length=940785))"
      ]
     },
     "execution_count": 16,
     "metadata": {},
     "output_type": "execute_result"
    }
   ],
   "source": [
    "user_feature.columns,user_feature.index"
   ]
  },
  {
   "cell_type": "code",
   "execution_count": 26,
   "metadata": {},
   "outputs": [
    {
     "data": {
      "text/html": [
       "<div>\n",
       "<style scoped>\n",
       "    .dataframe tbody tr th:only-of-type {\n",
       "        vertical-align: middle;\n",
       "    }\n",
       "\n",
       "    .dataframe tbody tr th {\n",
       "        vertical-align: top;\n",
       "    }\n",
       "\n",
       "    .dataframe thead th {\n",
       "        text-align: right;\n",
       "    }\n",
       "</style>\n",
       "<table border=\"1\" class=\"dataframe\">\n",
       "  <thead>\n",
       "    <tr style=\"text-align: right;\">\n",
       "      <th></th>\n",
       "      <th>feature1</th>\n",
       "      <th>feature2</th>\n",
       "      <th>feature3</th>\n",
       "      <th>feature4</th>\n",
       "      <th>feature5</th>\n",
       "      <th>feature6</th>\n",
       "      <th>feature_list1_0</th>\n",
       "      <th>feature_list1_1</th>\n",
       "      <th>feature_list1_2</th>\n",
       "      <th>feature_list1_3</th>\n",
       "      <th>...</th>\n",
       "      <th>feature_list5_0</th>\n",
       "      <th>feature_list5_1</th>\n",
       "      <th>feature_list5_2</th>\n",
       "      <th>feature_list5_3</th>\n",
       "      <th>feature_list5_4</th>\n",
       "      <th>feature_list5_5</th>\n",
       "      <th>feature_list5_6</th>\n",
       "      <th>feature_list5_7</th>\n",
       "      <th>feature_list5_8</th>\n",
       "      <th>feature_list5_9</th>\n",
       "    </tr>\n",
       "    <tr>\n",
       "      <th>user_id</th>\n",
       "      <th></th>\n",
       "      <th></th>\n",
       "      <th></th>\n",
       "      <th></th>\n",
       "      <th></th>\n",
       "      <th></th>\n",
       "      <th></th>\n",
       "      <th></th>\n",
       "      <th></th>\n",
       "      <th></th>\n",
       "      <th></th>\n",
       "      <th></th>\n",
       "      <th></th>\n",
       "      <th></th>\n",
       "      <th></th>\n",
       "      <th></th>\n",
       "      <th></th>\n",
       "      <th></th>\n",
       "      <th></th>\n",
       "      <th></th>\n",
       "      <th></th>\n",
       "    </tr>\n",
       "  </thead>\n",
       "  <tbody>\n",
       "    <tr>\n",
       "      <th>484</th>\n",
       "      <td>0</td>\n",
       "      <td>34</td>\n",
       "      <td>5</td>\n",
       "      <td>1</td>\n",
       "      <td>9</td>\n",
       "      <td>7</td>\n",
       "      <td>False</td>\n",
       "      <td>False</td>\n",
       "      <td>False</td>\n",
       "      <td>False</td>\n",
       "      <td>...</td>\n",
       "      <td>True</td>\n",
       "      <td>True</td>\n",
       "      <td>True</td>\n",
       "      <td>True</td>\n",
       "      <td>True</td>\n",
       "      <td>False</td>\n",
       "      <td>True</td>\n",
       "      <td>True</td>\n",
       "      <td>False</td>\n",
       "      <td>True</td>\n",
       "    </tr>\n",
       "    <tr>\n",
       "      <th>815</th>\n",
       "      <td>1</td>\n",
       "      <td>12</td>\n",
       "      <td>5</td>\n",
       "      <td>1</td>\n",
       "      <td>0</td>\n",
       "      <td>2</td>\n",
       "      <td>False</td>\n",
       "      <td>False</td>\n",
       "      <td>False</td>\n",
       "      <td>False</td>\n",
       "      <td>...</td>\n",
       "      <td>False</td>\n",
       "      <td>False</td>\n",
       "      <td>False</td>\n",
       "      <td>False</td>\n",
       "      <td>False</td>\n",
       "      <td>False</td>\n",
       "      <td>False</td>\n",
       "      <td>False</td>\n",
       "      <td>True</td>\n",
       "      <td>False</td>\n",
       "    </tr>\n",
       "    <tr>\n",
       "      <th>998</th>\n",
       "      <td>0</td>\n",
       "      <td>0</td>\n",
       "      <td>5</td>\n",
       "      <td>1</td>\n",
       "      <td>9</td>\n",
       "      <td>3</td>\n",
       "      <td>False</td>\n",
       "      <td>False</td>\n",
       "      <td>False</td>\n",
       "      <td>False</td>\n",
       "      <td>...</td>\n",
       "      <td>True</td>\n",
       "      <td>True</td>\n",
       "      <td>True</td>\n",
       "      <td>True</td>\n",
       "      <td>True</td>\n",
       "      <td>False</td>\n",
       "      <td>True</td>\n",
       "      <td>False</td>\n",
       "      <td>False</td>\n",
       "      <td>True</td>\n",
       "    </tr>\n",
       "    <tr>\n",
       "      <th>1213</th>\n",
       "      <td>0</td>\n",
       "      <td>2</td>\n",
       "      <td>5</td>\n",
       "      <td>1</td>\n",
       "      <td>7</td>\n",
       "      <td>4</td>\n",
       "      <td>False</td>\n",
       "      <td>False</td>\n",
       "      <td>False</td>\n",
       "      <td>False</td>\n",
       "      <td>...</td>\n",
       "      <td>False</td>\n",
       "      <td>False</td>\n",
       "      <td>False</td>\n",
       "      <td>False</td>\n",
       "      <td>False</td>\n",
       "      <td>True</td>\n",
       "      <td>False</td>\n",
       "      <td>False</td>\n",
       "      <td>False</td>\n",
       "      <td>False</td>\n",
       "    </tr>\n",
       "    <tr>\n",
       "      <th>1462</th>\n",
       "      <td>0</td>\n",
       "      <td>5</td>\n",
       "      <td>5</td>\n",
       "      <td>1</td>\n",
       "      <td>6</td>\n",
       "      <td>3</td>\n",
       "      <td>True</td>\n",
       "      <td>True</td>\n",
       "      <td>True</td>\n",
       "      <td>False</td>\n",
       "      <td>...</td>\n",
       "      <td>False</td>\n",
       "      <td>False</td>\n",
       "      <td>False</td>\n",
       "      <td>False</td>\n",
       "      <td>False</td>\n",
       "      <td>True</td>\n",
       "      <td>False</td>\n",
       "      <td>False</td>\n",
       "      <td>False</td>\n",
       "      <td>False</td>\n",
       "    </tr>\n",
       "  </tbody>\n",
       "</table>\n",
       "<p>5 rows × 36 columns</p>\n",
       "</div>"
      ],
      "text/plain": [
       "        feature1 feature2 feature3 feature4 feature5 feature6  \\\n",
       "user_id                                                         \n",
       "484            0       34        5        1        9        7   \n",
       "815            1       12        5        1        0        2   \n",
       "998            0        0        5        1        9        3   \n",
       "1213           0        2        5        1        7        4   \n",
       "1462           0        5        5        1        6        3   \n",
       "\n",
       "         feature_list1_0  feature_list1_1  feature_list1_2  feature_list1_3  \\\n",
       "user_id                                                                       \n",
       "484                False            False            False            False   \n",
       "815                False            False            False            False   \n",
       "998                False            False            False            False   \n",
       "1213               False            False            False            False   \n",
       "1462                True             True             True            False   \n",
       "\n",
       "         ...  feature_list5_0  feature_list5_1  feature_list5_2  \\\n",
       "user_id  ...                                                      \n",
       "484      ...             True             True             True   \n",
       "815      ...            False            False            False   \n",
       "998      ...             True             True             True   \n",
       "1213     ...            False            False            False   \n",
       "1462     ...            False            False            False   \n",
       "\n",
       "         feature_list5_3  feature_list5_4  feature_list5_5  feature_list5_6  \\\n",
       "user_id                                                                       \n",
       "484                 True             True            False             True   \n",
       "815                False            False            False            False   \n",
       "998                 True             True            False             True   \n",
       "1213               False            False             True            False   \n",
       "1462               False            False             True            False   \n",
       "\n",
       "         feature_list5_7  feature_list5_8  feature_list5_9  \n",
       "user_id                                                     \n",
       "484                 True            False             True  \n",
       "815                False             True            False  \n",
       "998                False            False             True  \n",
       "1213               False            False            False  \n",
       "1462               False            False            False  \n",
       "\n",
       "[5 rows x 36 columns]"
      ]
     },
     "execution_count": 26,
     "metadata": {},
     "output_type": "execute_result"
    }
   ],
   "source": [
    "user_feature.head()"
   ]
  },
  {
   "attachments": {},
   "cell_type": "markdown",
   "metadata": {},
   "source": [
    "### train / val split by user_id"
   ]
  },
  {
   "cell_type": "code",
   "execution_count": 76,
   "metadata": {},
   "outputs": [],
   "source": [
    "from sklearn.model_selection import GroupKFold\n",
    "kFold = GroupKFold(n_splits=5)\n",
    "np.random.seed(42)\n",
    "for i, (trn_idx, val_idx) in enumerate(kFold.split(item,item,groups=item[\"user_id\"])):\n",
    "    item_trn = item.iloc[trn_idx]\n",
    "    item_val = item.iloc[val_idx]\n",
    "    break\n"
   ]
  },
  {
   "attachments": {},
   "cell_type": "markdown",
   "metadata": {},
   "source": [
    "### feature engineering"
   ]
  },
  {
   "cell_type": "code",
   "execution_count": 15,
   "metadata": {},
   "outputs": [],
   "source": [
    "from tqdm import tqdm\n",
    "def make_item_features(item_feature):#, max_time_group, time_group_range=10):\n",
    "\n",
    "    grouped_item = item_feature.groupby(\"item_id\")\n",
    "    item_ret = grouped_item[\"user_id\"].agg(item_count=\"count\").reset_index()\n",
    "\n",
    "    item_ret = item_ret.merge(grouped_item[\"timestamp_rank\"].agg(item_max_timerank=\"max\"),on=\"item_id\")\n",
    "    item_ret = item_ret.merge(grouped_item[\"timestamp_rank\"].agg(item_min_timerank=\"min\"),on=\"item_id\")\n",
    "    \n",
    "    item_ret[\"item_encode\"] = item_ret.item_id.apply(lambda x:item2idx[x])\n",
    "    return item_ret\n",
    "\n",
    "def make_user_feature(user_feature,item_feature, item_trn):#,max_time_group, time_group_range=10): \n",
    "    grouped_item = item_feature.groupby(\"user_id\")\n",
    "    item_trn = item_trn.merge(grouped_item[\"item_id\"].agg(user_count=\"count\"),on=\"user_id\",how=\"left\")\n",
    "    item_trn = item_trn.merge(user_feature,on=\"user_id\")\n",
    "    print(\"add user count\", item_trn.user_count.isna().sum())#,item_trn.item_count.isna().sum(),item_trn.user_count.isna().sum())\n",
    "    item_trn = item_trn.fillna({\"user_count\":0})\n",
    "\n",
    "    item_trn = item_trn.merge(grouped_item[\"timestamp_rank\"].agg(user_max_timerank=\"max\"),on=\"user_id\",how=\"left\")\n",
    "    item_trn = item_trn.merge(grouped_item[\"timestamp_rank\"].agg(user_min_timerank=\"min\"),on=\"user_id\",how=\"left\")\n",
    "    print(\"add user time\", item_trn.user_max_timerank.isna().sum())\n",
    "    item_trn = item_trn.fillna({\"user_count\":0, \"user_max_timerank\":grouped_item[\"timestamp_rank\"]\\\n",
    "        .max().mean(),  \"user_min_timerank\":grouped_item[\"timestamp_rank\"].min().mean()})\n",
    "\n",
    "    item_trn[\"user_encode\"] = item_trn.user_id.apply(lambda x:user2idx[x])\n",
    "    return item_trn\n",
    "\n",
    "# cross features\n",
    "def make_user_feature_item(user_feature, item_feature):\n",
    "    item_user_feature = item_feature[[\"user_id\",\"item_id\"]].merge(user_feature,on=[\"user_id\"])\n",
    "    # feature_item_dict = {}\n",
    "    feature_item_grouped = {}\n",
    "    for feature_id in tqdm(range(1,7)):\n",
    "        feature_name = \"feature\"+str(feature_id)\n",
    "        # print(feature_name)\n",
    "        item_fea_group = item_user_feature.groupby([feature_name,\"item_id\"])[\"user_id\"]\\\n",
    "            .count().rename(f\"feature{feature_id}_item\")\n",
    "        feature_item_grouped[feature_name] = item_fea_group\n",
    "        \n",
    "    for feature_id in [1,3,5]:\n",
    "        feature_type = \"feature_list\"+str(feature_id)\n",
    "        # print(feature_name)\n",
    "        for feature_id_i in range(10):\n",
    "            feature_name = feature_type +\"_\"+ str(feature_id_i)\n",
    "            item_fea_group = item_user_feature.groupby([feature_name,\"item_id\"])[\"user_id\"]\\\n",
    "                .count().rename(f\"{feature_name}_item\")\n",
    "            feature_item_grouped[feature_name] = item_fea_group\n",
    "    return feature_item_grouped\n"
   ]
  },
  {
   "cell_type": "code",
   "execution_count": 67,
   "metadata": {},
   "outputs": [
    {
     "data": {
      "text/plain": [
       "(4017008, 4548487, 5276350, 6291123, (6319946, 6))"
      ]
     },
     "execution_count": 67,
     "metadata": {},
     "output_type": "execute_result"
    }
   ],
   "source": [
    "item_counts = item.item_id.value_counts()\n",
    "np.sum(item_counts[:5000]), np.sum(item_counts[:10000]), np.sum(item_counts[:30000]), \\\n",
    "    np.sum(item_counts[:300000]), item.shape\n"
   ]
  },
  {
   "cell_type": "code",
   "execution_count": 125,
   "metadata": {},
   "outputs": [
    {
     "name": "stdout",
     "output_type": "stream",
     "text": [
      "ii 13\n",
      "add user count 158499\n",
      "add user time 158499\n"
     ]
    },
    {
     "name": "stderr",
     "output_type": "stream",
     "text": [
      "100%|██████████| 6/6 [00:09<00:00,  1.57s/it]\n"
     ]
    },
    {
     "name": "stdout",
     "output_type": "stream",
     "text": [
      "merge item feature 83902 (3816615, 51)\n"
     ]
    }
   ],
   "source": [
    "from BPR_lib import reduce_mem\n",
    "time_top_candidates = dict()\n",
    "time_trn_data = dict()\n",
    "time_val_data = dict()\n",
    "time_all_data = dict()\n",
    "for ii in [13,14,15,16,17]:\n",
    "    print(\"ii\", ii)\n",
    "    for split in [\"all\",\"val\"]:#\"train\",\n",
    "        item_split = item \n",
    "        if split==\"train\": item_split = item_trn\n",
    "        elif split==\"val\": item_split = item_val\n",
    "\n",
    "        hist_item = (item_split[item_split.time_group>=ii-10])\n",
    "        hist_item = hist_item[hist_item.time_group<ii]\n",
    "        # top_candidates_df = item_split[item_split.time_group>=ii-3]\n",
    "        top_candidates_df = top_candidates_df[top_candidates_df.time_group==ii]\n",
    "        top_candidates = top_candidates_df.item_id.value_counts().index[:30000]\n",
    "        \n",
    "        df_gt = (item_split[item_split.time_group==ii])\n",
    "        df_gt = df_gt[df_gt.item_id.isin(top_candidates)]\n",
    "        df_gt.loc[:,\"label\"] = 1\n",
    "\n",
    "        df_gt = make_user_feature(user_feature,hist_item,df_gt)\n",
    "        item_fea = make_item_features(hist_item)\n",
    "        time_user_fea_item = make_user_feature_item(user_feature,hist_item)\n",
    "\n",
    "        neg_samples = 10\n",
    "        neg_df_list = []\n",
    "\n",
    "        for i in range(neg_samples):\n",
    "            neg_df = df_gt.copy()\n",
    "            neg_df[\"label\"] = 0\n",
    "            neg_df.loc[:,\"item_id\"] = np.random.choice(top_candidates,neg_df.shape[0])\n",
    "            neg_df_list.append(neg_df)\n",
    "        concat_data = pd.concat([df_gt,*neg_df_list])\n",
    "\n",
    "        concat_data = concat_data.merge(item_fea, on=\"item_id\",how=\"left\")\n",
    "        print(\"merge item feature\", concat_data.item_count.isna().sum(), concat_data.shape)\n",
    "        concat_data = concat_data.fillna({\"item_count\":0,\"item_min_timerank\":\\\n",
    "            item_fea.item_min_timerank.mean(), \"item_max_timerank\": item_fea.item_max_timerank.mean()})\n",
    "        concat_data[\"item_encode\"] = concat_data[\"item_id\"].apply(lambda x:item2idx[x])\n",
    "\n",
    "        concat_data = concat_data.drop(columns = [\"timestamp_rank\",\"frequency\",\"latest_timestamp\",\"time_group\"])\n",
    "        concat_data[\"time_group\"] = ii\n",
    "       \n",
    "        for feature_id in range(1,7):\n",
    "            feature_name = \"feature\"+str(feature_id)\n",
    "            concat_data = concat_data.merge(time_user_fea_item[feature_name],\\\n",
    "                on=[feature_name,\"item_id\"],how=\"left\")\n",
    "            concat_data = concat_data.fillna({f\"{feature_name}_item\":0})\n",
    "            concat_data[feature_name] = concat_data[feature_name].astype(int)\n",
    "        \n",
    "        for feature_id in [1,3,5]:\n",
    "            feature_type = \"feature_list\"+str(feature_id)\n",
    "            # print(feature_name)\n",
    "            for feature_id_i in range(10):\n",
    "                feature_name = feature_type +\"_\"+ str(feature_id_i)\n",
    "                concat_data = concat_data.merge(time_user_fea_item[feature_name],\\\n",
    "                        on=[feature_name,\"item_id\"],how=\"left\")\n",
    "                concat_data = concat_data.fillna({f\"{feature_name}_item\":0})\n",
    "                concat_data[f\"{feature_name}_item\"] = concat_data[f\"{feature_name}_item\"].astype(np.float32)\n",
    "        if split == \"train\": time_trn_data[ii] = concat_data\n",
    "        elif split==\"val\": time_val_data[ii] = concat_data\n",
    "        else: time_all_data[ii] = concat_data\n"
   ]
  },
  {
   "cell_type": "code",
   "execution_count": 55,
   "metadata": {},
   "outputs": [],
   "source": [
    "import pickle\n",
    "time_trn_data = dict()\n",
    "time_all_data = dict()\n",
    "for ii in range(11,18):\n",
    "    # time_trn_data[ii][\"time_group\"] = ii\n",
    "    # time_all_data[ii].to_pickle(f\"xgb_data/all_81_sample10_top3w_{ii}.pkl\")\n",
    "    # time_all_data[ii][\"time_group\"] = ii\n",
    "    # time_all_data[ii].to_pickle(f\"xgb_data/all_80_sample10_top5w_{ii}.pkl\")\n",
    "    time_all_data[ii] = pd.read_pickle(f\"xgb_data/all_80_sample10_top5w_{ii}.pkl\")"
   ]
  },
  {
   "attachments": {},
   "cell_type": "markdown",
   "metadata": {},
   "source": [
    "### LR & XGB classification"
   ]
  },
  {
   "cell_type": "code",
   "execution_count": 80,
   "metadata": {},
   "outputs": [],
   "source": [
    "train_data = pd.concat([time_all_data[ii] for ii in [11,12,16]])\n",
    "val_data_time = time_all_data[16]\n",
    "# val_data_user = pd.concat([time_val_data[ii] for ii in list(range(13,17))])\n"
   ]
  },
  {
   "cell_type": "code",
   "execution_count": 262,
   "metadata": {},
   "outputs": [
    {
     "data": {
      "text/plain": [
       "((12115983, 84), 1101453)"
      ]
     },
     "execution_count": 262,
     "metadata": {},
     "output_type": "execute_result"
    }
   ],
   "source": [
    "train_data.shape,train_data.label.sum()"
   ]
  },
  {
   "cell_type": "code",
   "execution_count": 1,
   "metadata": {},
   "outputs": [],
   "source": [
    "# train_data.shape, val_data_time.shape, val_data_user.shape,time_trn_data[13].shape\n",
    "#     time_trn_item[13].shape,train_data.label.sum(),val_data_user.label.sum()"
   ]
  },
  {
   "cell_type": "code",
   "execution_count": 1009,
   "metadata": {},
   "outputs": [
    {
     "data": {
      "text/plain": [
       "(57210, 77277)"
      ]
     },
     "execution_count": 1009,
     "metadata": {},
     "output_type": "execute_result"
    }
   ],
   "source": [
    "len(set(val_data_user.item_id).intersection(train_data.item_id)),\\\n",
    "    val_data_user.item_id.nunique()"
   ]
  },
  {
   "cell_type": "code",
   "execution_count": 1380,
   "metadata": {},
   "outputs": [
    {
     "data": {
      "text/plain": [
       "(36658, 30000, 30000, 41098)"
      ]
     },
     "execution_count": 1380,
     "metadata": {},
     "output_type": "execute_result"
    }
   ],
   "source": [
    "train_data.item_id.nunique(),time_trn_data[13].item_id.nunique(),\\\n",
    "    val_data_time.item_id.nunique(),val_data_user.item_id.nunique()"
   ]
  },
  {
   "cell_type": "code",
   "execution_count": null,
   "metadata": {},
   "outputs": [],
   "source": [
    "val_data_user.time_group.unique(), train_data.time_group.unique()"
   ]
  },
  {
   "cell_type": "code",
   "execution_count": 1336,
   "metadata": {},
   "outputs": [
    {
     "data": {
      "text/plain": [
       "(46.220843257699215, 187.6863987898326)"
      ]
     },
     "execution_count": 1336,
     "metadata": {},
     "output_type": "execute_result"
    }
   ],
   "source": [
    "val_data_user.item_count.mean(), train_data.item_count.mean()"
   ]
  },
  {
   "cell_type": "code",
   "execution_count": 1404,
   "metadata": {},
   "outputs": [
    {
     "data": {
      "text/plain": [
       "(895689477.7144561, 895691904.8289988, 933698216.3643284)"
      ]
     },
     "execution_count": 1404,
     "metadata": {},
     "output_type": "execute_result"
    }
   ],
   "source": [
    "# val_data_user.user_max_timerank.mean(),train_data.user_max_timerank.mean(),\\\n",
    "#     val_data_time.user_max_timerank.mean()"
   ]
  },
  {
   "cell_type": "code",
   "execution_count": 1094,
   "metadata": {},
   "outputs": [
    {
     "data": {
      "text/plain": [
       "(114977, 68736)"
      ]
     },
     "execution_count": 1094,
     "metadata": {},
     "output_type": "execute_result"
    }
   ],
   "source": [
    "val_data_time.user_id.nunique(), train_data.user_id.nunique(),\\\n",
    "len(set(val_data_time.user_id).intersection(train_data.user_id))"
   ]
  },
  {
   "cell_type": "code",
   "execution_count": 2,
   "metadata": {},
   "outputs": [],
   "source": [
    "# val_data_user.frequency.value_counts()[:5], train_data.frequency.value_counts()[:5]"
   ]
  },
  {
   "cell_type": "code",
   "execution_count": 81,
   "metadata": {},
   "outputs": [
    {
     "data": {
      "text/plain": [
       "(['user_count',\n",
       "  'feature1',\n",
       "  'feature2',\n",
       "  'feature3',\n",
       "  'feature4',\n",
       "  'feature5',\n",
       "  'feature6',\n",
       "  'user_max_timerank',\n",
       "  'user_min_timerank',\n",
       "  'user_encode',\n",
       "  'item_count',\n",
       "  'item_max_timerank',\n",
       "  'item_min_timerank',\n",
       "  'item_encode',\n",
       "  'time_group',\n",
       "  'feature1_item',\n",
       "  'feature2_item',\n",
       "  'feature3_item',\n",
       "  'feature4_item',\n",
       "  'feature5_item',\n",
       "  'feature6_item'],\n",
       " 21)"
      ]
     },
     "execution_count": 81,
     "metadata": {},
     "output_type": "execute_result"
    }
   ],
   "source": [
    "# trn_cols = [x for x in time_all_data[13].columns if x not in [\"label\",\"user_id\",\"item_id\"]]\n",
    "trn_cols = [x for x in train_data.columns if x not in [\"label\",\"user_id\",\"item_id\"]]\n",
    "\n",
    "# trn_cols =  [x for x in train_data.columns if x not in ['user_id', 'item_id', \\\n",
    "#     'latest_timestamp', 'frequency','timestamp_rank', 'time_group', \\\n",
    "#        \"label\"]]\n",
    "# trn_cols = [x for x in trn_cols if x not in [\"item_count\"]]\n",
    "# trn_cols = [x for x in trn_cols if x not in [\"user_count\"]]\n",
    "# trn_cols =  [x for x in trn_cols if x not in \\\n",
    "#     ['time_group', 'timestamp_rank','latest_timestamp']]\n",
    "trn_cols =  [x for x in trn_cols if x not in ['timestamp_rank','latest_timestamp']]\n",
    "# trn_cols =  [x for x in trn_cols if x not in \\\n",
    "#     ['user_max_timerank', 'user_min_timerank']]\n",
    "# trn_cols = [x for x in trn_cols if x not in ['item_max_timerank','item_min_timerank']]\n",
    "\n",
    "trn_cols =  [x for x in trn_cols if x not in ['frequency']]\n",
    "# trn_cols =  [x for x in trn_cols if x not in ['user_encode']]\n",
    "# trn_cols =  [x for x in trn_cols if x not in ['item_encode']]\n",
    "# trn_cols = [\"user_encode\", \"item_encode\"]\n",
    "# trn_cols = [x for x in trn_cols if \"_item\" not in x]\n",
    "trn_cols = [x for x in trn_cols if \"feature_list\" not in x]\n",
    "trn_cols = [x for x in trn_cols if \"list\" not in x or \"item\" not in x]\n",
    "# trn_cols = [x for x in trn_cols if \"feature_list1\" not in x]\n",
    "# trn_cols = [x for x in trn_cols if x not in [f\"feature{i}\" for i in range(1,7)]]\n",
    "\n",
    "# trn_cols = [x for x in trn_cols if x not in [f\"feature_list1_{i}\" for i in range(10)]]\n",
    "# trn_cols = [x for x in trn_cols if x not in [f\"feature_list3_{i}\" for i in range(10)]]\n",
    "# trn_cols = [x for x in trn_cols if x not in [f\"feature_list5_{i}\" for i in range(10)]]\n",
    "\n",
    "# trn_cols = [\"user_encode\"]\n",
    "# trn_cols = [\"item_encode\"]\n",
    "# trn_cols = trn_cols \n",
    "trn_cols,len(trn_cols)\n",
    "\n"
   ]
  },
  {
   "cell_type": "code",
   "execution_count": 51,
   "metadata": {},
   "outputs": [
    {
     "name": "stdout",
     "output_type": "stream",
     "text": [
      "user_count\t\t\tfloat64\n",
      "feature1\t\t\tint32\n",
      "feature2\t\t\tint32\n",
      "feature3\t\t\tint32\n",
      "feature4\t\t\tint32\n",
      "feature5\t\t\tint32\n",
      "feature6\t\t\tint32\n",
      "feature_list1_0\t\t\tbool\n",
      "feature_list1_1\t\t\tbool\n",
      "feature_list1_2\t\t\tbool\n",
      "feature_list1_3\t\t\tbool\n",
      "feature_list1_4\t\t\tbool\n",
      "feature_list1_5\t\t\tbool\n",
      "feature_list1_6\t\t\tbool\n",
      "feature_list1_7\t\t\tbool\n",
      "feature_list1_8\t\t\tbool\n",
      "feature_list1_9\t\t\tbool\n",
      "feature_list3_0\t\t\tbool\n",
      "feature_list3_1\t\t\tbool\n",
      "feature_list3_2\t\t\tbool\n",
      "feature_list3_3\t\t\tbool\n",
      "feature_list3_4\t\t\tbool\n",
      "feature_list3_5\t\t\tbool\n",
      "feature_list3_6\t\t\tbool\n",
      "feature_list3_7\t\t\tbool\n",
      "feature_list3_8\t\t\tbool\n",
      "feature_list3_9\t\t\tbool\n",
      "feature_list5_0\t\t\tbool\n",
      "feature_list5_1\t\t\tbool\n",
      "feature_list5_2\t\t\tbool\n",
      "feature_list5_3\t\t\tbool\n",
      "feature_list5_4\t\t\tbool\n",
      "feature_list5_5\t\t\tbool\n",
      "feature_list5_6\t\t\tbool\n",
      "feature_list5_7\t\t\tbool\n",
      "feature_list5_8\t\t\tbool\n",
      "feature_list5_9\t\t\tbool\n",
      "user_encode\t\t\tint64\n",
      "item_count\t\t\tfloat64\n",
      "item_encode\t\t\tint64\n",
      "feature1_item\t\t\tfloat64\n",
      "feature2_item\t\t\tfloat64\n",
      "feature3_item\t\t\tfloat64\n",
      "feature4_item\t\t\tfloat64\n",
      "feature5_item\t\t\tfloat64\n",
      "feature6_item\t\t\tfloat64\n"
     ]
    }
   ],
   "source": [
    "check_data = train_data\n",
    "for col_t in trn_cols:\n",
    "    check_str = col_t +\"\\t\\t\\t\" +str(check_data[col_t].dtype)\n",
    "    na_count = check_data[check_data[col_t].isna()].shape[0]\n",
    "    if na_count:\n",
    "        check_str+=\"\\t has na\" + \"\\t\" + str(na_count)\n",
    "    print(check_str)"
   ]
  },
  {
   "cell_type": "code",
   "execution_count": 768,
   "metadata": {},
   "outputs": [
    {
     "data": {
      "text/plain": [
       "0"
      ]
     },
     "execution_count": 768,
     "metadata": {},
     "output_type": "execute_result"
    }
   ],
   "source": [
    "check_data[check_data.label==1].item_encode.isna().sum()"
   ]
  },
  {
   "cell_type": "code",
   "execution_count": 90,
   "metadata": {},
   "outputs": [
    {
     "data": {
      "text/plain": [
       "(array([11, 12, 16], dtype=int64), array([16], dtype=int64))"
      ]
     },
     "execution_count": 90,
     "metadata": {},
     "output_type": "execute_result"
    }
   ],
   "source": [
    "train_data.time_group.unique(), val_data_time.time_group.unique()\n",
    "# val_data.time_group.unique(), val_data.shape,train_data.time_group.unique()"
   ]
  },
  {
   "cell_type": "code",
   "execution_count": 91,
   "metadata": {},
   "outputs": [
    {
     "data": {
      "text/html": [
       "<style>#sk-container-id-4 {\n",
       "  /* Definition of color scheme common for light and dark mode */\n",
       "  --sklearn-color-text: black;\n",
       "  --sklearn-color-line: gray;\n",
       "  /* Definition of color scheme for unfitted estimators */\n",
       "  --sklearn-color-unfitted-level-0: #fff5e6;\n",
       "  --sklearn-color-unfitted-level-1: #f6e4d2;\n",
       "  --sklearn-color-unfitted-level-2: #ffe0b3;\n",
       "  --sklearn-color-unfitted-level-3: chocolate;\n",
       "  /* Definition of color scheme for fitted estimators */\n",
       "  --sklearn-color-fitted-level-0: #f0f8ff;\n",
       "  --sklearn-color-fitted-level-1: #d4ebff;\n",
       "  --sklearn-color-fitted-level-2: #b3dbfd;\n",
       "  --sklearn-color-fitted-level-3: cornflowerblue;\n",
       "\n",
       "  /* Specific color for light theme */\n",
       "  --sklearn-color-text-on-default-background: var(--sg-text-color, var(--theme-code-foreground, var(--jp-content-font-color1, black)));\n",
       "  --sklearn-color-background: var(--sg-background-color, var(--theme-background, var(--jp-layout-color0, white)));\n",
       "  --sklearn-color-border-box: var(--sg-text-color, var(--theme-code-foreground, var(--jp-content-font-color1, black)));\n",
       "  --sklearn-color-icon: #696969;\n",
       "\n",
       "  @media (prefers-color-scheme: dark) {\n",
       "    /* Redefinition of color scheme for dark theme */\n",
       "    --sklearn-color-text-on-default-background: var(--sg-text-color, var(--theme-code-foreground, var(--jp-content-font-color1, white)));\n",
       "    --sklearn-color-background: var(--sg-background-color, var(--theme-background, var(--jp-layout-color0, #111)));\n",
       "    --sklearn-color-border-box: var(--sg-text-color, var(--theme-code-foreground, var(--jp-content-font-color1, white)));\n",
       "    --sklearn-color-icon: #878787;\n",
       "  }\n",
       "}\n",
       "\n",
       "#sk-container-id-4 {\n",
       "  color: var(--sklearn-color-text);\n",
       "}\n",
       "\n",
       "#sk-container-id-4 pre {\n",
       "  padding: 0;\n",
       "}\n",
       "\n",
       "#sk-container-id-4 input.sk-hidden--visually {\n",
       "  border: 0;\n",
       "  clip: rect(1px 1px 1px 1px);\n",
       "  clip: rect(1px, 1px, 1px, 1px);\n",
       "  height: 1px;\n",
       "  margin: -1px;\n",
       "  overflow: hidden;\n",
       "  padding: 0;\n",
       "  position: absolute;\n",
       "  width: 1px;\n",
       "}\n",
       "\n",
       "#sk-container-id-4 div.sk-dashed-wrapped {\n",
       "  border: 1px dashed var(--sklearn-color-line);\n",
       "  margin: 0 0.4em 0.5em 0.4em;\n",
       "  box-sizing: border-box;\n",
       "  padding-bottom: 0.4em;\n",
       "  background-color: var(--sklearn-color-background);\n",
       "}\n",
       "\n",
       "#sk-container-id-4 div.sk-container {\n",
       "  /* jupyter's `normalize.less` sets `[hidden] { display: none; }`\n",
       "     but bootstrap.min.css set `[hidden] { display: none !important; }`\n",
       "     so we also need the `!important` here to be able to override the\n",
       "     default hidden behavior on the sphinx rendered scikit-learn.org.\n",
       "     See: https://github.com/scikit-learn/scikit-learn/issues/21755 */\n",
       "  display: inline-block !important;\n",
       "  position: relative;\n",
       "}\n",
       "\n",
       "#sk-container-id-4 div.sk-text-repr-fallback {\n",
       "  display: none;\n",
       "}\n",
       "\n",
       "div.sk-parallel-item,\n",
       "div.sk-serial,\n",
       "div.sk-item {\n",
       "  /* draw centered vertical line to link estimators */\n",
       "  background-image: linear-gradient(var(--sklearn-color-text-on-default-background), var(--sklearn-color-text-on-default-background));\n",
       "  background-size: 2px 100%;\n",
       "  background-repeat: no-repeat;\n",
       "  background-position: center center;\n",
       "}\n",
       "\n",
       "/* Parallel-specific style estimator block */\n",
       "\n",
       "#sk-container-id-4 div.sk-parallel-item::after {\n",
       "  content: \"\";\n",
       "  width: 100%;\n",
       "  border-bottom: 2px solid var(--sklearn-color-text-on-default-background);\n",
       "  flex-grow: 1;\n",
       "}\n",
       "\n",
       "#sk-container-id-4 div.sk-parallel {\n",
       "  display: flex;\n",
       "  align-items: stretch;\n",
       "  justify-content: center;\n",
       "  background-color: var(--sklearn-color-background);\n",
       "  position: relative;\n",
       "}\n",
       "\n",
       "#sk-container-id-4 div.sk-parallel-item {\n",
       "  display: flex;\n",
       "  flex-direction: column;\n",
       "}\n",
       "\n",
       "#sk-container-id-4 div.sk-parallel-item:first-child::after {\n",
       "  align-self: flex-end;\n",
       "  width: 50%;\n",
       "}\n",
       "\n",
       "#sk-container-id-4 div.sk-parallel-item:last-child::after {\n",
       "  align-self: flex-start;\n",
       "  width: 50%;\n",
       "}\n",
       "\n",
       "#sk-container-id-4 div.sk-parallel-item:only-child::after {\n",
       "  width: 0;\n",
       "}\n",
       "\n",
       "/* Serial-specific style estimator block */\n",
       "\n",
       "#sk-container-id-4 div.sk-serial {\n",
       "  display: flex;\n",
       "  flex-direction: column;\n",
       "  align-items: center;\n",
       "  background-color: var(--sklearn-color-background);\n",
       "  padding-right: 1em;\n",
       "  padding-left: 1em;\n",
       "}\n",
       "\n",
       "\n",
       "/* Toggleable style: style used for estimator/Pipeline/ColumnTransformer box that is\n",
       "clickable and can be expanded/collapsed.\n",
       "- Pipeline and ColumnTransformer use this feature and define the default style\n",
       "- Estimators will overwrite some part of the style using the `sk-estimator` class\n",
       "*/\n",
       "\n",
       "/* Pipeline and ColumnTransformer style (default) */\n",
       "\n",
       "#sk-container-id-4 div.sk-toggleable {\n",
       "  /* Default theme specific background. It is overwritten whether we have a\n",
       "  specific estimator or a Pipeline/ColumnTransformer */\n",
       "  background-color: var(--sklearn-color-background);\n",
       "}\n",
       "\n",
       "/* Toggleable label */\n",
       "#sk-container-id-4 label.sk-toggleable__label {\n",
       "  cursor: pointer;\n",
       "  display: block;\n",
       "  width: 100%;\n",
       "  margin-bottom: 0;\n",
       "  padding: 0.5em;\n",
       "  box-sizing: border-box;\n",
       "  text-align: center;\n",
       "}\n",
       "\n",
       "#sk-container-id-4 label.sk-toggleable__label-arrow:before {\n",
       "  /* Arrow on the left of the label */\n",
       "  content: \"▸\";\n",
       "  float: left;\n",
       "  margin-right: 0.25em;\n",
       "  color: var(--sklearn-color-icon);\n",
       "}\n",
       "\n",
       "#sk-container-id-4 label.sk-toggleable__label-arrow:hover:before {\n",
       "  color: var(--sklearn-color-text);\n",
       "}\n",
       "\n",
       "/* Toggleable content - dropdown */\n",
       "\n",
       "#sk-container-id-4 div.sk-toggleable__content {\n",
       "  max-height: 0;\n",
       "  max-width: 0;\n",
       "  overflow: hidden;\n",
       "  text-align: left;\n",
       "  /* unfitted */\n",
       "  background-color: var(--sklearn-color-unfitted-level-0);\n",
       "}\n",
       "\n",
       "#sk-container-id-4 div.sk-toggleable__content.fitted {\n",
       "  /* fitted */\n",
       "  background-color: var(--sklearn-color-fitted-level-0);\n",
       "}\n",
       "\n",
       "#sk-container-id-4 div.sk-toggleable__content pre {\n",
       "  margin: 0.2em;\n",
       "  border-radius: 0.25em;\n",
       "  color: var(--sklearn-color-text);\n",
       "  /* unfitted */\n",
       "  background-color: var(--sklearn-color-unfitted-level-0);\n",
       "}\n",
       "\n",
       "#sk-container-id-4 div.sk-toggleable__content.fitted pre {\n",
       "  /* unfitted */\n",
       "  background-color: var(--sklearn-color-fitted-level-0);\n",
       "}\n",
       "\n",
       "#sk-container-id-4 input.sk-toggleable__control:checked~div.sk-toggleable__content {\n",
       "  /* Expand drop-down */\n",
       "  max-height: 200px;\n",
       "  max-width: 100%;\n",
       "  overflow: auto;\n",
       "}\n",
       "\n",
       "#sk-container-id-4 input.sk-toggleable__control:checked~label.sk-toggleable__label-arrow:before {\n",
       "  content: \"▾\";\n",
       "}\n",
       "\n",
       "/* Pipeline/ColumnTransformer-specific style */\n",
       "\n",
       "#sk-container-id-4 div.sk-label input.sk-toggleable__control:checked~label.sk-toggleable__label {\n",
       "  color: var(--sklearn-color-text);\n",
       "  background-color: var(--sklearn-color-unfitted-level-2);\n",
       "}\n",
       "\n",
       "#sk-container-id-4 div.sk-label.fitted input.sk-toggleable__control:checked~label.sk-toggleable__label {\n",
       "  background-color: var(--sklearn-color-fitted-level-2);\n",
       "}\n",
       "\n",
       "/* Estimator-specific style */\n",
       "\n",
       "/* Colorize estimator box */\n",
       "#sk-container-id-4 div.sk-estimator input.sk-toggleable__control:checked~label.sk-toggleable__label {\n",
       "  /* unfitted */\n",
       "  background-color: var(--sklearn-color-unfitted-level-2);\n",
       "}\n",
       "\n",
       "#sk-container-id-4 div.sk-estimator.fitted input.sk-toggleable__control:checked~label.sk-toggleable__label {\n",
       "  /* fitted */\n",
       "  background-color: var(--sklearn-color-fitted-level-2);\n",
       "}\n",
       "\n",
       "#sk-container-id-4 div.sk-label label.sk-toggleable__label,\n",
       "#sk-container-id-4 div.sk-label label {\n",
       "  /* The background is the default theme color */\n",
       "  color: var(--sklearn-color-text-on-default-background);\n",
       "}\n",
       "\n",
       "/* On hover, darken the color of the background */\n",
       "#sk-container-id-4 div.sk-label:hover label.sk-toggleable__label {\n",
       "  color: var(--sklearn-color-text);\n",
       "  background-color: var(--sklearn-color-unfitted-level-2);\n",
       "}\n",
       "\n",
       "/* Label box, darken color on hover, fitted */\n",
       "#sk-container-id-4 div.sk-label.fitted:hover label.sk-toggleable__label.fitted {\n",
       "  color: var(--sklearn-color-text);\n",
       "  background-color: var(--sklearn-color-fitted-level-2);\n",
       "}\n",
       "\n",
       "/* Estimator label */\n",
       "\n",
       "#sk-container-id-4 div.sk-label label {\n",
       "  font-family: monospace;\n",
       "  font-weight: bold;\n",
       "  display: inline-block;\n",
       "  line-height: 1.2em;\n",
       "}\n",
       "\n",
       "#sk-container-id-4 div.sk-label-container {\n",
       "  text-align: center;\n",
       "}\n",
       "\n",
       "/* Estimator-specific */\n",
       "#sk-container-id-4 div.sk-estimator {\n",
       "  font-family: monospace;\n",
       "  border: 1px dotted var(--sklearn-color-border-box);\n",
       "  border-radius: 0.25em;\n",
       "  box-sizing: border-box;\n",
       "  margin-bottom: 0.5em;\n",
       "  /* unfitted */\n",
       "  background-color: var(--sklearn-color-unfitted-level-0);\n",
       "}\n",
       "\n",
       "#sk-container-id-4 div.sk-estimator.fitted {\n",
       "  /* fitted */\n",
       "  background-color: var(--sklearn-color-fitted-level-0);\n",
       "}\n",
       "\n",
       "/* on hover */\n",
       "#sk-container-id-4 div.sk-estimator:hover {\n",
       "  /* unfitted */\n",
       "  background-color: var(--sklearn-color-unfitted-level-2);\n",
       "}\n",
       "\n",
       "#sk-container-id-4 div.sk-estimator.fitted:hover {\n",
       "  /* fitted */\n",
       "  background-color: var(--sklearn-color-fitted-level-2);\n",
       "}\n",
       "\n",
       "/* Specification for estimator info (e.g. \"i\" and \"?\") */\n",
       "\n",
       "/* Common style for \"i\" and \"?\" */\n",
       "\n",
       ".sk-estimator-doc-link,\n",
       "a:link.sk-estimator-doc-link,\n",
       "a:visited.sk-estimator-doc-link {\n",
       "  float: right;\n",
       "  font-size: smaller;\n",
       "  line-height: 1em;\n",
       "  font-family: monospace;\n",
       "  background-color: var(--sklearn-color-background);\n",
       "  border-radius: 1em;\n",
       "  height: 1em;\n",
       "  width: 1em;\n",
       "  text-decoration: none !important;\n",
       "  margin-left: 1ex;\n",
       "  /* unfitted */\n",
       "  border: var(--sklearn-color-unfitted-level-1) 1pt solid;\n",
       "  color: var(--sklearn-color-unfitted-level-1);\n",
       "}\n",
       "\n",
       ".sk-estimator-doc-link.fitted,\n",
       "a:link.sk-estimator-doc-link.fitted,\n",
       "a:visited.sk-estimator-doc-link.fitted {\n",
       "  /* fitted */\n",
       "  border: var(--sklearn-color-fitted-level-1) 1pt solid;\n",
       "  color: var(--sklearn-color-fitted-level-1);\n",
       "}\n",
       "\n",
       "/* On hover */\n",
       "div.sk-estimator:hover .sk-estimator-doc-link:hover,\n",
       ".sk-estimator-doc-link:hover,\n",
       "div.sk-label-container:hover .sk-estimator-doc-link:hover,\n",
       ".sk-estimator-doc-link:hover {\n",
       "  /* unfitted */\n",
       "  background-color: var(--sklearn-color-unfitted-level-3);\n",
       "  color: var(--sklearn-color-background);\n",
       "  text-decoration: none;\n",
       "}\n",
       "\n",
       "div.sk-estimator.fitted:hover .sk-estimator-doc-link.fitted:hover,\n",
       ".sk-estimator-doc-link.fitted:hover,\n",
       "div.sk-label-container:hover .sk-estimator-doc-link.fitted:hover,\n",
       ".sk-estimator-doc-link.fitted:hover {\n",
       "  /* fitted */\n",
       "  background-color: var(--sklearn-color-fitted-level-3);\n",
       "  color: var(--sklearn-color-background);\n",
       "  text-decoration: none;\n",
       "}\n",
       "\n",
       "/* Span, style for the box shown on hovering the info icon */\n",
       ".sk-estimator-doc-link span {\n",
       "  display: none;\n",
       "  z-index: 9999;\n",
       "  position: relative;\n",
       "  font-weight: normal;\n",
       "  right: .2ex;\n",
       "  padding: .5ex;\n",
       "  margin: .5ex;\n",
       "  width: min-content;\n",
       "  min-width: 20ex;\n",
       "  max-width: 50ex;\n",
       "  color: var(--sklearn-color-text);\n",
       "  box-shadow: 2pt 2pt 4pt #999;\n",
       "  /* unfitted */\n",
       "  background: var(--sklearn-color-unfitted-level-0);\n",
       "  border: .5pt solid var(--sklearn-color-unfitted-level-3);\n",
       "}\n",
       "\n",
       ".sk-estimator-doc-link.fitted span {\n",
       "  /* fitted */\n",
       "  background: var(--sklearn-color-fitted-level-0);\n",
       "  border: var(--sklearn-color-fitted-level-3);\n",
       "}\n",
       "\n",
       ".sk-estimator-doc-link:hover span {\n",
       "  display: block;\n",
       "}\n",
       "\n",
       "/* \"?\"-specific style due to the `<a>` HTML tag */\n",
       "\n",
       "#sk-container-id-4 a.estimator_doc_link {\n",
       "  float: right;\n",
       "  font-size: 1rem;\n",
       "  line-height: 1em;\n",
       "  font-family: monospace;\n",
       "  background-color: var(--sklearn-color-background);\n",
       "  border-radius: 1rem;\n",
       "  height: 1rem;\n",
       "  width: 1rem;\n",
       "  text-decoration: none;\n",
       "  /* unfitted */\n",
       "  color: var(--sklearn-color-unfitted-level-1);\n",
       "  border: var(--sklearn-color-unfitted-level-1) 1pt solid;\n",
       "}\n",
       "\n",
       "#sk-container-id-4 a.estimator_doc_link.fitted {\n",
       "  /* fitted */\n",
       "  border: var(--sklearn-color-fitted-level-1) 1pt solid;\n",
       "  color: var(--sklearn-color-fitted-level-1);\n",
       "}\n",
       "\n",
       "/* On hover */\n",
       "#sk-container-id-4 a.estimator_doc_link:hover {\n",
       "  /* unfitted */\n",
       "  background-color: var(--sklearn-color-unfitted-level-3);\n",
       "  color: var(--sklearn-color-background);\n",
       "  text-decoration: none;\n",
       "}\n",
       "\n",
       "#sk-container-id-4 a.estimator_doc_link.fitted:hover {\n",
       "  /* fitted */\n",
       "  background-color: var(--sklearn-color-fitted-level-3);\n",
       "}\n",
       "</style><div id=\"sk-container-id-4\" class=\"sk-top-container\"><div class=\"sk-text-repr-fallback\"><pre>XGBClassifier(base_score=None, booster=None, callbacks=None,\n",
       "              colsample_bylevel=None, colsample_bynode=None,\n",
       "              colsample_bytree=None, device=&#x27;cuda&#x27;, early_stopping_rounds=None,\n",
       "              enable_categorical=False, eval_metric=None, feature_types=None,\n",
       "              gamma=None, grow_policy=None, importance_type=None,\n",
       "              interaction_constraints=None, learning_rate=None, max_bin=None,\n",
       "              max_cat_threshold=None, max_cat_to_onehot=None,\n",
       "              max_delta_step=None, max_depth=None, max_leaves=None,\n",
       "              min_child_weight=None, missing=nan, monotone_constraints=None,\n",
       "              multi_strategy=None, n_estimators=None, n_jobs=None,\n",
       "              num_parallel_tree=None, random_state=None, ...)</pre><b>In a Jupyter environment, please rerun this cell to show the HTML representation or trust the notebook. <br />On GitHub, the HTML representation is unable to render, please try loading this page with nbviewer.org.</b></div><div class=\"sk-container\" hidden><div class=\"sk-item\"><div class=\"sk-estimator fitted sk-toggleable\"><input class=\"sk-toggleable__control sk-hidden--visually\" id=\"sk-estimator-id-4\" type=\"checkbox\" checked><label for=\"sk-estimator-id-4\" class=\"sk-toggleable__label fitted sk-toggleable__label-arrow fitted\">&nbsp;XGBClassifier<span class=\"sk-estimator-doc-link fitted\">i<span>Fitted</span></span></label><div class=\"sk-toggleable__content fitted\"><pre>XGBClassifier(base_score=None, booster=None, callbacks=None,\n",
       "              colsample_bylevel=None, colsample_bynode=None,\n",
       "              colsample_bytree=None, device=&#x27;cuda&#x27;, early_stopping_rounds=None,\n",
       "              enable_categorical=False, eval_metric=None, feature_types=None,\n",
       "              gamma=None, grow_policy=None, importance_type=None,\n",
       "              interaction_constraints=None, learning_rate=None, max_bin=None,\n",
       "              max_cat_threshold=None, max_cat_to_onehot=None,\n",
       "              max_delta_step=None, max_depth=None, max_leaves=None,\n",
       "              min_child_weight=None, missing=nan, monotone_constraints=None,\n",
       "              multi_strategy=None, n_estimators=None, n_jobs=None,\n",
       "              num_parallel_tree=None, random_state=None, ...)</pre></div> </div></div></div></div>"
      ],
      "text/plain": [
       "XGBClassifier(base_score=None, booster=None, callbacks=None,\n",
       "              colsample_bylevel=None, colsample_bynode=None,\n",
       "              colsample_bytree=None, device='cuda', early_stopping_rounds=None,\n",
       "              enable_categorical=False, eval_metric=None, feature_types=None,\n",
       "              gamma=None, grow_policy=None, importance_type=None,\n",
       "              interaction_constraints=None, learning_rate=None, max_bin=None,\n",
       "              max_cat_threshold=None, max_cat_to_onehot=None,\n",
       "              max_delta_step=None, max_depth=None, max_leaves=None,\n",
       "              min_child_weight=None, missing=nan, monotone_constraints=None,\n",
       "              multi_strategy=None, n_estimators=None, n_jobs=None,\n",
       "              num_parallel_tree=None, random_state=None, ...)"
      ]
     },
     "execution_count": 91,
     "metadata": {},
     "output_type": "execute_result"
    }
   ],
   "source": [
    "import xgboost as xgb\n",
    "\n",
    "# train_data_shuffled = train_data#.sample(frac=1)\n",
    "# train_data = train_data[trn_cols + [\"label\"]] \n",
    "# train_data = train_data.sample(frac=1)\n",
    "X_trn = train_data[trn_cols]#.dropna(how='any',axis=0)\n",
    "# X_trn = X_trn[:,:50]\n",
    "y_trn = train_data[\"label\"]\n",
    "# X_trn = X_trn.drop(columns=[\"label\"])\n",
    "# print(X_trn.shape, len(train_data))#,len(X_val_time), len(X_val_user))#,len(val_group_user),len(X_val_user)\n",
    "\n",
    "model = xgb.XGBClassifier(device=\"cuda\")#device=\"gpu\")#tree_method=\"gpu_hist\", device=\"cuda\")\n",
    "model.fit(X_trn,y_trn)\n"
   ]
  },
  {
   "cell_type": "code",
   "execution_count": 63,
   "metadata": {},
   "outputs": [
    {
     "data": {
      "text/plain": [
       "((12115983, 84), (12115983, 21), 1101453)"
      ]
     },
     "execution_count": 63,
     "metadata": {},
     "output_type": "execute_result"
    }
   ],
   "source": [
    "train_data.shape,X_trn.shape,y_trn.sum()"
   ]
  },
  {
   "cell_type": "code",
   "execution_count": 20,
   "metadata": {},
   "outputs": [],
   "source": [
    "import pickle\n",
    "# pickle.dump(model,open(\"xgb_sample4_all_feature_1.pkl\",'wb'))\n",
    "\n",
    "# pickle.dump(model,open(\"xgb_model/xgb_sample10_51fea_all_data_top5w.pkl\",'wb'))\n",
    "# model = pickle.load(open(\"xgb_sample8_50_feature_all_data.pkl\",'rb'))\n",
    "# model = pickle.load(open(\"xgb_sample8_80_feature_trn_data.pkl\",'rb'))\n",
    "# model = pickle.load(open(\"xgb_sample10_50_feature_trn_data.pkl\",'rb'))\n",
    "# model = pickle.load(open(\"xgb_model/xgb_sample10_51fea_all_data_top5w.pkl\",'rb')\n",
    "model = pickle.load(open(\"xgb_model/xgb_all_sample8_16fea_all_data_top5w.pkl\",'rb'))"
   ]
  },
  {
   "cell_type": "code",
   "execution_count": 92,
   "metadata": {},
   "outputs": [],
   "source": [
    "trn_preds = []\n",
    "seg = len(X_trn)//3\n",
    "import cupy as cp\n",
    "# trn_preds.append(model.predict_proba(cp.array(X_trn[:seg].astype(np.float16)))[:,1])\n",
    "# trn_preds.append(model.predict_proba(cp.array(X_trn[seg:seg*2].astype(np.float16)))[:,1])\n",
    "# trn_preds.append(model.predict_proba(cp.array(X_trn[seg*2:].astype(np.float16)))[:,1])\n",
    "# trn_preds.append(model.predict_proba(X_trn[:seg])[:,1])\n",
    "# trn_preds.append(model.predict_proba(X_trn[seg:seg*2])[:,1])\n",
    "# trn_preds.append(model.predict_proba(X_trn[seg*2:])[:,1])\n",
    "# trn_pred = np.concatenate(trn_preds)\n",
    "# X_trn = train_data[trn_cols]#.dropna(how='any',axis=0)\n",
    "# y_trn = train_data[\"label\"]\n",
    "trn_pred = model.predict_proba(X_trn)[:,1]\n",
    "\n",
    "X_val_time = val_data_time[trn_cols]#.dropna(how='any',axis=0)\n",
    "y_val_time = val_data_time[\"label\"]\n",
    "val_pred_time = model.predict_proba(cp.array(X_val_time.astype(np.float32)))[:,1]\n",
    "# val_pred_user = model.predict_proba(X_val_user)[:,1]"
   ]
  },
  {
   "cell_type": "code",
   "execution_count": 59,
   "metadata": {},
   "outputs": [
    {
     "data": {
      "text/plain": [
       "(3455903, 1151967, 1151967, 1151969, 3455903)"
      ]
     },
     "execution_count": 59,
     "metadata": {},
     "output_type": "execute_result"
    }
   ],
   "source": [
    "len(y_trn), len(trn_preds[0]), len(trn_preds[1]), len(trn_preds[2]),len(trn_pred)"
   ]
  },
  {
   "cell_type": "code",
   "execution_count": 20,
   "metadata": {},
   "outputs": [
    {
     "data": {
      "text/plain": [
       "(1331654, (5326616,))"
      ]
     },
     "execution_count": 20,
     "metadata": {},
     "output_type": "execute_result"
    }
   ],
   "source": [
    "sum(y_trn),y_trn.shape"
   ]
  },
  {
   "cell_type": "code",
   "execution_count": 93,
   "metadata": {},
   "outputs": [],
   "source": [
    "import numpy as np\n",
    "# select top preds so that the total number of pred 1s equal to that of label\n",
    "tt = np.zeros(trn_pred.shape)\n",
    "true_count = y_trn.sum()\n",
    "tt[np.argpartition(trn_pred, -true_count)[-true_count:]] = 1\n",
    "trn_pred = tt\n",
    "\n",
    "tt = np.zeros(val_pred_time.shape)\n",
    "true_count = y_val_time.sum()\n",
    "tt[np.argpartition(val_pred_time, -true_count)[-true_count:]] = 1\n",
    "val_pred_time = tt\n",
    "\n",
    "tt = np.zeros(val_pred_user.shape)\n",
    "true_count = y_val_user.sum()\n",
    "tt[np.argpartition(val_pred_user, -true_count)[-true_count:]] = 1\n",
    "val_pred_user = tt\n"
   ]
  },
  {
   "cell_type": "code",
   "execution_count": 44,
   "metadata": {},
   "outputs": [
    {
     "data": {
      "text/plain": [
       "((43944582,), 14648194, (3364368,), 3364368)"
      ]
     },
     "execution_count": 44,
     "metadata": {},
     "output_type": "execute_result"
    }
   ],
   "source": [
    "trn_pred.shape, len(X_trn), val_pred_time.shape, len(y_val_time)"
   ]
  },
  {
   "cell_type": "code",
   "execution_count": 120,
   "metadata": {},
   "outputs": [
    {
     "ename": "NameError",
     "evalue": "name 'X_val_time' is not defined",
     "output_type": "error",
     "traceback": [
      "\u001b[1;31m---------------------------------------------------------------------------\u001b[0m",
      "\u001b[1;31mNameError\u001b[0m                                 Traceback (most recent call last)",
      "Cell \u001b[1;32mIn [120], line 1\u001b[0m\n\u001b[1;32m----> 1\u001b[0m \u001b[39mprint\u001b[39m(X_trn\u001b[39m.\u001b[39mshape,X_val_time\u001b[39m.\u001b[39mshape, X_val_user\u001b[39m.\u001b[39mshape)\n\u001b[0;32m      2\u001b[0m \u001b[39mprint\u001b[39m(y_trn\u001b[39m.\u001b[39msum(),y_val_time\u001b[39m.\u001b[39msum(), y_val_user\u001b[39m.\u001b[39msum())\n\u001b[0;32m      3\u001b[0m \u001b[39mprint\u001b[39m(trn_pred\u001b[39m.\u001b[39msum(),val_pred_time\u001b[39m.\u001b[39msum(),val_pred_user\u001b[39m.\u001b[39msum())\n",
      "\u001b[1;31mNameError\u001b[0m: name 'X_val_time' is not defined"
     ]
    }
   ],
   "source": [
    "print(X_trn.shape,X_val_time.shape, X_val_user.shape)\n",
    "print(y_trn.sum(),y_val_time.sum(), y_val_user.sum())\n",
    "print(trn_pred.sum(),val_pred_time.sum(),val_pred_user.sum())"
   ]
  },
  {
   "cell_type": "code",
   "execution_count": null,
   "metadata": {},
   "outputs": [],
   "source": [
    "from sklearn.metrics import confusion_matrix, classification_report, accuracy_score,recall_score\n",
    "\n",
    "print(accuracy_score(trn_pred, y_trn))#,sample_weight=[0,1]))\n",
    "# print(accuracy_score(val_pred_user, y_val_user,sample_weight=[0,1]))\n",
    "print(accuracy_score(val_pred_time, y_val_time))#,sample_weight=[0,1]))\n",
    "print(recall_score(trn_pred, y_trn))\n",
    "# print(recall_score(val_pred_user, y_val_user))\n",
    "print(recall_score(val_pred_time, y_val_time))\n"
   ]
  },
  {
   "cell_type": "code",
   "execution_count": 40,
   "metadata": {},
   "outputs": [
    {
     "name": "stdout",
     "output_type": "stream",
     "text": [
      "TP 82396 FN 218148 FP 218148.0 total 3535506\n",
      "accuracy 0.27415619676320274 recall 0.27415619676320274\n"
     ]
    }
   ],
   "source": [
    "labels = y_val_user\n",
    "preds = val_pred_user\n",
    "assert(len(labels)==len(preds))\n",
    "TP = sum((labels==preds)&labels)\n",
    "TP_FN = sum(labels)\n",
    "TP_FP = sum(preds)\n",
    "print(\"TP\", TP, \"FN\", TP_FN-TP,\"FP\",TP_FP-TP,\"total\",len(preds))\n",
    "print(\"accuracy\", TP/TP_FP, \"recall\",TP/TP_FN)"
   ]
  },
  {
   "cell_type": "code",
   "execution_count": 94,
   "metadata": {},
   "outputs": [
    {
     "name": "stdout",
     "output_type": "stream",
     "text": [
      "TP 249012 FN 140037 FP 140037.0 total 4279539\n",
      "accuracy 0.6400530524432655 recall 0.6400530524432655\n"
     ]
    }
   ],
   "source": [
    "labels = y_val_time\n",
    "preds = val_pred_time\n",
    "assert(len(labels)==len(preds))\n",
    "TP = sum((labels==preds)&labels)\n",
    "TP_FN = sum(labels)\n",
    "TP_FP = sum(preds)\n",
    "print(\"TP\", TP, \"FN\", TP_FN-TP,\"FP\",TP_FP-TP,\"total\",len(preds))\n",
    "print(\"accuracy\", TP/TP_FP, \"recall\",TP/TP_FN)"
   ]
  },
  {
   "cell_type": "code",
   "execution_count": 95,
   "metadata": {},
   "outputs": [
    {
     "name": "stdout",
     "output_type": "stream",
     "text": [
      "TP 666091 FN 373623 FP 373623.0 total 11436854\n",
      "accuracy 0.6406482936653733 recall 0.6406482936653733 total 11436854\n"
     ]
    }
   ],
   "source": [
    "labels = y_trn.values\n",
    "preds = trn_pred\n",
    "assert(len(labels)==len(preds))\n",
    "TP = sum((labels==preds)&labels)\n",
    "TP_FN = sum(labels)\n",
    "TP_FP = sum(preds)\n",
    "print(\"TP\", TP, \"FN\", TP_FN-TP,\"FP\",TP_FP-TP,\"total\",len(preds))\n",
    "print(\"accuracy\", TP/TP_FP, \"recall\",TP/TP_FN,\"total\",len(preds))"
   ]
  },
  {
   "attachments": {},
   "cell_type": "markdown",
   "metadata": {},
   "source": [
    "### construct test set and recall"
   ]
  },
  {
   "cell_type": "code",
   "execution_count": 104,
   "metadata": {},
   "outputs": [
    {
     "name": "stdout",
     "output_type": "stream",
     "text": [
      "test user for this group 156510\n",
      "add user count 44308\n",
      "add user time 44308\n"
     ]
    }
   ],
   "source": [
    "# test_candidates = list(item_hist_test.item_id.value_counts()[:30000].index)\n",
    "test_group = 15\n",
    "test_candidates = item[item.time_group.isin(list(range(test_group,test_group+1)))]\\\n",
    "    .item_id.value_counts().index[:50000]\n",
    "# test_candidates = item.item_id.value_counts().index[:50000]\n",
    "\n",
    "test_df = pd.DataFrame({\"item_id\":test_candidates})\n",
    "test_df[\"time_group\"] = test_group\n",
    "\n",
    "item_hist_test = item[item.time_group>=test_group-10]\n",
    "item_hist_test = item_hist_test[item_hist_test.time_group<test_group]\n",
    "# item_hist_test = item\n",
    "\n",
    "item_fea_test = make_item_features(item_hist_test)\n",
    "test_df = test_df.merge(item_fea_test,on=\"item_id\",how=\"left\")\n",
    "\n",
    "# user_id_test = list(test_user)\n",
    "user_id_test = list(set(item[item.time_group==test_group].user_id))#.intersection(user_id_test))\n",
    "# user_id_test = list(test_user-item_user)\n",
    "# user_id_test = list(set(item.user_id).intersection(user_id_test))\n",
    "print(\"test user for this group\",len(user_id_test))\n",
    "np.random.shuffle(user_id_test)\n",
    "\n",
    "test_user_feature = pd.DataFrame({\"user_id\":user_id_test})\n",
    "\n",
    "test_user_feature = make_user_feature(user_feature,item_hist_test, test_user_feature)\n",
    "test_user_feature = test_user_feature.set_index(\"user_id\")"
   ]
  },
  {
   "cell_type": "code",
   "execution_count": 105,
   "metadata": {},
   "outputs": [
    {
     "name": "stdout",
     "output_type": "stream",
     "text": [
      "feature1\n",
      "feature2\n",
      "feature3\n",
      "feature4\n",
      "feature5\n",
      "feature6\n"
     ]
    }
   ],
   "source": [
    "from tqdm import tqdm\n",
    "item_user_feature = item_hist_test[[\"user_id\",\"item_id\"]].merge(user_feature,on=[\"user_id\"])\n",
    "test_candidate_df = pd.DataFrame({\"item_id\":test_candidates})\n",
    "feature_item_dict = {}\n",
    "for feature_id in range(1,7):\n",
    "    feature_name = \"feature\"+str(feature_id)\n",
    "    print(feature_name)\n",
    "    item_fea_group = item_user_feature.groupby([feature_name,\"item_id\"])[\"user_id\"]\\\n",
    "        .count().rename(f\"feature{feature_id}_item\")\n",
    "    feature_item_dict[feature_name] = dict()\n",
    "    for feat_v in (item_user_feature[feature_name].unique()):\n",
    "        feature_item_dict[feature_name][feat_v] = test_candidate_df.merge(item_fea_group\\\n",
    "            .loc[feat_v],on=\"item_id\",how=\"left\").fillna({f\"feature{feature_id}_item\":0})\n",
    "\n",
    "# for feature_id in [1,3,5]:\n",
    "#     feature_type = \"feature_list\"+str(feature_id)\n",
    "#     # print(feature_name)\n",
    "#     for feature_id_i in range(10):\n",
    "#         feature_name = feature_type +\"_\"+ str(feature_id_i)\n",
    "#         item_fea_group = item_user_feature.groupby([feature_name,\"item_id\"])[\"user_id\"]\\\n",
    "#             .count().rename(f\"{feature_name}_item\")\n",
    "#         feature_item_dict[feature_name] = dict()\n",
    "#         for feat_v in (item_user_feature[feature_name].unique()):\n",
    "#             feature_item_dict[feature_name][feat_v] = test_candidate_df.merge(item_fea_group\\\n",
    "#                 .loc[feat_v],on=\"item_id\",how=\"left\").fillna({f\"{feature_name}_item\":0})\n"
   ]
  },
  {
   "cell_type": "code",
   "execution_count": 56,
   "metadata": {},
   "outputs": [],
   "source": [
    "# Check the item and user features are close to that of training data\n",
    "# train_data[train_data.item_id==\"I1025\"][\"item_count\"].unique(),\\\n",
    "#     train_data[train_data.item_id==\"I123826\"].item_count.unique()\n",
    "# item_fea_test[item_fea_test.item_id==\"I1025\"],item_fea_test[item_fea_test.item_id==\"I123826\"]\n",
    "test_user_feature.loc[14895].user_count,test_user_feature.loc[134543].user_count\n",
    "train_data[train_data.user_id==14895].user_count.unique(),\\\n",
    "    train_data[train_data.user_id==134543].user_count.unique()\n"
   ]
  },
  {
   "cell_type": "code",
   "execution_count": 296,
   "metadata": {},
   "outputs": [
    {
     "data": {
      "text/plain": [
       "feature1_item    10369.0\n",
       "Name: I103751, dtype: float64"
      ]
     },
     "execution_count": 296,
     "metadata": {},
     "output_type": "execute_result"
    }
   ],
   "source": [
    "feature_item_dict[\"feature1\"][0].set_index(\"item_id\").loc[\"I103751\"]"
   ]
  },
  {
   "cell_type": "code",
   "execution_count": 297,
   "metadata": {},
   "outputs": [
    {
     "name": "stderr",
     "output_type": "stream",
     "text": [
      "C:\\Users\\Administrator\\AppData\\Local\\Temp\\ipykernel_13644\\1168384128.py:1: PerformanceWarning: indexing past lexsort depth may impact performance.\n",
      "  train_data.set_index([\"feature1\",\"item_id\"]).loc[0,\"I103751\"].feature1_item.unique()\n"
     ]
    },
    {
     "data": {
      "text/plain": [
       "array([ 9640.,  9784., 10368.], dtype=float16)"
      ]
     },
     "execution_count": 297,
     "metadata": {},
     "output_type": "execute_result"
    }
   ],
   "source": [
    "train_data.set_index([\"feature1\",\"item_id\"]).loc[0,\"I103751\"].feature1_item.unique()"
   ]
  },
  {
   "cell_type": "code",
   "execution_count": 103,
   "metadata": {},
   "outputs": [],
   "source": [
    "import pickle\n",
    "pickle.dump(model,open(\"xgb_model/xgb_group16_sample10_21fea_all_data_top5w.pkl\",'wb'))\n",
    "# model = pickle.load(open(\"xgb_model/xgb_sample10_51fea_all_data_top5w.pkl\",'rb'))\n",
    "# model1 = pickle.load(open(\"xgb_sample8_50_feature_all_data.pkl\",'rb'))\n",
    "# model2 = "
   ]
  },
  {
   "cell_type": "code",
   "execution_count": 99,
   "metadata": {},
   "outputs": [
    {
     "data": {
      "text/plain": [
       "((3260224, 84), 296384)"
      ]
     },
     "execution_count": 99,
     "metadata": {},
     "output_type": "execute_result"
    }
   ],
   "source": [
    "time_all_data[11].shape,time_all_data[11].label.sum()"
   ]
  },
  {
   "cell_type": "code",
   "execution_count": null,
   "metadata": {},
   "outputs": [],
   "source": [
    "\n",
    "import cupy as cp\n",
    "# trn_preds.append(model.predict_proba(cp.array(X_trn[:seg].astype(np.float16)))[:,1])\n",
    "recalled = 0\n",
    "oof = 0\n",
    "hit = 0\n",
    "gt = 0\n",
    "rand_hit = 0\n",
    "item_indexed = item.set_index(\"user_id\")\n",
    "user_with_item = set(item.user_id)\n",
    "user_buffer = []\n",
    "trn_buffer = []\n",
    "agg_size = 100\n",
    "ret = []\n",
    "with tqdm(total = len(user_id_test)) as pbar:\n",
    "    for ii in range(len(user_id_test)):\n",
    "        user_t = user_id_test[ii]\n",
    "        user_buffer.append(user_t)\n",
    "        test_df[\"user_id\"] = user_t\n",
    "        user_feature_t = test_user_feature.loc[user_t]\n",
    "        for user_feature_col in user_feature_t.index:\n",
    "            test_df[user_feature_col] = user_feature_t[user_feature_col]\n",
    "\n",
    "        for jj in range(1,7):\n",
    "            test_df[f\"feature{jj}_item\"] = feature_item_dict[f\"feature{jj}\"]\\\n",
    "                [user_feature_t[f\"feature{jj}\"]].values[:,1].astype(np.int32)\n",
    "        \n",
    "        # for feature_id in [1,3,5]:\n",
    "        #     feature_type = \"feature_list\"+str(feature_id)\n",
    "        #     # print(feature_name)\n",
    "        #     for feature_id_i in range(10):    \n",
    "        #         feature_name = feature_type +\"_\"+ str(feature_id_i)\n",
    "        #         test_df[f\"{feature_name}_item\"] = feature_item_dict[feature_name]\\\n",
    "        #             [user_feature_t[feature_name]].values[:,1].astype(int)\n",
    "        \n",
    "        # # print(\"***\", test_df.shape,test_df.feature1_item.isna().sum())\n",
    "        trn_buffer.append(test_df[trn_cols])\n",
    "        pbar.update(1)\n",
    "        if pbar.n % agg_size == 0 or pbar.n==len(user_id_test):\n",
    "            trn_agg = np.concatenate(trn_buffer)\n",
    "            trn_buffer = []\n",
    "            # preds_agg = model.predict_proba(cp.array(trn_agg))[:,1]\n",
    "            preds_agg = model.predict_proba(trn_agg)[:,1]\n",
    "            # print(\"pred agg\", trn_agg.shape)\n",
    "            for kk in range(len(user_buffer)):\n",
    "                preds = preds_agg[kk*len(test_candidates):(kk+1)*len(test_candidates)]\n",
    "                user_t = user_buffer[kk]\n",
    "                topk_idx = np.argsort(preds)[-72:][::-1]        \n",
    "                item_pred = np.array(test_candidates)[topk_idx]\n",
    "                if user_t in user_with_item:        \n",
    "                    rand_75 = np.random.choice(test_candidates,75)\n",
    "                    item_gt = item_indexed.loc[user_t].item_id\n",
    "                    recalled += 75\n",
    "                    hit += len(set(item_pred).intersection(set(item_gt)))\n",
    "                    rand_hit += len(set(rand_75).intersection(set(item_gt)))\n",
    "                    gt += len(item_gt)\n",
    "                else: oof+=1\n",
    "                ret.append([user_t,item_pred])\n",
    "                pbar.set_postfix(recall=recalled,hit=hit,rand_hit=rand_hit,oof=oof,gt=gt,r=hit/gt)\n",
    "            user_buffer = []"
   ]
  },
  {
   "cell_type": "code",
   "execution_count": 45,
   "metadata": {},
   "outputs": [],
   "source": [
    "import numpy as np\n",
    "ret_user = [x[0] for x in ret]\n",
    "ret_items = [list(x[1][:72]) for x in ret]\n",
    "ret_df = pd.DataFrame({\"user_id\":ret_user, \"recalled_item\":ret_items})"
   ]
  },
  {
   "cell_type": "code",
   "execution_count": 46,
   "metadata": {},
   "outputs": [],
   "source": [
    "ret_df.to_csv(\"result/xgb_group_oof_2.csv\",index=None)"
   ]
  }
 ],
 "metadata": {
  "kernelspec": {
   "display_name": "Python 3",
   "language": "python",
   "name": "python3"
  },
  "language_info": {
   "codemirror_mode": {
    "name": "ipython",
    "version": 3
   },
   "file_extension": ".py",
   "mimetype": "text/x-python",
   "name": "python",
   "nbconvert_exporter": "python",
   "pygments_lexer": "ipython3",
   "version": "3.10.6"
  },
  "orig_nbformat": 4,
  "vscode": {
   "interpreter": {
    "hash": "68eae4f3e7f55890dc732af53cfdd1bb6aef18f4a2f4f781c707b84e0af1643c"
   }
  }
 },
 "nbformat": 4,
 "nbformat_minor": 2
}
