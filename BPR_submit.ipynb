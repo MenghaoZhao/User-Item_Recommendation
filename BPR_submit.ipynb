{
 "cells": [
  {
   "cell_type": "code",
   "execution_count": 2,
   "metadata": {},
   "outputs": [],
   "source": [
    "import pandas as pd\n",
    "user = pd.read_csv(\"users.csv\")\n",
    "item = pd.read_csv(\"user_item.csv\",sep=\"\\t\")\n"
   ]
  },
  {
   "cell_type": "code",
   "execution_count": 3,
   "metadata": {},
   "outputs": [
    {
     "data": {
      "text/plain": [
       "(6319946, 4)"
      ]
     },
     "execution_count": 3,
     "metadata": {},
     "output_type": "execute_result"
    }
   ],
   "source": [
    "item.shape"
   ]
  },
  {
   "cell_type": "code",
   "execution_count": 4,
   "metadata": {},
   "outputs": [
    {
     "data": {
      "text/plain": [
       "(2456196, 4)"
      ]
     },
     "execution_count": 4,
     "metadata": {},
     "output_type": "execute_result"
    }
   ],
   "source": [
    "item[item.user_id.isin(user_target.user_id)].shape"
   ]
  },
  {
   "cell_type": "code",
   "execution_count": 5,
   "metadata": {},
   "outputs": [
    {
     "data": {
      "text/plain": [
       "690442"
      ]
     },
     "execution_count": 5,
     "metadata": {},
     "output_type": "execute_result"
    }
   ],
   "source": [
    "item[~item.user_id.isin(user_target.user_id)].user_id.nunique()"
   ]
  },
  {
   "cell_type": "code",
   "execution_count": 6,
   "metadata": {},
   "outputs": [],
   "source": [
    "item_ids = item.item_id.unique()\n",
    "user_ids = item.user_id.unique()\n",
    "item2idx = {item:idx for idx,item in enumerate(item_ids)}\n",
    "idx2item = {idx:item for item,idx in item2idx.items()}\n",
    "user2idx = {user:idx for idx,user in enumerate(user_ids)}\n",
    "idx2user = {idx:user for idx,user in enumerate(user_ids)}"
   ]
  },
  {
   "cell_type": "code",
   "execution_count": 7,
   "metadata": {},
   "outputs": [
    {
     "data": {
      "text/plain": [
       "('I99999', 328823, 913707, 328823)"
      ]
     },
     "execution_count": 7,
     "metadata": {},
     "output_type": "execute_result"
    }
   ],
   "source": [
    "item.item_id.max(),len(item.item_id.unique()),len(user2idx),len(item2idx)"
   ]
  },
  {
   "cell_type": "code",
   "execution_count": 8,
   "metadata": {},
   "outputs": [
    {
     "data": {
      "text/plain": [
       "(355712, 328823)"
      ]
     },
     "execution_count": 8,
     "metadata": {},
     "output_type": "execute_result"
    }
   ],
   "source": [
    "max([int(x[1:]) for x in item.item_id.values]), len(item2idx)"
   ]
  },
  {
   "attachments": {},
   "cell_type": "markdown",
   "metadata": {},
   "source": [
    "### user feature"
   ]
  },
  {
   "cell_type": "code",
   "execution_count": 9,
   "metadata": {},
   "outputs": [],
   "source": [
    "user_master = pd.read_csv(\"user_master.tsv\",sep=\"\\t\")"
   ]
  },
  {
   "cell_type": "code",
   "execution_count": 10,
   "metadata": {},
   "outputs": [
    {
     "data": {
      "text/plain": [
       "((1640956, 16), 1640956, 1640956)"
      ]
     },
     "execution_count": 10,
     "metadata": {},
     "output_type": "execute_result"
    }
   ],
   "source": [
    "user_master.shape,user_master.user_id.max(),user_master.user_id.nunique()"
   ]
  },
  {
   "cell_type": "code",
   "execution_count": 11,
   "metadata": {},
   "outputs": [
    {
     "data": {
      "text/plain": [
       "(940785, 16)"
      ]
     },
     "execution_count": 11,
     "metadata": {},
     "output_type": "execute_result"
    }
   ],
   "source": [
    "user_feature = user_master[user_master.user_id.isin(set(user_ids).union(set(user_target.user_id)))]\n",
    "user_feature = user_feature.reset_index(drop=True)\n",
    "user_feature.shape"
   ]
  },
  {
   "cell_type": "code",
   "execution_count": 12,
   "metadata": {},
   "outputs": [
    {
     "data": {
      "text/plain": [
       "(940785, 16)"
      ]
     },
     "execution_count": 12,
     "metadata": {},
     "output_type": "execute_result"
    }
   ],
   "source": [
    "# user_feature = user_feature[[\"user_id\"]]\n",
    "user_feature.shape"
   ]
  },
  {
   "cell_type": "code",
   "execution_count": 45,
   "metadata": {},
   "outputs": [
    {
     "data": {
      "text/plain": [
       "27078"
      ]
     },
     "execution_count": 45,
     "metadata": {},
     "output_type": "execute_result"
    }
   ],
   "source": [
    "len(set(user_target.user_id)-set(item.user_id))"
   ]
  },
  {
   "cell_type": "code",
   "execution_count": 13,
   "metadata": {},
   "outputs": [],
   "source": [
    "user_feature = pd.concat([user_feature,pd.get_dummies(user_feature[\"feature1\"])],axis=1)\n",
    "user_feature = pd.concat([user_feature,pd.get_dummies(user_feature[\"feature2\"])],axis=1)\n",
    "user_feature = pd.concat([user_feature,pd.get_dummies(user_feature[\"feature3\"])],axis=1)\n",
    "user_feature = pd.concat([user_feature,pd.get_dummies(user_feature[\"feature4\"])],axis=1)\n",
    "user_feature = pd.concat([user_feature,pd.get_dummies(user_feature[\"feature5\"])],axis=1)\n",
    "user_feature = pd.concat([user_feature,pd.get_dummies(user_feature[\"feature6\"])],axis=1)"
   ]
  },
  {
   "cell_type": "code",
   "execution_count": 17,
   "metadata": {},
   "outputs": [
    {
     "data": {
      "text/plain": [
       "Index(['user_id', 'feature1', 'feature2', 'feature3', 'feature4', 'feature5',\n",
       "       'feature6', 'feature_list1', 'feature_list2',\n",
       "       'feature_list2_frequencies',\n",
       "       ...\n",
       "       'F1', 'F10', 'F2', 'F3', 'F4', 'F5', 'F6', 'F7', 'F8', 'F9'],\n",
       "      dtype='object', length=102)"
      ]
     },
     "execution_count": 17,
     "metadata": {},
     "output_type": "execute_result"
    }
   ],
   "source": [
    "user_feature.columns"
   ]
  },
  {
   "cell_type": "code",
   "execution_count": 18,
   "metadata": {},
   "outputs": [
    {
     "data": {
      "text/plain": [
       "(691693, 249091, 1)"
      ]
     },
     "execution_count": 18,
     "metadata": {},
     "output_type": "execute_result"
    }
   ],
   "source": [
    "user_feature[\"A1\"].sum(),user_feature[\"A2\"].sum(),user_feature[\"A3\"].sum()"
   ]
  },
  {
   "cell_type": "code",
   "execution_count": 14,
   "metadata": {},
   "outputs": [],
   "source": [
    "from sklearn.preprocessing import MultiLabelBinarizer\n",
    "import numpy as np\n",
    "def multihot_encode(user_fea, target, topk = 9999):\n",
    "    feature_list = user_fea[target].apply(lambda x:str(x).split(',')).values\n",
    "    feature_list_multihot = MultiLabelBinarizer().fit_transform(feature_list)\n",
    "    common_feature_idx = np.argsort(feature_list_multihot.sum(axis=0))[-topk:]\n",
    "    common_feature_idx = common_feature_idx[::-1]\n",
    "    # print(feature_list_multihot.sum(axis=0)[common_feature_idx])\n",
    "    # feature_list_multihot = feature_list_multihot.astype(np.bool_)\n",
    "    extra_feature = pd.DataFrame(feature_list_multihot[:,common_feature_idx],dtype=bool)\n",
    "    extra_feature.columns=[target+\"_\"+str(ii) for ii in range(extra_feature.shape[1])]\n",
    "    # print(extra_feature.memory_usage())\n",
    "    return extra_feature"
   ]
  },
  {
   "cell_type": "code",
   "execution_count": null,
   "metadata": {},
   "outputs": [],
   "source": [
    "parsed_list3 = user_feature[\"feature_list3\"].apply(lambda x:str(x).split(',')).values\n",
    "parsed_list2 = user_feature[\"feature_list2\"].apply(lambda x:str(x).split(',')).values\n",
    "parsed_list4 = user_feature[\"feature_list4\"].apply(lambda x:str(x).split(',')).values\n",
    "parsed_list5 = user_feature[\"feature_list5\"].apply(lambda x:str(x).split(',')).values"
   ]
  },
  {
   "cell_type": "code",
   "execution_count": null,
   "metadata": {},
   "outputs": [
    {
     "data": {
      "text/plain": [
       "66837"
      ]
     },
     "execution_count": 31,
     "metadata": {},
     "output_type": "execute_result"
    }
   ],
   "source": [
    "list_fea = [y for x in parsed_list2 for y in x]\n",
    "len(set(list_fea))"
   ]
  },
  {
   "cell_type": "code",
   "execution_count": 15,
   "metadata": {},
   "outputs": [],
   "source": [
    "for i in [1,3,5]:\n",
    "    feature_list_multihot = multihot_encode(user_feature,f\"feature_list{i}\",10)\n",
    "    user_feature = pd.concat([user_feature,feature_list_multihot],axis=1)"
   ]
  },
  {
   "cell_type": "code",
   "execution_count": 21,
   "metadata": {},
   "outputs": [],
   "source": [
    "# user_feature"
   ]
  },
  {
   "cell_type": "code",
   "execution_count": null,
   "metadata": {},
   "outputs": [],
   "source": [
    "list(user_feature.columns)"
   ]
  },
  {
   "cell_type": "code",
   "execution_count": 16,
   "metadata": {},
   "outputs": [
    {
     "name": "stdout",
     "output_type": "stream",
     "text": [
      "-- Mem. usage decreased to 215.33 Mb (1.6% reduction),time spend:0.00 min\n"
     ]
    }
   ],
   "source": [
    "import importlib\n",
    "import BPR_lib\n",
    "importlib.reload(BPR_lib)\n",
    "from BPR_lib import reduce_mem\n",
    "user_feature = reduce_mem(user_feature)"
   ]
  },
  {
   "attachments": {},
   "cell_type": "markdown",
   "metadata": {},
   "source": [
    "### hist / last"
   ]
  },
  {
   "cell_type": "code",
   "execution_count": 17,
   "metadata": {},
   "outputs": [],
   "source": [
    "item = item.sort_values(by=['user_id', 'latest_timestamp'])\n",
    "item_last = item.groupby(\"user_id\").tail(1)\n",
    "def hist_func(user_df):\n",
    "    if len(user_df) == 1:\n",
    "        return user_df\n",
    "    else:\n",
    "        return user_df[:-1]\n",
    "from tqdm import tqdm\n",
    "tqdm.pandas()\n",
    "\n",
    "# item_hist = item.groupby('user_id').progress_apply(hist_func).reset_index(drop=True)"
   ]
  },
  {
   "cell_type": "code",
   "execution_count": 18,
   "metadata": {},
   "outputs": [],
   "source": [
    "# item_hist.to_csv(\"item_hist.csv\",index=False)\n",
    "item_hist = pd.read_csv(\"item_hist.csv\",index_col=None)"
   ]
  },
  {
   "cell_type": "code",
   "execution_count": 19,
   "metadata": {},
   "outputs": [
    {
     "data": {
      "text/plain": [
       "((5525076, 4), (913707, 4), (6319946, 4))"
      ]
     },
     "execution_count": 19,
     "metadata": {},
     "output_type": "execute_result"
    }
   ],
   "source": [
    "item_hist.shape, item_last.shape, item.shape"
   ]
  },
  {
   "cell_type": "code",
   "execution_count": 29,
   "metadata": {},
   "outputs": [
    {
     "data": {
      "text/plain": [
       "((118837, 6),\n",
       "    user_id  item_id  latest_timestamp_x  frequency_x  latest_timestamp_y  \\\n",
       " 0       19  I279860          1587772800            1          1587772800   \n",
       " 1       26  I339856          1581379200            1          1581379200   \n",
       " 2       47  I180868          1581292800            1          1581292800   \n",
       " 3       58  I348207          1584316800            1          1584316800   \n",
       " 4       76  I210903          1586736000            1          1586736000   \n",
       " \n",
       "    frequency_y  \n",
       " 0            1  \n",
       " 1            1  \n",
       " 2            1  \n",
       " 3            1  \n",
       " 4            1  )"
      ]
     },
     "execution_count": 29,
     "metadata": {},
     "output_type": "execute_result"
    }
   ],
   "source": [
    "check = item_last.merge(item_hist,on=[\"user_id\", \"item_id\"])\n",
    "check.shape, check[check.latest_timestamp_x == check.latest_timestamp_y].head()"
   ]
  },
  {
   "cell_type": "code",
   "execution_count": null,
   "metadata": {},
   "outputs": [
    {
     "data": {
      "text/html": [
       "<div>\n",
       "<style scoped>\n",
       "    .dataframe tbody tr th:only-of-type {\n",
       "        vertical-align: middle;\n",
       "    }\n",
       "\n",
       "    .dataframe tbody tr th {\n",
       "        vertical-align: top;\n",
       "    }\n",
       "\n",
       "    .dataframe thead th {\n",
       "        text-align: right;\n",
       "    }\n",
       "</style>\n",
       "<table border=\"1\" class=\"dataframe\">\n",
       "  <thead>\n",
       "    <tr style=\"text-align: right;\">\n",
       "      <th></th>\n",
       "      <th></th>\n",
       "      <th>latest_timestamp</th>\n",
       "      <th>frequency</th>\n",
       "    </tr>\n",
       "    <tr>\n",
       "      <th>user_id</th>\n",
       "      <th>item_id</th>\n",
       "      <th></th>\n",
       "      <th></th>\n",
       "    </tr>\n",
       "  </thead>\n",
       "  <tbody>\n",
       "    <tr>\n",
       "      <th rowspan=\"8\" valign=\"top\">51</th>\n",
       "      <th>I280244</th>\n",
       "      <td>1581724800</td>\n",
       "      <td>1</td>\n",
       "    </tr>\n",
       "    <tr>\n",
       "      <th>I89484</th>\n",
       "      <td>1583280000</td>\n",
       "      <td>1</td>\n",
       "    </tr>\n",
       "    <tr>\n",
       "      <th>I80529</th>\n",
       "      <td>1584921600</td>\n",
       "      <td>1</td>\n",
       "    </tr>\n",
       "    <tr>\n",
       "      <th>I76294</th>\n",
       "      <td>1584921600</td>\n",
       "      <td>1</td>\n",
       "    </tr>\n",
       "    <tr>\n",
       "      <th>I72579</th>\n",
       "      <td>1584921600</td>\n",
       "      <td>2</td>\n",
       "    </tr>\n",
       "    <tr>\n",
       "      <th>I78233</th>\n",
       "      <td>1584921600</td>\n",
       "      <td>2</td>\n",
       "    </tr>\n",
       "    <tr>\n",
       "      <th>I145321</th>\n",
       "      <td>1584921600</td>\n",
       "      <td>2</td>\n",
       "    </tr>\n",
       "    <tr>\n",
       "      <th>I333846</th>\n",
       "      <td>1584921600</td>\n",
       "      <td>2</td>\n",
       "    </tr>\n",
       "  </tbody>\n",
       "</table>\n",
       "</div>"
      ],
      "text/plain": [
       "                 latest_timestamp  frequency\n",
       "user_id item_id                             \n",
       "51      I280244        1581724800          1\n",
       "        I89484         1583280000          1\n",
       "        I80529         1584921600          1\n",
       "        I76294         1584921600          1\n",
       "        I72579         1584921600          2\n",
       "        I78233         1584921600          2\n",
       "        I145321        1584921600          2\n",
       "        I333846        1584921600          2"
      ]
     },
     "metadata": {},
     "output_type": "display_data"
    }
   ],
   "source": [
    "item.set_index([\"user_id\",\"item_id\"]).loc[51].loc[\"I145321\"]"
   ]
  },
  {
   "cell_type": "code",
   "execution_count": null,
   "metadata": {},
   "outputs": [
    {
     "data": {
      "text/plain": [
       "(1585465311.0250878, 1584377814.3402915)"
      ]
     },
     "metadata": {},
     "output_type": "display_data"
    }
   ],
   "source": [
    "item_last.latest_timestamp.mean(), item_hist.latest_timestamp.mean()"
   ]
  },
  {
   "cell_type": "code",
   "execution_count": null,
   "metadata": {},
   "outputs": [
    {
     "data": {
      "text/plain": [
       "(312038, 328823)"
      ]
     },
     "execution_count": 68,
     "metadata": {},
     "output_type": "execute_result"
    }
   ],
   "source": [
    "item_hist.item_id.nunique(),item.item_id.nunique()"
   ]
  },
  {
   "cell_type": "code",
   "execution_count": null,
   "metadata": {},
   "outputs": [
    {
     "data": {
      "text/plain": [
       "(1588118400, 1580428800)"
      ]
     },
     "execution_count": 31,
     "metadata": {},
     "output_type": "execute_result"
    }
   ],
   "source": [
    "item.latest_timestamp.max() - item.latest_timestamp.min()\n",
    "item.latest_timestamp.max() ,item.latest_timestamp.min()"
   ]
  },
  {
   "cell_type": "code",
   "execution_count": null,
   "metadata": {},
   "outputs": [
    {
     "data": {
      "text/plain": [
       "((1342378, 137), (6319946, 4), (250343, 1))"
      ]
     },
     "execution_count": 70,
     "metadata": {},
     "output_type": "execute_result"
    }
   ],
   "source": [
    "user_feature.shape, item.shape,user_target.shape"
   ]
  },
  {
   "cell_type": "code",
   "execution_count": null,
   "metadata": {},
   "outputs": [
    {
     "data": {
      "text/plain": [
       "(item_id\n",
       " I102695    20798\n",
       " I103751    19440\n",
       " I302808    19390\n",
       " I177269    18896\n",
       " I31876     15219\n",
       " I46072     14590\n",
       " I337068    14415\n",
       " I193280    12601\n",
       " I196644    11955\n",
       " I7453      11882\n",
       " Name: latest_timestamp, dtype: int64,\n",
       " item_id\n",
       " I102695    20798\n",
       " I103751    19440\n",
       " I302808    19390\n",
       " I177269    18896\n",
       " I31876     15219\n",
       " I46072     14590\n",
       " I337068    14415\n",
       " I193280    12601\n",
       " I196644    11955\n",
       " I7453      11882\n",
       " Name: count, dtype: int64)"
      ]
     },
     "execution_count": 69,
     "metadata": {},
     "output_type": "execute_result"
    }
   ],
   "source": [
    "popular_items = item_hist.groupby(\"item_id\")[\"latest_timestamp\"].count()\\\n",
    "    .sort_values(ascending=False)\n",
    "popular_2 = item_hist[\"item_id\"].value_counts()[:]\n",
    "popular_items[:10],popular_2[:10]"
   ]
  },
  {
   "cell_type": "code",
   "execution_count": null,
   "metadata": {},
   "outputs": [],
   "source": [
    "item_hist.user_id.max()"
   ]
  },
  {
   "attachments": {},
   "cell_type": "markdown",
   "metadata": {},
   "source": [
    "### train valid split"
   ]
  },
  {
   "cell_type": "code",
   "execution_count": 20,
   "metadata": {},
   "outputs": [],
   "source": [
    "from sklearn.model_selection import GroupKFold\n",
    "kFold = GroupKFold(n_splits=5)\n",
    "\n",
    "for i, (trn_idx, val_idx) in enumerate(kFold.split(item_hist,item_hist,groups=item_hist[\"user_id\"])):\n",
    "    item_trn = item_hist.iloc[trn_idx]\n",
    "    item_val = item_hist.iloc[val_idx]\n",
    "    break\n"
   ]
  },
  {
   "cell_type": "code",
   "execution_count": 74,
   "metadata": {},
   "outputs": [],
   "source": [
    "item_trn = item_hist.iloc[trn_idx]\n",
    "item_val = item_hist.iloc[val_idx]"
   ]
  },
  {
   "cell_type": "code",
   "execution_count": 110,
   "metadata": {},
   "outputs": [
    {
     "data": {
      "text/plain": [
       "(730966, 182741, 283142, 182741)"
      ]
     },
     "execution_count": 110,
     "metadata": {},
     "output_type": "execute_result"
    }
   ],
   "source": [
    "item_trn.user_id.nunique(),item_val.user_id.nunique(),\\\n",
    "  item_trn.item_id.nunique(),item_val.user_id.nunique()"
   ]
  },
  {
   "attachments": {},
   "cell_type": "markdown",
   "metadata": {},
   "source": [
    "### make dataset"
   ]
  },
  {
   "cell_type": "code",
   "execution_count": 85,
   "metadata": {},
   "outputs": [],
   "source": [
    "\n",
    "N = 150000\n",
    "# top_items = list(item[\"item_id\"].value_counts().index[:N].values)\n",
    "top_items = [item2idx[x] for x in item.item_id.values]\n",
    "# N_U = 450000\n",
    "# top_users = list(item[\"user_id\"].value_counts().index[:N_U].values)\n",
    "\n",
    "train_data_base = item[[\"user_id\",\"item_id\"]]\n",
    "train_data_base.loc[:,\"item_id\"] = train_data_base.item_id.apply(lambda x:item2idx[x])\n",
    "\n",
    "# train_data_base = train_data_base[train_data_base.item_id.isin(top_items)]\n",
    "# train_data_base = train_data_base[train_data_base.user_id.isin(top_users)]\n",
    "\n",
    "# print(\"choosing top\", N,N_U, item.shape[0],train_data_base.shape[0])"
   ]
  },
  {
   "cell_type": "code",
   "execution_count": 122,
   "metadata": {},
   "outputs": [
    {
     "name": "stdout",
     "output_type": "stream",
     "text": [
      "0 ...\n",
      "1 ...\n",
      "2 ...\n",
      "3 ...\n",
      "4 ...\n",
      "5 ...\n",
      "6 ...\n",
      "7 ...\n",
      "8 ...\n",
      "9 ...\n"
     ]
    },
    {
     "data": {
      "text/html": [
       "<div>\n",
       "<style scoped>\n",
       "    .dataframe tbody tr th:only-of-type {\n",
       "        vertical-align: middle;\n",
       "    }\n",
       "\n",
       "    .dataframe tbody tr th {\n",
       "        vertical-align: top;\n",
       "    }\n",
       "\n",
       "    .dataframe thead th {\n",
       "        text-align: right;\n",
       "    }\n",
       "</style>\n",
       "<table border=\"1\" class=\"dataframe\">\n",
       "  <thead>\n",
       "    <tr style=\"text-align: right;\">\n",
       "      <th></th>\n",
       "      <th>user_id</th>\n",
       "      <th>item_id</th>\n",
       "      <th>neg_item_id</th>\n",
       "    </tr>\n",
       "  </thead>\n",
       "  <tbody>\n",
       "    <tr>\n",
       "      <th>1669837</th>\n",
       "      <td>2</td>\n",
       "      <td>2719</td>\n",
       "      <td>229</td>\n",
       "    </tr>\n",
       "    <tr>\n",
       "      <th>1669838</th>\n",
       "      <td>2</td>\n",
       "      <td>19194</td>\n",
       "      <td>10138</td>\n",
       "    </tr>\n",
       "    <tr>\n",
       "      <th>4139901</th>\n",
       "      <td>3</td>\n",
       "      <td>17221</td>\n",
       "      <td>11946</td>\n",
       "    </tr>\n",
       "    <tr>\n",
       "      <th>4139902</th>\n",
       "      <td>3</td>\n",
       "      <td>3770</td>\n",
       "      <td>10555</td>\n",
       "    </tr>\n",
       "    <tr>\n",
       "      <th>4139903</th>\n",
       "      <td>3</td>\n",
       "      <td>17225</td>\n",
       "      <td>1135</td>\n",
       "    </tr>\n",
       "  </tbody>\n",
       "</table>\n",
       "</div>"
      ],
      "text/plain": [
       "         user_id item_id  neg_item_id\n",
       "1669837        2    2719          229\n",
       "1669838        2   19194        10138\n",
       "4139901        3   17221        11946\n",
       "4139902        3    3770        10555\n",
       "4139903        3   17225         1135"
      ]
     },
     "execution_count": 122,
     "metadata": {},
     "output_type": "execute_result"
    }
   ],
   "source": [
    "import random\n",
    "import numpy as np\n",
    "\n",
    "train_list = []\n",
    "for neg_num in range(10):\n",
    "    print(neg_num, \"...\")\n",
    "    train_data_base.loc[:,\"neg_item_id\"] = np.random.choice(top_items,train_data_base.shape[0])\n",
    "    # train_data_base.loc[:,\"neg_item_id\"] = train_data_base.neg_item_id.apply(lambda x:item2idx[x])\n",
    "    train_list.append(train_data_base.copy())\n",
    "train_data = pd.concat(train_list)\n",
    "train_data.head(5)"
   ]
  },
  {
   "cell_type": "code",
   "execution_count": 87,
   "metadata": {},
   "outputs": [
    {
     "data": {
      "text/plain": [
       "((63199460, 3), (6319946, 3))"
      ]
     },
     "execution_count": 87,
     "metadata": {},
     "output_type": "execute_result"
    }
   ],
   "source": [
    "train_data.shape, train_data_base.shape"
   ]
  },
  {
   "cell_type": "code",
   "execution_count": 123,
   "metadata": {},
   "outputs": [
    {
     "name": "stdout",
     "output_type": "stream",
     "text": [
      "(44200600, 119) 730966 283142\n",
      "328823 (4420060, 3)\n",
      "39780540 592\n"
     ]
    }
   ],
   "source": [
    "print(train_data.shape, train_data.user_id.nunique(),train_data.item_id.nunique())\n",
    "print(train_data.neg_item_id.nunique(), train_data_base.shape)\n",
    "print(train_data[[\"user_id\",\"item_id\"]].duplicated().sum(),\\\n",
    "            train_data[[\"user_id\",\"item_id\",\"neg_item_id\"]].duplicated().sum())"
   ]
  },
  {
   "cell_type": "code",
   "execution_count": null,
   "metadata": {},
   "outputs": [
    {
     "data": {
      "text/plain": [
       "count    30000.000000\n",
       "mean        91.420233\n",
       "std        281.732354\n",
       "min          2.000000\n",
       "25%         15.000000\n",
       "50%         25.000000\n",
       "75%         57.000000\n",
       "max       8603.000000\n",
       "Name: count, dtype: float64"
      ]
     },
     "execution_count": 142,
     "metadata": {},
     "output_type": "execute_result"
    }
   ],
   "source": [
    "train_data_base.item_id.value_counts().describe()"
   ]
  },
  {
   "cell_type": "code",
   "execution_count": null,
   "metadata": {},
   "outputs": [
    {
     "data": {
      "text/plain": [
       "count    199754.000000\n",
       "mean         13.729923\n",
       "std          13.007129\n",
       "min           1.000000\n",
       "25%           9.000000\n",
       "50%          11.000000\n",
       "75%          15.000000\n",
       "max        1055.000000\n",
       "Name: count, dtype: float64"
      ]
     },
     "execution_count": 49,
     "metadata": {},
     "output_type": "execute_result"
    }
   ],
   "source": [
    "train_data_base.user_id.value_counts().describe()"
   ]
  },
  {
   "cell_type": "code",
   "execution_count": 349,
   "metadata": {},
   "outputs": [
    {
     "data": {
      "text/plain": [
       "count    328823.000000\n",
       "mean         19.219903\n",
       "std         196.719348\n",
       "min           1.000000\n",
       "25%           1.000000\n",
       "50%           2.000000\n",
       "75%           6.000000\n",
       "max       23663.000000\n",
       "Name: count, dtype: float64"
      ]
     },
     "execution_count": 349,
     "metadata": {},
     "output_type": "execute_result"
    }
   ],
   "source": [
    "item.item_id.value_counts().describe()"
   ]
  },
  {
   "cell_type": "code",
   "execution_count": null,
   "metadata": {},
   "outputs": [
    {
     "data": {
      "text/html": [
       "<div>\n",
       "<style scoped>\n",
       "    .dataframe tbody tr th:only-of-type {\n",
       "        vertical-align: middle;\n",
       "    }\n",
       "\n",
       "    .dataframe tbody tr th {\n",
       "        vertical-align: top;\n",
       "    }\n",
       "\n",
       "    .dataframe thead th {\n",
       "        text-align: right;\n",
       "    }\n",
       "</style>\n",
       "<table border=\"1\" class=\"dataframe\">\n",
       "  <thead>\n",
       "    <tr style=\"text-align: right;\">\n",
       "      <th></th>\n",
       "      <th>user_id</th>\n",
       "      <th>item_id</th>\n",
       "      <th>neg_item_id</th>\n",
       "    </tr>\n",
       "  </thead>\n",
       "  <tbody>\n",
       "    <tr>\n",
       "      <th>0</th>\n",
       "      <td>484</td>\n",
       "      <td>0</td>\n",
       "      <td>108872</td>\n",
       "    </tr>\n",
       "    <tr>\n",
       "      <th>1</th>\n",
       "      <td>484</td>\n",
       "      <td>1</td>\n",
       "      <td>13764</td>\n",
       "    </tr>\n",
       "    <tr>\n",
       "      <th>2</th>\n",
       "      <td>815</td>\n",
       "      <td>2</td>\n",
       "      <td>108122</td>\n",
       "    </tr>\n",
       "    <tr>\n",
       "      <th>3</th>\n",
       "      <td>998</td>\n",
       "      <td>3</td>\n",
       "      <td>121519</td>\n",
       "    </tr>\n",
       "    <tr>\n",
       "      <th>4</th>\n",
       "      <td>998</td>\n",
       "      <td>4</td>\n",
       "      <td>261507</td>\n",
       "    </tr>\n",
       "  </tbody>\n",
       "</table>\n",
       "</div>"
      ],
      "text/plain": [
       "   user_id item_id neg_item_id\n",
       "0      484       0      108872\n",
       "1      484       1       13764\n",
       "2      815       2      108122\n",
       "3      998       3      121519\n",
       "4      998       4      261507"
      ]
     },
     "execution_count": 13,
     "metadata": {},
     "output_type": "execute_result"
    }
   ],
   "source": [
    "train_data.head()"
   ]
  },
  {
   "cell_type": "code",
   "execution_count": null,
   "metadata": {},
   "outputs": [
    {
     "data": {
      "text/plain": [
       "item_id\n",
       "44052    8\n",
       "Name: count, dtype: int64"
      ]
     },
     "execution_count": 15,
     "metadata": {},
     "output_type": "execute_result"
    }
   ],
   "source": [
    "train_data.item_id.value_counts().sort_values(ascending=False)[149999:]"
   ]
  },
  {
   "cell_type": "code",
   "execution_count": null,
   "metadata": {},
   "outputs": [
    {
     "data": {
      "text/plain": [
       "(908075, 182741)"
      ]
     },
     "execution_count": 16,
     "metadata": {},
     "output_type": "execute_result"
    }
   ],
   "source": [
    "train_data.user_id.nunique(),item_val.user_id.nunique()"
   ]
  },
  {
   "cell_type": "code",
   "execution_count": null,
   "metadata": {},
   "outputs": [],
   "source": [
    "# from sklearn.utils import shuffle\n",
    "# train_data = shuffle(train_data)\n",
    "# train_data\n"
   ]
  },
  {
   "cell_type": "code",
   "execution_count": null,
   "metadata": {},
   "outputs": [
    {
     "data": {
      "text/html": [
       "<div>\n",
       "<style scoped>\n",
       "    .dataframe tbody tr th:only-of-type {\n",
       "        vertical-align: middle;\n",
       "    }\n",
       "\n",
       "    .dataframe tbody tr th {\n",
       "        vertical-align: top;\n",
       "    }\n",
       "\n",
       "    .dataframe thead th {\n",
       "        text-align: right;\n",
       "    }\n",
       "</style>\n",
       "<table border=\"1\" class=\"dataframe\">\n",
       "  <thead>\n",
       "    <tr style=\"text-align: right;\">\n",
       "      <th></th>\n",
       "      <th>user_id</th>\n",
       "      <th>item_id</th>\n",
       "      <th>neg_item_id</th>\n",
       "    </tr>\n",
       "  </thead>\n",
       "  <tbody>\n",
       "    <tr>\n",
       "      <th>5</th>\n",
       "      <td>998</td>\n",
       "      <td>5</td>\n",
       "      <td>147028</td>\n",
       "    </tr>\n",
       "    <tr>\n",
       "      <th>6</th>\n",
       "      <td>998</td>\n",
       "      <td>6</td>\n",
       "      <td>7095</td>\n",
       "    </tr>\n",
       "    <tr>\n",
       "      <th>4</th>\n",
       "      <td>998</td>\n",
       "      <td>4</td>\n",
       "      <td>171863</td>\n",
       "    </tr>\n",
       "    <tr>\n",
       "      <th>0</th>\n",
       "      <td>484</td>\n",
       "      <td>0</td>\n",
       "      <td>44927</td>\n",
       "    </tr>\n",
       "    <tr>\n",
       "      <th>2</th>\n",
       "      <td>815</td>\n",
       "      <td>2</td>\n",
       "      <td>8695</td>\n",
       "    </tr>\n",
       "  </tbody>\n",
       "</table>\n",
       "</div>"
      ],
      "text/plain": [
       "   user_id item_id neg_item_id\n",
       "5      998       5      147028\n",
       "6      998       6        7095\n",
       "4      998       4      171863\n",
       "0      484       0       44927\n",
       "2      815       2        8695"
      ]
     },
     "execution_count": 18,
     "metadata": {},
     "output_type": "execute_result"
    }
   ],
   "source": [
    "train_data.iloc[:10].sample(5)"
   ]
  },
  {
   "cell_type": "code",
   "execution_count": null,
   "metadata": {},
   "outputs": [
    {
     "data": {
      "text/plain": [
       "1640953"
      ]
     },
     "execution_count": 14,
     "metadata": {},
     "output_type": "execute_result"
    }
   ],
   "source": [
    "user_target.user_id.max()"
   ]
  },
  {
   "cell_type": "code",
   "execution_count": 36,
   "metadata": {},
   "outputs": [
    {
     "data": {
      "text/plain": [
       "['A1',\n",
       " 'A2',\n",
       " 'A3',\n",
       " 'B1',\n",
       " 'B10',\n",
       " 'B11',\n",
       " 'B12',\n",
       " 'B13',\n",
       " 'B14',\n",
       " 'B15',\n",
       " 'B16',\n",
       " 'B17',\n",
       " 'B18',\n",
       " 'B19',\n",
       " 'B2',\n",
       " 'B20',\n",
       " 'B21',\n",
       " 'B22',\n",
       " 'B23',\n",
       " 'B24',\n",
       " 'B25',\n",
       " 'B26',\n",
       " 'B27',\n",
       " 'B28',\n",
       " 'B29',\n",
       " 'B3',\n",
       " 'B30',\n",
       " 'B31',\n",
       " 'B32',\n",
       " 'B33',\n",
       " 'B34',\n",
       " 'B35',\n",
       " 'B36',\n",
       " 'B37',\n",
       " 'B38',\n",
       " 'B39',\n",
       " 'B4',\n",
       " 'B40',\n",
       " 'B41',\n",
       " 'B42',\n",
       " 'B43',\n",
       " 'B44',\n",
       " 'B45',\n",
       " 'B46',\n",
       " 'B47',\n",
       " 'B48',\n",
       " 'B5',\n",
       " 'B6',\n",
       " 'B7',\n",
       " 'B8',\n",
       " 'B9',\n",
       " 'C1',\n",
       " 'C10',\n",
       " 'C11',\n",
       " 'C2',\n",
       " 'C3',\n",
       " 'C4',\n",
       " 'C5',\n",
       " 'C6',\n",
       " 'C7',\n",
       " 'C8',\n",
       " 'C9',\n",
       " 'D1',\n",
       " 'D2',\n",
       " 'E1',\n",
       " 'E10',\n",
       " 'E11',\n",
       " 'E12',\n",
       " 'E2',\n",
       " 'E3',\n",
       " 'E4',\n",
       " 'E5',\n",
       " 'E6',\n",
       " 'E7',\n",
       " 'E8',\n",
       " 'E9',\n",
       " 'F1',\n",
       " 'F10',\n",
       " 'F2',\n",
       " 'F3',\n",
       " 'F4',\n",
       " 'F5',\n",
       " 'F6',\n",
       " 'F7',\n",
       " 'F8',\n",
       " 'F9',\n",
       " 'feature_list1_0',\n",
       " 'feature_list1_1',\n",
       " 'feature_list1_2',\n",
       " 'feature_list1_3',\n",
       " 'feature_list1_4',\n",
       " 'feature_list1_5',\n",
       " 'feature_list1_6',\n",
       " 'feature_list1_7',\n",
       " 'feature_list1_8',\n",
       " 'feature_list1_9',\n",
       " 'feature_list3_0',\n",
       " 'feature_list3_1',\n",
       " 'feature_list3_2',\n",
       " 'feature_list3_3',\n",
       " 'feature_list3_4',\n",
       " 'feature_list3_5',\n",
       " 'feature_list3_6',\n",
       " 'feature_list3_7',\n",
       " 'feature_list3_8',\n",
       " 'feature_list3_9',\n",
       " 'feature_list5_0',\n",
       " 'feature_list5_1',\n",
       " 'feature_list5_2',\n",
       " 'feature_list5_3',\n",
       " 'feature_list5_4',\n",
       " 'feature_list5_5',\n",
       " 'feature_list5_6',\n",
       " 'feature_list5_7',\n",
       " 'feature_list5_8',\n",
       " 'feature_list5_9']"
      ]
     },
     "execution_count": 36,
     "metadata": {},
     "output_type": "execute_result"
    }
   ],
   "source": [
    "list(user_feature.columns[16:])"
   ]
  },
  {
   "cell_type": "code",
   "execution_count": 24,
   "metadata": {},
   "outputs": [
    {
     "data": {
      "text/html": [
       "<div>\n",
       "<style scoped>\n",
       "    .dataframe tbody tr th:only-of-type {\n",
       "        vertical-align: middle;\n",
       "    }\n",
       "\n",
       "    .dataframe tbody tr th {\n",
       "        vertical-align: top;\n",
       "    }\n",
       "\n",
       "    .dataframe thead th {\n",
       "        text-align: right;\n",
       "    }\n",
       "</style>\n",
       "<table border=\"1\" class=\"dataframe\">\n",
       "  <thead>\n",
       "    <tr style=\"text-align: right;\">\n",
       "      <th></th>\n",
       "      <th>A1</th>\n",
       "      <th>A2</th>\n",
       "      <th>A3</th>\n",
       "      <th>B1</th>\n",
       "      <th>B10</th>\n",
       "      <th>B11</th>\n",
       "      <th>B12</th>\n",
       "      <th>B13</th>\n",
       "      <th>B14</th>\n",
       "      <th>B15</th>\n",
       "      <th>...</th>\n",
       "      <th>feature_list5_0</th>\n",
       "      <th>feature_list5_1</th>\n",
       "      <th>feature_list5_2</th>\n",
       "      <th>feature_list5_3</th>\n",
       "      <th>feature_list5_4</th>\n",
       "      <th>feature_list5_5</th>\n",
       "      <th>feature_list5_6</th>\n",
       "      <th>feature_list5_7</th>\n",
       "      <th>feature_list5_8</th>\n",
       "      <th>feature_list5_9</th>\n",
       "    </tr>\n",
       "    <tr>\n",
       "      <th>user_id</th>\n",
       "      <th></th>\n",
       "      <th></th>\n",
       "      <th></th>\n",
       "      <th></th>\n",
       "      <th></th>\n",
       "      <th></th>\n",
       "      <th></th>\n",
       "      <th></th>\n",
       "      <th></th>\n",
       "      <th></th>\n",
       "      <th></th>\n",
       "      <th></th>\n",
       "      <th></th>\n",
       "      <th></th>\n",
       "      <th></th>\n",
       "      <th></th>\n",
       "      <th></th>\n",
       "      <th></th>\n",
       "      <th></th>\n",
       "      <th></th>\n",
       "      <th></th>\n",
       "    </tr>\n",
       "  </thead>\n",
       "  <tbody>\n",
       "    <tr>\n",
       "      <th>484</th>\n",
       "      <td>True</td>\n",
       "      <td>False</td>\n",
       "      <td>False</td>\n",
       "      <td>False</td>\n",
       "      <td>False</td>\n",
       "      <td>False</td>\n",
       "      <td>False</td>\n",
       "      <td>False</td>\n",
       "      <td>False</td>\n",
       "      <td>False</td>\n",
       "      <td>...</td>\n",
       "      <td>True</td>\n",
       "      <td>True</td>\n",
       "      <td>True</td>\n",
       "      <td>True</td>\n",
       "      <td>True</td>\n",
       "      <td>False</td>\n",
       "      <td>True</td>\n",
       "      <td>True</td>\n",
       "      <td>False</td>\n",
       "      <td>True</td>\n",
       "    </tr>\n",
       "    <tr>\n",
       "      <th>815</th>\n",
       "      <td>False</td>\n",
       "      <td>True</td>\n",
       "      <td>False</td>\n",
       "      <td>False</td>\n",
       "      <td>False</td>\n",
       "      <td>False</td>\n",
       "      <td>False</td>\n",
       "      <td>False</td>\n",
       "      <td>False</td>\n",
       "      <td>False</td>\n",
       "      <td>...</td>\n",
       "      <td>False</td>\n",
       "      <td>False</td>\n",
       "      <td>False</td>\n",
       "      <td>False</td>\n",
       "      <td>False</td>\n",
       "      <td>False</td>\n",
       "      <td>False</td>\n",
       "      <td>False</td>\n",
       "      <td>True</td>\n",
       "      <td>False</td>\n",
       "    </tr>\n",
       "    <tr>\n",
       "      <th>998</th>\n",
       "      <td>True</td>\n",
       "      <td>False</td>\n",
       "      <td>False</td>\n",
       "      <td>True</td>\n",
       "      <td>False</td>\n",
       "      <td>False</td>\n",
       "      <td>False</td>\n",
       "      <td>False</td>\n",
       "      <td>False</td>\n",
       "      <td>False</td>\n",
       "      <td>...</td>\n",
       "      <td>True</td>\n",
       "      <td>True</td>\n",
       "      <td>True</td>\n",
       "      <td>True</td>\n",
       "      <td>True</td>\n",
       "      <td>False</td>\n",
       "      <td>True</td>\n",
       "      <td>False</td>\n",
       "      <td>False</td>\n",
       "      <td>True</td>\n",
       "    </tr>\n",
       "    <tr>\n",
       "      <th>1213</th>\n",
       "      <td>True</td>\n",
       "      <td>False</td>\n",
       "      <td>False</td>\n",
       "      <td>False</td>\n",
       "      <td>False</td>\n",
       "      <td>True</td>\n",
       "      <td>False</td>\n",
       "      <td>False</td>\n",
       "      <td>False</td>\n",
       "      <td>False</td>\n",
       "      <td>...</td>\n",
       "      <td>False</td>\n",
       "      <td>False</td>\n",
       "      <td>False</td>\n",
       "      <td>False</td>\n",
       "      <td>False</td>\n",
       "      <td>True</td>\n",
       "      <td>False</td>\n",
       "      <td>False</td>\n",
       "      <td>False</td>\n",
       "      <td>False</td>\n",
       "    </tr>\n",
       "    <tr>\n",
       "      <th>1462</th>\n",
       "      <td>True</td>\n",
       "      <td>False</td>\n",
       "      <td>False</td>\n",
       "      <td>False</td>\n",
       "      <td>False</td>\n",
       "      <td>False</td>\n",
       "      <td>False</td>\n",
       "      <td>False</td>\n",
       "      <td>True</td>\n",
       "      <td>False</td>\n",
       "      <td>...</td>\n",
       "      <td>False</td>\n",
       "      <td>False</td>\n",
       "      <td>False</td>\n",
       "      <td>False</td>\n",
       "      <td>False</td>\n",
       "      <td>True</td>\n",
       "      <td>False</td>\n",
       "      <td>False</td>\n",
       "      <td>False</td>\n",
       "      <td>False</td>\n",
       "    </tr>\n",
       "  </tbody>\n",
       "</table>\n",
       "<p>5 rows × 116 columns</p>\n",
       "</div>"
      ],
      "text/plain": [
       "            A1     A2     A3     B1    B10    B11    B12    B13    B14    B15  \\\n",
       "user_id                                                                         \n",
       "484       True  False  False  False  False  False  False  False  False  False   \n",
       "815      False   True  False  False  False  False  False  False  False  False   \n",
       "998       True  False  False   True  False  False  False  False  False  False   \n",
       "1213      True  False  False  False  False   True  False  False  False  False   \n",
       "1462      True  False  False  False  False  False  False  False   True  False   \n",
       "\n",
       "         ...  feature_list5_0  feature_list5_1  feature_list5_2  \\\n",
       "user_id  ...                                                      \n",
       "484      ...             True             True             True   \n",
       "815      ...            False            False            False   \n",
       "998      ...             True             True             True   \n",
       "1213     ...            False            False            False   \n",
       "1462     ...            False            False            False   \n",
       "\n",
       "         feature_list5_3  feature_list5_4  feature_list5_5  feature_list5_6  \\\n",
       "user_id                                                                       \n",
       "484                 True             True            False             True   \n",
       "815                False            False            False            False   \n",
       "998                 True             True            False             True   \n",
       "1213               False            False             True            False   \n",
       "1462               False            False             True            False   \n",
       "\n",
       "         feature_list5_7  feature_list5_8  feature_list5_9  \n",
       "user_id                                                     \n",
       "484                 True            False             True  \n",
       "815                False             True            False  \n",
       "998                False            False             True  \n",
       "1213               False            False            False  \n",
       "1462               False            False            False  \n",
       "\n",
       "[5 rows x 116 columns]"
      ]
     },
     "execution_count": 24,
     "metadata": {},
     "output_type": "execute_result"
    }
   ],
   "source": [
    "user_feature = user_feature.set_index(\"user_id\")\n",
    "\n",
    "fea_cols = list(user_feature.columns[15:])\n",
    "num_fea = len(fea_cols)\n",
    "\n",
    "# fea_cols = list(user_feature.columns[15:])\n",
    "user_feature[fea_cols].head()"
   ]
  },
  {
   "cell_type": "code",
   "execution_count": 72,
   "metadata": {},
   "outputs": [
    {
     "data": {
      "text/plain": [
       "['A1',\n",
       " 'A2',\n",
       " 'A3',\n",
       " 'B1',\n",
       " 'B10',\n",
       " 'B11',\n",
       " 'B12',\n",
       " 'B13',\n",
       " 'B14',\n",
       " 'B15',\n",
       " 'B16',\n",
       " 'B17',\n",
       " 'B18',\n",
       " 'B19',\n",
       " 'B2',\n",
       " 'B20',\n",
       " 'B21',\n",
       " 'B22',\n",
       " 'B23',\n",
       " 'B24',\n",
       " 'B25',\n",
       " 'B26',\n",
       " 'B27',\n",
       " 'B28',\n",
       " 'B29',\n",
       " 'B3',\n",
       " 'B30',\n",
       " 'B31',\n",
       " 'B32',\n",
       " 'B33',\n",
       " 'B34',\n",
       " 'B35',\n",
       " 'B36',\n",
       " 'B37',\n",
       " 'B38',\n",
       " 'B39',\n",
       " 'B4',\n",
       " 'B40',\n",
       " 'B41',\n",
       " 'B42',\n",
       " 'B43',\n",
       " 'B44',\n",
       " 'B45',\n",
       " 'B46',\n",
       " 'B47',\n",
       " 'B48',\n",
       " 'B5',\n",
       " 'B6',\n",
       " 'B7',\n",
       " 'B8',\n",
       " 'B9',\n",
       " 'C1',\n",
       " 'C10',\n",
       " 'C11',\n",
       " 'C2',\n",
       " 'C3',\n",
       " 'C4',\n",
       " 'C5',\n",
       " 'C6',\n",
       " 'C7',\n",
       " 'C8',\n",
       " 'C9',\n",
       " 'D1',\n",
       " 'D2',\n",
       " 'E1',\n",
       " 'E10',\n",
       " 'E11',\n",
       " 'E12',\n",
       " 'E2',\n",
       " 'E3',\n",
       " 'E4',\n",
       " 'E5',\n",
       " 'E6',\n",
       " 'E7',\n",
       " 'E8',\n",
       " 'E9',\n",
       " 'F1',\n",
       " 'F10',\n",
       " 'F2',\n",
       " 'F3',\n",
       " 'F4',\n",
       " 'F5',\n",
       " 'F6',\n",
       " 'F7',\n",
       " 'F8',\n",
       " 'F9',\n",
       " 'feature_list1_0',\n",
       " 'feature_list1_1',\n",
       " 'feature_list1_2',\n",
       " 'feature_list1_3',\n",
       " 'feature_list1_4',\n",
       " 'feature_list1_5',\n",
       " 'feature_list1_6',\n",
       " 'feature_list1_7',\n",
       " 'feature_list1_8',\n",
       " 'feature_list1_9',\n",
       " 'feature_list3_0',\n",
       " 'feature_list3_1',\n",
       " 'feature_list3_2',\n",
       " 'feature_list3_3',\n",
       " 'feature_list3_4',\n",
       " 'feature_list3_5',\n",
       " 'feature_list3_6',\n",
       " 'feature_list3_7',\n",
       " 'feature_list3_8',\n",
       " 'feature_list3_9',\n",
       " 'feature_list5_0',\n",
       " 'feature_list5_1',\n",
       " 'feature_list5_2',\n",
       " 'feature_list5_3',\n",
       " 'feature_list5_4',\n",
       " 'feature_list5_5',\n",
       " 'feature_list5_6',\n",
       " 'feature_list5_7',\n",
       " 'feature_list5_8',\n",
       " 'feature_list5_9']"
      ]
     },
     "execution_count": 72,
     "metadata": {},
     "output_type": "execute_result"
    }
   ],
   "source": [
    "fea_cols"
   ]
  },
  {
   "cell_type": "code",
   "execution_count": 100,
   "metadata": {},
   "outputs": [],
   "source": [
    "train_data = train_data.merge(user_feature[fea_cols],on=\"user_id\")\n"
   ]
  },
  {
   "cell_type": "code",
   "execution_count": 81,
   "metadata": {},
   "outputs": [
    {
     "data": {
      "text/plain": [
       "((44200600, 3),\n",
       "          user_id item_id  neg_item_id\n",
       " 2380881   703693    4451         5296\n",
       " 4127183  1225106  117319       165002\n",
       " 4370639  1296981    1686          640\n",
       " 4939486  1467123    2110         6483\n",
       " 1411792   417857  124123         1760)"
      ]
     },
     "execution_count": 81,
     "metadata": {},
     "output_type": "execute_result"
    }
   ],
   "source": [
    "train_data_sampled = train_data[train_data.columns[:]].sample(frac=1)#5000000)\n",
    "train_data_sampled.shape, train_data_sampled.head()"
   ]
  },
  {
   "cell_type": "code",
   "execution_count": 75,
   "metadata": {},
   "outputs": [
    {
     "data": {
      "text/plain": [
       "5532.88832"
      ]
     },
     "execution_count": 75,
     "metadata": {},
     "output_type": "execute_result"
    }
   ],
   "source": [
    "user_feature[fea_cols].memory_usage().sum()/1000000 * 40"
   ]
  },
  {
   "cell_type": "code",
   "execution_count": 72,
   "metadata": {},
   "outputs": [
    {
     "data": {
      "text/plain": [
       "(940785, 115)"
      ]
     },
     "execution_count": 72,
     "metadata": {},
     "output_type": "execute_result"
    }
   ],
   "source": [
    "user_feature[fea_cols].shape"
   ]
  },
  {
   "cell_type": "code",
   "execution_count": 71,
   "metadata": {},
   "outputs": [
    {
     "data": {
      "text/plain": [
       "1237.6168"
      ]
     },
     "execution_count": 71,
     "metadata": {},
     "output_type": "execute_result"
    }
   ],
   "source": [
    "train_data.memory_usage().sum() / 1000000"
   ]
  },
  {
   "cell_type": "code",
   "execution_count": 57,
   "metadata": {},
   "outputs": [
    {
     "data": {
      "text/plain": [
       "(116,)"
      ]
     },
     "execution_count": 57,
     "metadata": {},
     "output_type": "execute_result"
    }
   ],
   "source": [
    "user_feature[fea_cols].loc[3].values.shape"
   ]
  },
  {
   "cell_type": "code",
   "execution_count": 70,
   "metadata": {},
   "outputs": [
    {
     "data": {
      "text/plain": [
       "(607107,\n",
       " array([0., 1., 0., 0., 1., 0., 0., 0., 0., 0., 0., 0., 0., 0., 0., 0., 0.,\n",
       "        0., 0., 0., 0., 0., 0., 0., 0., 0., 0., 0., 0., 0., 0., 0., 0., 0.,\n",
       "        0., 0., 0., 0., 0., 0., 0., 0., 0., 0., 0., 0., 0., 0., 0., 0., 0.,\n",
       "        0., 0., 0., 0., 0., 1., 0., 0., 0., 0., 0., 1., 0., 0., 1., 0., 0.,\n",
       "        0., 0., 0., 0., 0., 0., 0., 0., 0., 0., 0., 0., 0., 0., 0., 0., 0.,\n",
       "        1., 0., 0., 0., 0., 0., 0., 0., 0., 0., 0., 1., 0., 0., 0., 0., 0.,\n",
       "        0., 0., 0., 0., 0., 0., 0., 0., 0., 1., 0., 0., 0., 0.],\n",
       "       dtype=float32),\n",
       " 26360,\n",
       " 56755)"
      ]
     },
     "execution_count": 70,
     "metadata": {},
     "output_type": "execute_result"
    }
   ],
   "source": [
    "train_dataset[0]"
   ]
  },
  {
   "cell_type": "code",
   "execution_count": 108,
   "metadata": {},
   "outputs": [
    {
     "data": {
      "text/html": [
       "<div>\n",
       "<style scoped>\n",
       "    .dataframe tbody tr th:only-of-type {\n",
       "        vertical-align: middle;\n",
       "    }\n",
       "\n",
       "    .dataframe tbody tr th {\n",
       "        vertical-align: top;\n",
       "    }\n",
       "\n",
       "    .dataframe thead th {\n",
       "        text-align: right;\n",
       "    }\n",
       "</style>\n",
       "<table border=\"1\" class=\"dataframe\">\n",
       "  <thead>\n",
       "    <tr style=\"text-align: right;\">\n",
       "      <th></th>\n",
       "      <th>user_id</th>\n",
       "      <th>item_id</th>\n",
       "      <th>neg_item_id</th>\n",
       "    </tr>\n",
       "  </thead>\n",
       "  <tbody>\n",
       "    <tr>\n",
       "      <th>2380881</th>\n",
       "      <td>703693</td>\n",
       "      <td>4451</td>\n",
       "      <td>5296</td>\n",
       "    </tr>\n",
       "    <tr>\n",
       "      <th>4127183</th>\n",
       "      <td>1225106</td>\n",
       "      <td>117319</td>\n",
       "      <td>165002</td>\n",
       "    </tr>\n",
       "    <tr>\n",
       "      <th>4370639</th>\n",
       "      <td>1296981</td>\n",
       "      <td>1686</td>\n",
       "      <td>640</td>\n",
       "    </tr>\n",
       "    <tr>\n",
       "      <th>4939486</th>\n",
       "      <td>1467123</td>\n",
       "      <td>2110</td>\n",
       "      <td>6483</td>\n",
       "    </tr>\n",
       "    <tr>\n",
       "      <th>1411792</th>\n",
       "      <td>417857</td>\n",
       "      <td>124123</td>\n",
       "      <td>1760</td>\n",
       "    </tr>\n",
       "  </tbody>\n",
       "</table>\n",
       "</div>"
      ],
      "text/plain": [
       "         user_id item_id  neg_item_id\n",
       "2380881   703693    4451         5296\n",
       "4127183  1225106  117319       165002\n",
       "4370639  1296981    1686          640\n",
       "4939486  1467123    2110         6483\n",
       "1411792   417857  124123         1760"
      ]
     },
     "execution_count": 108,
     "metadata": {},
     "output_type": "execute_result"
    }
   ],
   "source": [
    "train_data_sampled.head()"
   ]
  },
  {
   "cell_type": "code",
   "execution_count": 123,
   "metadata": {},
   "outputs": [],
   "source": [
    "import importlib\n",
    "import BPR_lib\n",
    "importlib.reload(BPR_lib)\n",
    "from BPR_lib import BPRData2\n",
    "import torch.utils.data as data\n",
    "# train_dataset = BPRData2(train_data_sampled[train_data_sampled.columns[:3]].values,\\\n",
    "                        #   user_feature[fea_cols[:].copy()],True)\n",
    "train_dataset = BPRData2(train_data.values, user_feature[fea_cols],True)\n",
    "train_loader = data.DataLoader(train_dataset,batch_size=1024,shuffle=True,num_workers=0)\n",
    "\n"
   ]
  },
  {
   "cell_type": "code",
   "execution_count": 95,
   "metadata": {},
   "outputs": [
    {
     "data": {
      "text/plain": [
       "(63199460, 3)"
      ]
     },
     "execution_count": 95,
     "metadata": {},
     "output_type": "execute_result"
    }
   ],
   "source": [
    "train_data.shape"
   ]
  },
  {
   "cell_type": "code",
   "execution_count": 108,
   "metadata": {},
   "outputs": [
    {
     "data": {
      "text/plain": [
       "(63199460,\n",
       " (2,\n",
       "  array([0., 1., 0., 0., 0., 0., 1., 0., 0., 0., 0., 0., 0., 0., 0., 0., 0.,\n",
       "         0., 0., 0., 0., 0., 0., 0., 0., 0., 0., 0., 0., 0., 0., 0., 0., 0.,\n",
       "         0., 0., 0., 0., 0., 0., 0., 0., 0., 0., 0., 0., 0., 0., 0., 0., 0.,\n",
       "         0., 0., 0., 0., 0., 1., 0., 0., 0., 0., 0., 0., 1., 0., 0., 0., 0.,\n",
       "         1., 0., 0., 0., 0., 0., 0., 0., 0., 0., 1., 0., 0., 0., 0., 0., 0.,\n",
       "         0., 0., 0., 0., 0., 0., 0., 0., 0., 0., 0., 0., 0., 0., 0., 0., 0.,\n",
       "         0., 0., 0., 1., 0., 1., 1., 0., 1., 0., 1., 1., 0., 1.],\n",
       "        dtype=float32),\n",
       "  2719,\n",
       "  2323))"
      ]
     },
     "execution_count": 108,
     "metadata": {},
     "output_type": "execute_result"
    }
   ],
   "source": [
    "len(train_dataset),train_dataset[0],"
   ]
  },
  {
   "cell_type": "code",
   "execution_count": null,
   "metadata": {},
   "outputs": [],
   "source": [
    "for user,user_fea,item_i,item_j in tqdm(train_loader):\n",
    "    item_i.cuda()\n",
    "    # print(user_fea.shape,item_i)\n",
    "    # print(item_i.dtype)"
   ]
  },
  {
   "cell_type": "code",
   "execution_count": null,
   "metadata": {},
   "outputs": [
    {
     "data": {
      "text/plain": [
       "(0,)"
      ]
     },
     "execution_count": 102,
     "metadata": {},
     "output_type": "execute_result"
    }
   ],
   "source": [
    "train_data.iloc[0].values.astype(np.float32)[3:].shape"
   ]
  },
  {
   "cell_type": "code",
   "execution_count": null,
   "metadata": {},
   "outputs": [
    {
     "data": {
      "text/plain": [
       "(112, ())"
      ]
     },
     "execution_count": 103,
     "metadata": {},
     "output_type": "execute_result"
    }
   ],
   "source": [
    "user_feature.shape[1],train_dataset[0][0].shape"
   ]
  },
  {
   "cell_type": "code",
   "execution_count": null,
   "metadata": {},
   "outputs": [
    {
     "data": {
      "text/plain": [
       "0"
      ]
     },
     "execution_count": 102,
     "metadata": {},
     "output_type": "execute_result"
    }
   ],
   "source": [
    "np.sum(train_data.iloc[0].values[3:].astype(np.float32)!=train_dataset[0][0])"
   ]
  },
  {
   "cell_type": "code",
   "execution_count": 135,
   "metadata": {},
   "outputs": [
    {
     "data": {
      "text/plain": [
       "(328819, 328823, 913707, 1640955)"
      ]
     },
     "execution_count": 135,
     "metadata": {},
     "output_type": "execute_result"
    }
   ],
   "source": [
    "train_data.neg_item_id.nunique(),train_data.item_id.nunique(),\\\n",
    "    train_data.user_id.nunique(), train_data.user_id.max(),"
   ]
  },
  {
   "attachments": {},
   "cell_type": "markdown",
   "metadata": {},
   "source": [
    "### Training"
   ]
  },
  {
   "cell_type": "code",
   "execution_count": 103,
   "metadata": {},
   "outputs": [],
   "source": [
    "import importlib\n",
    "import BPR_lib\n",
    "importlib.reload(BPR_lib)\n",
    "from BPR_lib import BPR,BPR2\n",
    "import torch.optim as optim\n",
    "import torch\n",
    "factor_num = 64\n",
    "# model1 = BPR(user_num, click_num, factor_num)\n",
    "\n",
    "model = BPR2(item.user_id.max()+1, num_fea, len(item_ids), factor_num1=32,factor_num2=32)\n",
    "# model = BPR2(num_fea,len(item_ids),factor_num)\n",
    "args_lambda = 0.001\n",
    "args_lr = 0.01\n",
    "model.cuda()\n",
    "optimizer = optim.SGD(model.parameters(), lr=args_lr, weight_decay=args_lambda)"
   ]
  },
  {
   "cell_type": "code",
   "execution_count": null,
   "metadata": {},
   "outputs": [
    {
     "data": {
      "text/plain": [
       "(1640954, 1640955, 1640953)"
      ]
     },
     "execution_count": 69,
     "metadata": {},
     "output_type": "execute_result"
    }
   ],
   "source": [
    "train_data.user_id.max(),item.user_id.max(),user_target.user_id.max()"
   ]
  },
  {
   "cell_type": "code",
   "execution_count": 50,
   "metadata": {},
   "outputs": [
    {
     "data": {
      "text/plain": [
       "(tensor(0.0818, device='cuda:0', grad_fn=<SumBackward1>),\n",
       " tensor(0.0058, device='cuda:0', grad_fn=<SumBackward1>))"
      ]
     },
     "execution_count": 50,
     "metadata": {},
     "output_type": "execute_result"
    }
   ],
   "source": [
    "\n",
    "pre_i,pre_j = model(torch.tensor(train_dataset[0][0]).cuda(),\\\n",
    "                    torch.tensor(train_dataset[0][1]).cuda(),\\\n",
    "      torch.tensor(train_dataset[0][2]).cuda(),torch.tensor(train_dataset[0][3]).cuda())\n",
    "pre_i,pre_j"
   ]
  },
  {
   "cell_type": "code",
   "execution_count": 43,
   "metadata": {},
   "outputs": [
    {
     "ename": "TypeError",
     "evalue": "can't convert np.ndarray of type numpy.object_. The only supported types are: float64, float32, float16, complex64, complex128, int64, int32, int16, int8, uint64, uint32, uint16, uint8, and bool.",
     "output_type": "error",
     "traceback": [
      "\u001b[1;31m---------------------------------------------------------------------------\u001b[0m",
      "\u001b[1;31mTypeError\u001b[0m                                 Traceback (most recent call last)",
      "Cell \u001b[1;32mIn [43], line 1\u001b[0m\n\u001b[1;32m----> 1\u001b[0m torch\u001b[39m.\u001b[39mtensor(train_dataset[\u001b[39m0\u001b[39m][\u001b[39m1\u001b[39m])\n",
      "\u001b[1;31mTypeError\u001b[0m: can't convert np.ndarray of type numpy.object_. The only supported types are: float64, float32, float16, complex64, complex128, int64, int32, int16, int8, uint64, uint32, uint16, uint8, and bool."
     ]
    }
   ],
   "source": [
    "torch.tensor(train_dataset[0][1])"
   ]
  },
  {
   "cell_type": "code",
   "execution_count": null,
   "metadata": {},
   "outputs": [
    {
     "data": {
      "text/plain": [
       "(27426070, 26784)"
      ]
     },
     "execution_count": 137,
     "metadata": {},
     "output_type": "execute_result"
    }
   ],
   "source": [
    "len(train_data),len(train_loader)"
   ]
  },
  {
   "cell_type": "code",
   "execution_count": null,
   "metadata": {},
   "outputs": [
    {
     "data": {
      "text/plain": [
       "tensor(-9.1937)"
      ]
     },
     "metadata": {},
     "output_type": "display_data"
    }
   ],
   "source": [
    "torch.tensor([-2,-3,-4]).sigmoid().log().sum(),torch.tensor([2,3,4]).sigmoid().log().sum()"
   ]
  },
  {
   "cell_type": "code",
   "execution_count": 124,
   "metadata": {},
   "outputs": [
    {
     "name": "stderr",
     "output_type": "stream",
     "text": [
      " 96%|█████████▌| 59001/61719 [1:12:28<03:13, 14.07it/s]"
     ]
    },
    {
     "name": "stdout",
     "output_type": "stream",
     "text": [
      "check [list[array([3.1488018, 1.3833923, 0.2210561, 0.9818157, 0.9205785],\n",
      "      dtype=float32)], list[array([-0.4082346 ,  1.0236664 , -1.9304743 , -0.35549483,  0.28632563],\n",
      "      dtype=float32)], list[array([-2.1843472 , -0.4381886 , -0.05299413, -0.52643865, -0.120143  ,\n",
      "        0.07249117, -1.4373157 ,  1.5713549 ,  0.769473  ,  1.7390727 ],\n",
      "      dtype=float32)], list[array([-0.1341399 , -0.05452934,  0.07267233, -0.04685592,  0.05998017,\n",
      "       -0.11189521,  0.18361548,  0.18742761, -0.29663113,  0.3096957 ],\n",
      "      dtype=float32)]]\n"
     ]
    },
    {
     "name": "stderr",
     "output_type": "stream",
     "text": [
      " 97%|█████████▋| 60001/61719 [1:13:43<02:11, 13.10it/s]"
     ]
    },
    {
     "name": "stdout",
     "output_type": "stream",
     "text": [
      "check [list[array([ 1.544491  ,  0.9427264 , -0.23047781,  1.449806  ,  1.5843006 ],\n",
      "      dtype=float32)], list[array([-0.63277185,  0.543048  ,  0.50256616,  0.81974757,  0.8716283 ],\n",
      "      dtype=float32)], list[array([-1.6110687 , -1.1634713 , -0.30551505, -1.2000492 ,  0.65162915,\n",
      "       -1.3268124 , -1.5972018 , -1.6157709 ,  0.96970063, -0.21032652],\n",
      "      dtype=float32)], list[array([ 0.05915433, -0.08363575, -0.02403608, -0.08300272, -0.01856421,\n",
      "       -0.32198402, -0.15081598, -0.28678733,  0.16061409, -0.19186157],\n",
      "      dtype=float32)]]\n"
     ]
    },
    {
     "name": "stderr",
     "output_type": "stream",
     "text": [
      " 99%|█████████▉| 61001/61719 [1:14:59<00:53, 13.38it/s]"
     ]
    },
    {
     "name": "stdout",
     "output_type": "stream",
     "text": [
      "check [list[array([1.2198668 , 0.77299345, 0.56073433, 2.6902957 , 0.70911306],\n",
      "      dtype=float32)], list[array([ 0.01570423, -0.7263076 ,  0.71389335,  0.3934567 ,  1.8236034 ],\n",
      "      dtype=float32)], list[array([ 0.20961246, -1.5382155 ,  0.27710503, -0.5951878 ,  0.5246996 ,\n",
      "       -0.66802025, -0.12668094, -0.7564934 ,  1.9947782 , -0.51241016],\n",
      "      dtype=float32)], list[array([-0.03364911,  0.03187267,  0.03051153, -0.2397758 ,  0.16054124,\n",
      "        0.03392074,  0.04843102, -0.33200192, -0.01753592, -0.06274085],\n",
      "      dtype=float32)]]\n"
     ]
    },
    {
     "name": "stderr",
     "output_type": "stream",
     "text": [
      "100%|██████████| 61719/61719 [1:16:00<00:00, 13.53it/s]\n"
     ]
    }
   ],
   "source": [
    "from tqdm import tqdm\n",
    "\n",
    "ii = 0\n",
    "for epoch in range(1):\n",
    "    model.train()\n",
    "    model.cuda()\n",
    "    for user, user_fea,item_i,item_j in tqdm(train_loader):\n",
    "        user_fea = user_fea.cuda()\n",
    "        user = user.cuda()\n",
    "        item_i = item_i.cuda()\n",
    "        item_j = item_j.cuda()\n",
    "        # print(user_fea.shape,item_i)\n",
    "        model.zero_grad()\n",
    "        pred_i,pred_j = model(user, user_fea,item_i,item_j)\n",
    "        ii+=1\n",
    "        if ii % 1000 == 0:\n",
    "            print(\"check\", [list[x.detach().cpu().numpy()] for x in [pred_i[:5],pred_j[:5],\\\n",
    "            model.user_embed(user,user_fea)[0][:10],model.item_embed(item_i)[0][:10]]])\n",
    "        loss = - (pred_i - pred_j).sigmoid().log().sum()\n",
    "        loss.backward()\n",
    "        optimizer.step()\n",
    "    # print(u_embed.shape,embed_i.shape)"
   ]
  },
  {
   "cell_type": "code",
   "execution_count": 64,
   "metadata": {},
   "outputs": [
    {
     "data": {
      "text/html": [
       "<div>\n",
       "<style scoped>\n",
       "    .dataframe tbody tr th:only-of-type {\n",
       "        vertical-align: middle;\n",
       "    }\n",
       "\n",
       "    .dataframe tbody tr th {\n",
       "        vertical-align: top;\n",
       "    }\n",
       "\n",
       "    .dataframe thead th {\n",
       "        text-align: right;\n",
       "    }\n",
       "</style>\n",
       "<table border=\"1\" class=\"dataframe\">\n",
       "  <thead>\n",
       "    <tr style=\"text-align: right;\">\n",
       "      <th></th>\n",
       "      <th>user_id</th>\n",
       "      <th>item_id</th>\n",
       "      <th>neg_item_id</th>\n",
       "      <th>A1</th>\n",
       "      <th>A2</th>\n",
       "      <th>A3</th>\n",
       "      <th>B1</th>\n",
       "      <th>B10</th>\n",
       "      <th>B11</th>\n",
       "      <th>B12</th>\n",
       "      <th>...</th>\n",
       "      <th>feature_list5_0</th>\n",
       "      <th>feature_list5_1</th>\n",
       "      <th>feature_list5_2</th>\n",
       "      <th>feature_list5_3</th>\n",
       "      <th>feature_list5_4</th>\n",
       "      <th>feature_list5_5</th>\n",
       "      <th>feature_list5_6</th>\n",
       "      <th>feature_list5_7</th>\n",
       "      <th>feature_list5_8</th>\n",
       "      <th>feature_list5_9</th>\n",
       "    </tr>\n",
       "  </thead>\n",
       "  <tbody>\n",
       "    <tr>\n",
       "      <th>0</th>\n",
       "      <td>3</td>\n",
       "      <td>17221</td>\n",
       "      <td>283141</td>\n",
       "      <td>True</td>\n",
       "      <td>False</td>\n",
       "      <td>False</td>\n",
       "      <td>True</td>\n",
       "      <td>False</td>\n",
       "      <td>False</td>\n",
       "      <td>False</td>\n",
       "      <td>...</td>\n",
       "      <td>True</td>\n",
       "      <td>False</td>\n",
       "      <td>False</td>\n",
       "      <td>False</td>\n",
       "      <td>True</td>\n",
       "      <td>False</td>\n",
       "      <td>False</td>\n",
       "      <td>False</td>\n",
       "      <td>True</td>\n",
       "      <td>True</td>\n",
       "    </tr>\n",
       "    <tr>\n",
       "      <th>1</th>\n",
       "      <td>3</td>\n",
       "      <td>3770</td>\n",
       "      <td>214316</td>\n",
       "      <td>True</td>\n",
       "      <td>False</td>\n",
       "      <td>False</td>\n",
       "      <td>True</td>\n",
       "      <td>False</td>\n",
       "      <td>False</td>\n",
       "      <td>False</td>\n",
       "      <td>...</td>\n",
       "      <td>True</td>\n",
       "      <td>False</td>\n",
       "      <td>False</td>\n",
       "      <td>False</td>\n",
       "      <td>True</td>\n",
       "      <td>False</td>\n",
       "      <td>False</td>\n",
       "      <td>False</td>\n",
       "      <td>True</td>\n",
       "      <td>True</td>\n",
       "    </tr>\n",
       "    <tr>\n",
       "      <th>2</th>\n",
       "      <td>3</td>\n",
       "      <td>17225</td>\n",
       "      <td>221603</td>\n",
       "      <td>True</td>\n",
       "      <td>False</td>\n",
       "      <td>False</td>\n",
       "      <td>True</td>\n",
       "      <td>False</td>\n",
       "      <td>False</td>\n",
       "      <td>False</td>\n",
       "      <td>...</td>\n",
       "      <td>True</td>\n",
       "      <td>False</td>\n",
       "      <td>False</td>\n",
       "      <td>False</td>\n",
       "      <td>True</td>\n",
       "      <td>False</td>\n",
       "      <td>False</td>\n",
       "      <td>False</td>\n",
       "      <td>True</td>\n",
       "      <td>True</td>\n",
       "    </tr>\n",
       "    <tr>\n",
       "      <th>3</th>\n",
       "      <td>3</td>\n",
       "      <td>16696</td>\n",
       "      <td>145221</td>\n",
       "      <td>True</td>\n",
       "      <td>False</td>\n",
       "      <td>False</td>\n",
       "      <td>True</td>\n",
       "      <td>False</td>\n",
       "      <td>False</td>\n",
       "      <td>False</td>\n",
       "      <td>...</td>\n",
       "      <td>True</td>\n",
       "      <td>False</td>\n",
       "      <td>False</td>\n",
       "      <td>False</td>\n",
       "      <td>True</td>\n",
       "      <td>False</td>\n",
       "      <td>False</td>\n",
       "      <td>False</td>\n",
       "      <td>True</td>\n",
       "      <td>True</td>\n",
       "    </tr>\n",
       "    <tr>\n",
       "      <th>4</th>\n",
       "      <td>5</td>\n",
       "      <td>22165</td>\n",
       "      <td>119061</td>\n",
       "      <td>True</td>\n",
       "      <td>False</td>\n",
       "      <td>False</td>\n",
       "      <td>False</td>\n",
       "      <td>False</td>\n",
       "      <td>False</td>\n",
       "      <td>False</td>\n",
       "      <td>...</td>\n",
       "      <td>False</td>\n",
       "      <td>False</td>\n",
       "      <td>False</td>\n",
       "      <td>False</td>\n",
       "      <td>False</td>\n",
       "      <td>False</td>\n",
       "      <td>True</td>\n",
       "      <td>False</td>\n",
       "      <td>False</td>\n",
       "      <td>False</td>\n",
       "    </tr>\n",
       "    <tr>\n",
       "      <th>...</th>\n",
       "      <td>...</td>\n",
       "      <td>...</td>\n",
       "      <td>...</td>\n",
       "      <td>...</td>\n",
       "      <td>...</td>\n",
       "      <td>...</td>\n",
       "      <td>...</td>\n",
       "      <td>...</td>\n",
       "      <td>...</td>\n",
       "      <td>...</td>\n",
       "      <td>...</td>\n",
       "      <td>...</td>\n",
       "      <td>...</td>\n",
       "      <td>...</td>\n",
       "      <td>...</td>\n",
       "      <td>...</td>\n",
       "      <td>...</td>\n",
       "      <td>...</td>\n",
       "      <td>...</td>\n",
       "      <td>...</td>\n",
       "      <td>...</td>\n",
       "    </tr>\n",
       "    <tr>\n",
       "      <th>44200595</th>\n",
       "      <td>1640944</td>\n",
       "      <td>10961</td>\n",
       "      <td>142828</td>\n",
       "      <td>True</td>\n",
       "      <td>False</td>\n",
       "      <td>False</td>\n",
       "      <td>False</td>\n",
       "      <td>False</td>\n",
       "      <td>False</td>\n",
       "      <td>False</td>\n",
       "      <td>...</td>\n",
       "      <td>True</td>\n",
       "      <td>True</td>\n",
       "      <td>True</td>\n",
       "      <td>True</td>\n",
       "      <td>True</td>\n",
       "      <td>False</td>\n",
       "      <td>True</td>\n",
       "      <td>True</td>\n",
       "      <td>True</td>\n",
       "      <td>True</td>\n",
       "    </tr>\n",
       "    <tr>\n",
       "      <th>44200596</th>\n",
       "      <td>1640944</td>\n",
       "      <td>2110</td>\n",
       "      <td>100493</td>\n",
       "      <td>True</td>\n",
       "      <td>False</td>\n",
       "      <td>False</td>\n",
       "      <td>False</td>\n",
       "      <td>False</td>\n",
       "      <td>False</td>\n",
       "      <td>False</td>\n",
       "      <td>...</td>\n",
       "      <td>True</td>\n",
       "      <td>True</td>\n",
       "      <td>True</td>\n",
       "      <td>True</td>\n",
       "      <td>True</td>\n",
       "      <td>False</td>\n",
       "      <td>True</td>\n",
       "      <td>True</td>\n",
       "      <td>True</td>\n",
       "      <td>True</td>\n",
       "    </tr>\n",
       "    <tr>\n",
       "      <th>44200597</th>\n",
       "      <td>1640949</td>\n",
       "      <td>2395</td>\n",
       "      <td>89824</td>\n",
       "      <td>True</td>\n",
       "      <td>False</td>\n",
       "      <td>False</td>\n",
       "      <td>False</td>\n",
       "      <td>False</td>\n",
       "      <td>False</td>\n",
       "      <td>False</td>\n",
       "      <td>...</td>\n",
       "      <td>True</td>\n",
       "      <td>True</td>\n",
       "      <td>True</td>\n",
       "      <td>True</td>\n",
       "      <td>True</td>\n",
       "      <td>False</td>\n",
       "      <td>True</td>\n",
       "      <td>True</td>\n",
       "      <td>True</td>\n",
       "      <td>True</td>\n",
       "    </tr>\n",
       "    <tr>\n",
       "      <th>44200598</th>\n",
       "      <td>1640955</td>\n",
       "      <td>46358</td>\n",
       "      <td>162890</td>\n",
       "      <td>False</td>\n",
       "      <td>True</td>\n",
       "      <td>False</td>\n",
       "      <td>False</td>\n",
       "      <td>False</td>\n",
       "      <td>False</td>\n",
       "      <td>False</td>\n",
       "      <td>...</td>\n",
       "      <td>False</td>\n",
       "      <td>False</td>\n",
       "      <td>False</td>\n",
       "      <td>False</td>\n",
       "      <td>False</td>\n",
       "      <td>True</td>\n",
       "      <td>False</td>\n",
       "      <td>False</td>\n",
       "      <td>False</td>\n",
       "      <td>False</td>\n",
       "    </tr>\n",
       "    <tr>\n",
       "      <th>44200599</th>\n",
       "      <td>1640955</td>\n",
       "      <td>938</td>\n",
       "      <td>145939</td>\n",
       "      <td>False</td>\n",
       "      <td>True</td>\n",
       "      <td>False</td>\n",
       "      <td>False</td>\n",
       "      <td>False</td>\n",
       "      <td>False</td>\n",
       "      <td>False</td>\n",
       "      <td>...</td>\n",
       "      <td>False</td>\n",
       "      <td>False</td>\n",
       "      <td>False</td>\n",
       "      <td>False</td>\n",
       "      <td>False</td>\n",
       "      <td>True</td>\n",
       "      <td>False</td>\n",
       "      <td>False</td>\n",
       "      <td>False</td>\n",
       "      <td>False</td>\n",
       "    </tr>\n",
       "  </tbody>\n",
       "</table>\n",
       "<p>44200600 rows × 119 columns</p>\n",
       "</div>"
      ],
      "text/plain": [
       "          user_id item_id  neg_item_id     A1     A2     A3     B1    B10  \\\n",
       "0               3   17221       283141   True  False  False   True  False   \n",
       "1               3    3770       214316   True  False  False   True  False   \n",
       "2               3   17225       221603   True  False  False   True  False   \n",
       "3               3   16696       145221   True  False  False   True  False   \n",
       "4               5   22165       119061   True  False  False  False  False   \n",
       "...           ...     ...          ...    ...    ...    ...    ...    ...   \n",
       "44200595  1640944   10961       142828   True  False  False  False  False   \n",
       "44200596  1640944    2110       100493   True  False  False  False  False   \n",
       "44200597  1640949    2395        89824   True  False  False  False  False   \n",
       "44200598  1640955   46358       162890  False   True  False  False  False   \n",
       "44200599  1640955     938       145939  False   True  False  False  False   \n",
       "\n",
       "            B11    B12  ...  feature_list5_0  feature_list5_1  \\\n",
       "0         False  False  ...             True            False   \n",
       "1         False  False  ...             True            False   \n",
       "2         False  False  ...             True            False   \n",
       "3         False  False  ...             True            False   \n",
       "4         False  False  ...            False            False   \n",
       "...         ...    ...  ...              ...              ...   \n",
       "44200595  False  False  ...             True             True   \n",
       "44200596  False  False  ...             True             True   \n",
       "44200597  False  False  ...             True             True   \n",
       "44200598  False  False  ...            False            False   \n",
       "44200599  False  False  ...            False            False   \n",
       "\n",
       "          feature_list5_2  feature_list5_3  feature_list5_4  feature_list5_5  \\\n",
       "0                   False            False             True            False   \n",
       "1                   False            False             True            False   \n",
       "2                   False            False             True            False   \n",
       "3                   False            False             True            False   \n",
       "4                   False            False            False            False   \n",
       "...                   ...              ...              ...              ...   \n",
       "44200595             True             True             True            False   \n",
       "44200596             True             True             True            False   \n",
       "44200597             True             True             True            False   \n",
       "44200598            False            False            False             True   \n",
       "44200599            False            False            False             True   \n",
       "\n",
       "          feature_list5_6  feature_list5_7  feature_list5_8  feature_list5_9  \n",
       "0                   False            False             True             True  \n",
       "1                   False            False             True             True  \n",
       "2                   False            False             True             True  \n",
       "3                   False            False             True             True  \n",
       "4                    True            False            False            False  \n",
       "...                   ...              ...              ...              ...  \n",
       "44200595             True             True             True             True  \n",
       "44200596             True             True             True             True  \n",
       "44200597             True             True             True             True  \n",
       "44200598            False            False            False            False  \n",
       "44200599            False            False            False            False  \n",
       "\n",
       "[44200600 rows x 119 columns]"
      ]
     },
     "execution_count": 64,
     "metadata": {},
     "output_type": "execute_result"
    }
   ],
   "source": [
    "train_data"
   ]
  },
  {
   "cell_type": "code",
   "execution_count": 141,
   "metadata": {},
   "outputs": [
    {
     "data": {
      "text/plain": [
       "<All keys matched successfully>"
      ]
     },
     "execution_count": 141,
     "metadata": {},
     "output_type": "execute_result"
    }
   ],
   "source": [
    "# torch.save(model.state_dict(),\"BPR_20w_3w_sample10_factor64.pth\")\n",
    "model.load_state_dict(torch.load(\"BPR_sample10_factor32_32_userfea_ep2.pth\"))"
   ]
  },
  {
   "cell_type": "code",
   "execution_count": null,
   "metadata": {},
   "outputs": [
    {
     "data": {
      "text/plain": [
       "torch.Size([1024])"
      ]
     },
     "execution_count": 20,
     "metadata": {},
     "output_type": "execute_result"
    }
   ],
   "source": [
    "user_fea.shape"
   ]
  },
  {
   "cell_type": "code",
   "execution_count": 125,
   "metadata": {},
   "outputs": [],
   "source": [
    "torch.save(model.state_dict(),\"BPR_sample10_factor32_32_userfea_ep22.pth\")"
   ]
  },
  {
   "cell_type": "code",
   "execution_count": null,
   "metadata": {},
   "outputs": [
    {
     "ename": "ValueError",
     "evalue": "all the input array dimensions except for the concatenation axis must match exactly, but along dimension 0, the array at index 0 has size 2 and the array at index 1 has size 1",
     "output_type": "error",
     "traceback": [
      "\u001b[1;31m---------------------------------------------------------------------------\u001b[0m\n",
      "\u001b[1;31mValueError\u001b[0m                                Traceback (most recent call last)\n",
      "Cell \u001b[1;32mIn [202], line 1\u001b[0m\n",
      "\u001b[1;32m----> 1\u001b[0m np\u001b[39m.\u001b[39mconcatenate([[[\u001b[39m1\u001b[39m,\u001b[39m2\u001b[39m],[\u001b[39m3\u001b[39m,\u001b[39m4\u001b[39m]],[[\u001b[39m5\u001b[39m,\u001b[39m6\u001b[39m]]],axis\u001b[39m=\u001b[39m\u001b[39m1\u001b[39m)\n",
      "\n",
      "\u001b[1;31mValueError\u001b[0m: all the input array dimensions except for the concatenation axis must match exactly, but along dimension 0, the array at index 0 has size 2 and the array at index 1 has size 1"
     ]
    }
   ],
   "source": [
    "np.concatenate([[[1,2],[3,4]],[[5,6]]],axis=1)"
   ]
  },
  {
   "cell_type": "code",
   "execution_count": null,
   "metadata": {},
   "outputs": [
    {
     "data": {
      "text/plain": [
       "'I32641'"
      ]
     },
     "metadata": {},
     "output_type": "display_data"
    }
   ],
   "source": [
    "idx2item[int(item_i[0].numpy())]"
   ]
  },
  {
   "cell_type": "code",
   "execution_count": 126,
   "metadata": {},
   "outputs": [
    {
     "name": "stdout",
     "output_type": "stream",
     "text": [
      "[1.8601807355880737, -1.3167762756347656]\n",
      "[1.0709214210510254, 0.15930402278900146]\n",
      "[0.8781939744949341, -2.740041732788086]\n",
      "[1.975198745727539, 1.0187382698059082]\n",
      "[3.7787208557128906, -0.2407495379447937]\n",
      "[2.377258062362671, 2.643624782562256]\n",
      "[0.48873597383499146, -2.371997356414795]\n",
      "[-0.29836025834083557, -2.456918239593506]\n",
      "[0.7253111004829407, 1.200806736946106]\n",
      "[0.6671362519264221, 0.8465331792831421]\n",
      "[1.6458489894866943, -0.04380291700363159]\n",
      "[1.2793346643447876, -1.1004817485809326]\n",
      "[0.8349499702453613, 0.7340946197509766]\n",
      "[-0.48531392216682434, -0.15152427554130554]\n",
      "[1.115967035293579, -0.48731738328933716]\n",
      "[1.8160433769226074, 0.9013816714286804]\n",
      "[0.5302735567092896, 1.3197439908981323]\n",
      "[2.2373013496398926, -1.5094951391220093]\n",
      "[1.6348556280136108, 2.478978395462036]\n",
      "[1.5769932270050049, 4.246208667755127]\n"
     ]
    }
   ],
   "source": [
    "start = 3000000\n",
    "\n",
    "for ii in range(start, start+20):\n",
    "    uu,u_fea,item_i,item_j = train_dataset[ii]\n",
    "    uu = torch.tensor(uu).cuda()\n",
    "    ufea = torch.tensor(u_fea).cuda()\n",
    "    item_fea_i = torch.tensor(item_i).cuda()\n",
    "    item_fea_j = torch.tensor(item_j).cuda()\n",
    "    pred_i2,pred_j2 = model(uu,ufea,item_fea_i,item_fea_j)\n",
    "    print([float(x.detach().cpu().numpy()) for x in [pred_i2,pred_j2]])"
   ]
  },
  {
   "cell_type": "code",
   "execution_count": 75,
   "metadata": {},
   "outputs": [
    {
     "data": {
      "text/plain": [
       "(328823, (64,))"
      ]
     },
     "execution_count": 75,
     "metadata": {},
     "output_type": "execute_result"
    }
   ],
   "source": [
    "len(trn_item_embeds), trn_item_embeds[0].shape"
   ]
  },
  {
   "cell_type": "code",
   "execution_count": 142,
   "metadata": {},
   "outputs": [
    {
     "name": "stderr",
     "output_type": "stream",
     "text": [
      "100%|██████████| 5138/5138 [00:02<00:00, 2382.02it/s]\n"
     ]
    },
    {
     "data": {
      "text/plain": [
       "328823"
      ]
     },
     "execution_count": 142,
     "metadata": {},
     "output_type": "execute_result"
    }
   ],
   "source": [
    "trn_item_embeds = []\n",
    "all_items = [item2idx[x] for x in item_ids]\n",
    "for ii in tqdm(range(0,len(all_items),64)):\n",
    "    # item_id_idx = [item2idx[x] for x in top_items[ii:ii+64]]\n",
    "    item_embed = model.item_embed(torch.tensor(all_items[ii:ii+64],dtype=torch.int32).cuda())\n",
    "    trn_item_embeds.extend(item_embed.detach().cpu().numpy())\n",
    "import faiss\n",
    "index = faiss.IndexFlatIP(factor_num)\n",
    "index.add(np.array(trn_item_embeds))\n",
    "len(trn_item_embeds)\n"
   ]
  },
  {
   "cell_type": "code",
   "execution_count": 143,
   "metadata": {},
   "outputs": [
    {
     "name": "stderr",
     "output_type": "stream",
     "text": [
      "  0%|          | 330/730966 [00:04<2:46:28, 73.14it/s, c=53, h1=619, h2=91, t=1977, t2=330]\n"
     ]
    },
    {
     "ename": "KeyboardInterrupt",
     "evalue": "",
     "output_type": "error",
     "traceback": [
      "\u001b[1;31m---------------------------------------------------------------------------\u001b[0m",
      "\u001b[1;31mKeyboardInterrupt\u001b[0m                         Traceback (most recent call last)",
      "Cell \u001b[1;32mIn [143], line 20\u001b[0m\n\u001b[0;32m     13\u001b[0m user_embed \u001b[39m=\u001b[39m model\u001b[39m.\u001b[39muser_embed(torch\u001b[39m.\u001b[39mtensor(test_user)\u001b[39m.\u001b[39mcuda(),\\\n\u001b[0;32m     14\u001b[0m     torch\u001b[39m.\u001b[39mtensor(user_feature_t\u001b[39m.\u001b[39mloc[test_user]\u001b[39m.\u001b[39mvalues\u001b[39m.\u001b[39mastype(np\u001b[39m.\u001b[39mfloat32))\u001b[39m.\u001b[39mcuda())\u001b[39m.\u001b[39mdetach()\u001b[39m.\u001b[39mcpu()\u001b[39m.\u001b[39mnumpy()\n\u001b[0;32m     15\u001b[0m \u001b[39m# user_embed[:] = 0\u001b[39;00m\n\u001b[0;32m     16\u001b[0m \u001b[39m# sims2 = np.dot(user_embed,np.array(trn_item_embeds).T)\u001b[39;00m\n\u001b[0;32m     17\u001b[0m \u001b[39m# arts_fetch2 = np.random.choice(trn_item_ids,30000)\u001b[39;00m\n\u001b[0;32m     18\u001b[0m \u001b[39m# arts_fetch1 = np.array(top_items)[np.argsort(sims2)[-1500:]]\u001b[39;00m\n\u001b[0;32m     19\u001b[0m \u001b[39m# arts_fetch2 = np.array(top_items)[np.argsort(sims2)[:148500]]\u001b[39;00m\n\u001b[1;32m---> 20\u001b[0m sim,idx \u001b[39m=\u001b[39m  index\u001b[39m.\u001b[39msearch(np\u001b[39m.\u001b[39marray([user_embed]),\u001b[39m3000\u001b[39m)\n\u001b[0;32m     22\u001b[0m gt_arts \u001b[39m=\u001b[39m gt_item\u001b[39m.\u001b[39mloc[test_user]\n\u001b[0;32m     23\u001b[0m gt_arts \u001b[39m=\u001b[39m [item2idx[x] \u001b[39mfor\u001b[39;00m x \u001b[39min\u001b[39;00m gt_arts]\n",
      "File \u001b[1;32mh:\\Anaconda\\envs\\tt\\lib\\site-packages\\faiss\\class_wrappers.py:343\u001b[0m, in \u001b[0;36mhandle_Index.<locals>.replacement_search\u001b[1;34m(self, x, k, params, D, I)\u001b[0m\n\u001b[0;32m    340\u001b[0m \u001b[39melse\u001b[39;00m:\n\u001b[0;32m    341\u001b[0m     \u001b[39massert\u001b[39;00m I\u001b[39m.\u001b[39mshape \u001b[39m==\u001b[39m (n, k)\n\u001b[1;32m--> 343\u001b[0m \u001b[39mself\u001b[39;49m\u001b[39m.\u001b[39;49msearch_c(n, swig_ptr(x), k, swig_ptr(D), swig_ptr(I), params)\n\u001b[0;32m    344\u001b[0m \u001b[39mreturn\u001b[39;00m D, I\n",
      "File \u001b[1;32mh:\\Anaconda\\envs\\tt\\lib\\site-packages\\faiss\\swigfaiss_avx2.py:2261\u001b[0m, in \u001b[0;36mIndexFlat.search\u001b[1;34m(self, n, x, k, distances, labels, params)\u001b[0m\n\u001b[0;32m   2260\u001b[0m \u001b[39mdef\u001b[39;00m \u001b[39msearch\u001b[39m(\u001b[39mself\u001b[39m, n, x, k, distances, labels, params\u001b[39m=\u001b[39m\u001b[39mNone\u001b[39;00m):\n\u001b[1;32m-> 2261\u001b[0m     \u001b[39mreturn\u001b[39;00m _swigfaiss_avx2\u001b[39m.\u001b[39;49mIndexFlat_search(\u001b[39mself\u001b[39;49m, n, x, k, distances, labels, params)\n",
      "\u001b[1;31mKeyboardInterrupt\u001b[0m: "
     ]
    }
   ],
   "source": [
    "# test_user_ids = list(item_trn.user_id.unique())\n",
    "# gt_item = item_trn.groupby(\"user_id\")[\"item_id\"].apply(list)\n",
    "# gt_item2 = item_last[item_last.user_id.isin(test_user_ids)].set_index(\"user_id\")\n",
    "# np.random.shuffle(test_user_ids)\n",
    "user_feature_t = user_feature[fea_cols]\n",
    "count1 =0 \n",
    "count2 = 0\n",
    "total1 = 0\n",
    "total2 = 0\n",
    "check = 0\n",
    "with tqdm(total=len(test_user_ids)) as pbar:\n",
    "    for test_user in test_user_ids:\n",
    "        user_embed = model.user_embed(torch.tensor(test_user).cuda(),\\\n",
    "            torch.tensor(user_feature_t.loc[test_user].values.astype(np.float32)).cuda()).detach().cpu().numpy()\n",
    "        # user_embed[:] = 0\n",
    "        # sims2 = np.dot(user_embed,np.array(trn_item_embeds).T)\n",
    "        # arts_fetch2 = np.random.choice(trn_item_ids,30000)\n",
    "        # arts_fetch1 = np.array(top_items)[np.argsort(sims2)[-1500:]]\n",
    "        # arts_fetch2 = np.array(top_items)[np.argsort(sims2)[:148500]]\n",
    "        sim,idx =  index.search(np.array([user_embed]),3000)\n",
    "\n",
    "        gt_arts = gt_item.loc[test_user]\n",
    "        gt_arts = [item2idx[x] for x in gt_arts]\n",
    "        gt_arts2 = gt_item2.loc[test_user].item_id\n",
    "        gt_arts2 = [item2idx[x] for x in [gt_arts2]]\n",
    "        count1+=len(set(gt_arts).intersection(set(idx[0][:])))\n",
    "        count2+=len(set(gt_arts2).intersection(set(idx[0][:])))\n",
    "        check+=len(set(gt_arts).intersection(set(gt_arts2)))\n",
    "        total1+=len(gt_arts)\n",
    "        total2+=1#len(gt_arts2)\n",
    "        pbar.update(1)\n",
    "        pbar.set_postfix(h1=count1,t=total1,h2=count2,t2=total2,c=check)"
   ]
  },
  {
   "cell_type": "code",
   "execution_count": 204,
   "metadata": {},
   "outputs": [
    {
     "name": "stderr",
     "output_type": "stream",
     "text": [
      "  0%|          | 653/730966 [00:10<3:18:23, 61.35it/s, c=90, h1=2434, h2=412, t=3910, t2=653]\n"
     ]
    },
    {
     "ename": "KeyboardInterrupt",
     "evalue": "",
     "output_type": "error",
     "traceback": [
      "\u001b[1;31m---------------------------------------------------------------------------\u001b[0m",
      "\u001b[1;31mKeyboardInterrupt\u001b[0m                         Traceback (most recent call last)",
      "Cell \u001b[1;32mIn [204], line 14\u001b[0m\n\u001b[0;32m     11\u001b[0m \u001b[39mwith\u001b[39;00m tqdm(total\u001b[39m=\u001b[39m\u001b[39mlen\u001b[39m(test_user_ids)) \u001b[39mas\u001b[39;00m pbar:\n\u001b[0;32m     12\u001b[0m     \u001b[39mfor\u001b[39;00m test_user \u001b[39min\u001b[39;00m test_user_ids:\n\u001b[0;32m     13\u001b[0m         user_embed \u001b[39m=\u001b[39m model\u001b[39m.\u001b[39muser_embed(torch\u001b[39m.\u001b[39mtensor(test_user)\u001b[39m.\u001b[39mcuda(),\\\n\u001b[1;32m---> 14\u001b[0m             torch\u001b[39m.\u001b[39mtensor(user_feature_t\u001b[39m.\u001b[39mloc[test_user]\u001b[39m.\u001b[39mvalues\u001b[39m.\u001b[39mastype(np\u001b[39m.\u001b[39mfloat32))\u001b[39m.\u001b[39mcuda())\u001b[39m.\u001b[39mdetach()\u001b[39m.\u001b[39mcpu()\u001b[39m.\u001b[39mnumpy()\n\u001b[0;32m     15\u001b[0m         \u001b[39m# user_embed[:] = 0\u001b[39;00m\n\u001b[0;32m     16\u001b[0m         \u001b[39m# sims2 = np.dot(user_embed,np.array(trn_item_embeds).T)\u001b[39;00m\n\u001b[0;32m     17\u001b[0m         \u001b[39m# arts_fetch2 = np.random.choice(trn_item_ids,30000)\u001b[39;00m\n\u001b[0;32m     18\u001b[0m         \u001b[39m# arts_fetch1 = np.array(top_items)[np.argsort(sims2)[-1500:]]\u001b[39;00m\n\u001b[0;32m     19\u001b[0m         \u001b[39m# arts_fetch2 = np.array(top_items)[np.argsort(sims2)[:148500]]\u001b[39;00m\n\u001b[0;32m     20\u001b[0m         sim,idx \u001b[39m=\u001b[39m  index\u001b[39m.\u001b[39msearch(np\u001b[39m.\u001b[39marray([user_embed]),\u001b[39m3000\u001b[39m)\n",
      "\u001b[1;31mKeyboardInterrupt\u001b[0m: "
     ]
    }
   ],
   "source": [
    "# test_user_ids = list(item_trn.user_id.unique())\n",
    "# gt_item = item_trn.groupby(\"user_id\")[\"item_id\"].apply(list)\n",
    "# gt_item2 = item_last[item_last.user_id.isin(test_user_ids)].set_index(\"user_id\")\n",
    "# np.random.shuffle(test_user_ids)\n",
    "user_feature_t = user_feature[fea_cols]\n",
    "count1 =0 \n",
    "count2 = 0\n",
    "total1 = 0\n",
    "total2 = 0\n",
    "check = 0\n",
    "with tqdm(total=len(test_user_ids)) as pbar:\n",
    "    for test_user in test_user_ids:\n",
    "        user_embed = model.user_embed(torch.tensor(test_user).cuda(),\\\n",
    "            torch.tensor(user_feature_t.loc[test_user].values.astype(np.float32)).cuda()).detach().cpu().numpy()\n",
    "        # user_embed[:] = 0\n",
    "        # sims2 = np.dot(user_embed,np.array(trn_item_embeds).T)\n",
    "        # arts_fetch2 = np.random.choice(trn_item_ids,30000)\n",
    "        # arts_fetch1 = np.array(top_items)[np.argsort(sims2)[-1500:]]\n",
    "        # arts_fetch2 = np.array(top_items)[np.argsort(sims2)[:148500]]\n",
    "        sim,idx =  index.search(np.array([user_embed]),3000)\n",
    "\n",
    "        gt_arts = gt_item.loc[test_user]\n",
    "        gt_arts = [item2idx[x] for x in gt_arts]\n",
    "        gt_arts2 = gt_item2.loc[test_user].item_id\n",
    "        gt_arts2 = [item2idx[x] for x in [gt_arts2]]\n",
    "        count1+=len(set(gt_arts).intersection(set(idx[0][:])))\n",
    "        count2+=len(set(gt_arts2).intersection(set(idx[0][:])))\n",
    "        check+=len(set(gt_arts).intersection(set(gt_arts2)))\n",
    "        total1+=len(gt_arts)\n",
    "        total2+=1#len(gt_arts2)\n",
    "        pbar.update(1)\n",
    "        pbar.set_postfix(h1=count1,t=total1,h2=count2,t2=total2,c=check)"
   ]
  },
  {
   "cell_type": "code",
   "execution_count": 135,
   "metadata": {},
   "outputs": [
    {
     "data": {
      "text/plain": [
       "730966"
      ]
     },
     "execution_count": 135,
     "metadata": {},
     "output_type": "execute_result"
    }
   ],
   "source": [
    "len(gt_item.index.unique())"
   ]
  },
  {
   "cell_type": "code",
   "execution_count": 120,
   "metadata": {},
   "outputs": [
    {
     "data": {
      "text/plain": [
       "set()"
      ]
     },
     "execution_count": 120,
     "metadata": {},
     "output_type": "execute_result"
    }
   ],
   "source": [
    "set(test_user_ids).intersection(train_data.user_id.values)"
   ]
  },
  {
   "cell_type": "code",
   "execution_count": 134,
   "metadata": {},
   "outputs": [
    {
     "name": "stderr",
     "output_type": "stream",
     "text": [
      "  0%|          | 772/182741 [00:10<41:26, 73.18it/s, c=100, h1=1387, h2=214, t=5068, t2=772]\n"
     ]
    },
    {
     "ename": "KeyboardInterrupt",
     "evalue": "",
     "output_type": "error",
     "traceback": [
      "\u001b[1;31m---------------------------------------------------------------------------\u001b[0m",
      "\u001b[1;31mKeyboardInterrupt\u001b[0m                         Traceback (most recent call last)",
      "Cell \u001b[1;32mIn [134], line 20\u001b[0m\n\u001b[0;32m     15\u001b[0m user_embed[\u001b[39m32\u001b[39m:] \u001b[39m=\u001b[39m \u001b[39m0\u001b[39m\n\u001b[0;32m     16\u001b[0m \u001b[39m# sims2 = np.dot(user_embed,np.array(trn_item_embeds).T)\u001b[39;00m\n\u001b[0;32m     17\u001b[0m \u001b[39m# arts_fetch2 = np.random.choice(trn_item_ids,30000)\u001b[39;00m\n\u001b[0;32m     18\u001b[0m \u001b[39m# arts_fetch1 = np.array(top_items)[np.argsort(sims2)[-1500:]]\u001b[39;00m\n\u001b[0;32m     19\u001b[0m \u001b[39m# arts_fetch2 = np.array(top_items)[np.argsort(sims2)[:148500]]\u001b[39;00m\n\u001b[1;32m---> 20\u001b[0m sim,idx \u001b[39m=\u001b[39m  index\u001b[39m.\u001b[39msearch(np\u001b[39m.\u001b[39marray([user_embed]),\u001b[39m3000\u001b[39m)\n\u001b[0;32m     22\u001b[0m gt_arts \u001b[39m=\u001b[39m gt_item_val\u001b[39m.\u001b[39mloc[test_user]\n\u001b[0;32m     23\u001b[0m gt_arts \u001b[39m=\u001b[39m [item2idx[x] \u001b[39mfor\u001b[39;00m x \u001b[39min\u001b[39;00m gt_arts]\n",
      "File \u001b[1;32mh:\\Anaconda\\envs\\tt\\lib\\site-packages\\faiss\\class_wrappers.py:343\u001b[0m, in \u001b[0;36mhandle_Index.<locals>.replacement_search\u001b[1;34m(self, x, k, params, D, I)\u001b[0m\n\u001b[0;32m    340\u001b[0m \u001b[39melse\u001b[39;00m:\n\u001b[0;32m    341\u001b[0m     \u001b[39massert\u001b[39;00m I\u001b[39m.\u001b[39mshape \u001b[39m==\u001b[39m (n, k)\n\u001b[1;32m--> 343\u001b[0m \u001b[39mself\u001b[39;49m\u001b[39m.\u001b[39;49msearch_c(n, swig_ptr(x), k, swig_ptr(D), swig_ptr(I), params)\n\u001b[0;32m    344\u001b[0m \u001b[39mreturn\u001b[39;00m D, I\n",
      "File \u001b[1;32mh:\\Anaconda\\envs\\tt\\lib\\site-packages\\faiss\\swigfaiss_avx2.py:2261\u001b[0m, in \u001b[0;36mIndexFlat.search\u001b[1;34m(self, n, x, k, distances, labels, params)\u001b[0m\n\u001b[0;32m   2260\u001b[0m \u001b[39mdef\u001b[39;00m \u001b[39msearch\u001b[39m(\u001b[39mself\u001b[39m, n, x, k, distances, labels, params\u001b[39m=\u001b[39m\u001b[39mNone\u001b[39;00m):\n\u001b[1;32m-> 2261\u001b[0m     \u001b[39mreturn\u001b[39;00m _swigfaiss_avx2\u001b[39m.\u001b[39;49mIndexFlat_search(\u001b[39mself\u001b[39;49m, n, x, k, distances, labels, params)\n",
      "\u001b[1;31mKeyboardInterrupt\u001b[0m: "
     ]
    }
   ],
   "source": [
    "# gt_item_val = item_val.groupby(\"user_id\")[\"item_id\"].apply(list)\n",
    "# gt_item_val2 = item_last[item_last.user_id.isin(test_user_ids_val)].set_index(\"user_id\")\n",
    "# np.random.shuffle(test_user_ids_val)\n",
    "# user_feature_t = user_feature[fea_cols]\n",
    "count1 =0 \n",
    "count2 = 0\n",
    "total1 = 0\n",
    "total2 = 0\n",
    "check = 0\n",
    "with tqdm(total=len(test_user_ids_val)) as pbar:\n",
    "    for test_user in test_user_ids_val:\n",
    "        user_embed = model.user_embed(torch.tensor(test_user).cuda(),\\\n",
    "            torch.tensor(user_feature_t.loc[test_user].values.astype(np.float32)).cuda()).detach().cpu().numpy()\n",
    "\n",
    "        user_embed[32:] = 0\n",
    "        # sims2 = np.dot(user_embed,np.array(trn_item_embeds).T)\n",
    "        # arts_fetch2 = np.random.choice(trn_item_ids,30000)\n",
    "        # arts_fetch1 = np.array(top_items)[np.argsort(sims2)[-1500:]]\n",
    "        # arts_fetch2 = np.array(top_items)[np.argsort(sims2)[:148500]]\n",
    "        sim,idx =  index.search(np.array([user_embed]),3000)\n",
    "        \n",
    "        gt_arts = gt_item_val.loc[test_user]\n",
    "        gt_arts = [item2idx[x] for x in gt_arts]\n",
    "        gt_arts2 = gt_item_val2.loc[test_user].item_id\n",
    "        gt_arts2 = [item2idx[x] for x in [gt_arts2]]\n",
    "        count1+=len(set(gt_arts).intersection(set(idx[0])))\n",
    "        count2+=len(set(gt_arts2).intersection(set(idx[0])))\n",
    "        check+=len(set(gt_arts).intersection(set(gt_arts2)))\n",
    "        total1+=len(gt_arts)\n",
    "        total2+=1#len(gt_arts2)\n",
    "        pbar.update(1)\n",
    "        pbar.set_postfix(h1=count1,t=total1,h2=count2,t2=total2,c=check)"
   ]
  },
  {
   "cell_type": "code",
   "execution_count": 69,
   "metadata": {},
   "outputs": [
    {
     "name": "stderr",
     "output_type": "stream",
     "text": [
      "  0%|          | 819/182741 [00:10<39:10, 77.39it/s, c=105, h1=494, h2=112, t=5349, t2=819]\n"
     ]
    },
    {
     "ename": "KeyboardInterrupt",
     "evalue": "",
     "output_type": "error",
     "traceback": [
      "\u001b[1;31m---------------------------------------------------------------------------\u001b[0m",
      "\u001b[1;31mKeyboardInterrupt\u001b[0m                         Traceback (most recent call last)",
      "Cell \u001b[1;32mIn [69], line 14\u001b[0m\n\u001b[0;32m     11\u001b[0m \u001b[39mwith\u001b[39;00m tqdm(total\u001b[39m=\u001b[39m\u001b[39mlen\u001b[39m(test_user_ids_val)) \u001b[39mas\u001b[39;00m pbar:\n\u001b[0;32m     12\u001b[0m     \u001b[39mfor\u001b[39;00m test_user \u001b[39min\u001b[39;00m test_user_ids_val:\n\u001b[0;32m     13\u001b[0m         user_embed \u001b[39m=\u001b[39m model\u001b[39m.\u001b[39muser_embed(torch\u001b[39m.\u001b[39mtensor(test_user)\u001b[39m.\u001b[39mcuda(),\\\n\u001b[1;32m---> 14\u001b[0m             torch\u001b[39m.\u001b[39mtensor(user_feature_t\u001b[39m.\u001b[39mloc[test_user]\u001b[39m.\u001b[39mvalues\u001b[39m.\u001b[39mastype(np\u001b[39m.\u001b[39mfloat32))\u001b[39m.\u001b[39mcuda())\u001b[39m.\u001b[39mdetach()\u001b[39m.\u001b[39mcpu()\u001b[39m.\u001b[39mnumpy()\n\u001b[0;32m     15\u001b[0m         \u001b[39m# user_embed = model.user_embed(torch.tensor(1300000).cuda(),\\\u001b[39;00m\n\u001b[0;32m     16\u001b[0m         \u001b[39m#     torch.tensor(np.ones([num_fea]).astype(np.float32)).cuda()).detach().cpu().numpy()\u001b[39;00m\n\u001b[0;32m     17\u001b[0m         \u001b[39m# user_embed[32:]=0\u001b[39;00m\n\u001b[1;32m   (...)\u001b[0m\n\u001b[0;32m     20\u001b[0m         \u001b[39m# arts_fetch1 = np.array(top_items)[np.argsort(sims2)[-1500:]]\u001b[39;00m\n\u001b[0;32m     21\u001b[0m         \u001b[39m# arts_fetch2 = np.array(top_items)[np.argsort(sims2)[:148500]]\u001b[39;00m\n\u001b[0;32m     22\u001b[0m         sim,idx \u001b[39m=\u001b[39m  index\u001b[39m.\u001b[39msearch(np\u001b[39m.\u001b[39marray([user_embed]),\u001b[39m75\u001b[39m)\n",
      "\u001b[1;31mKeyboardInterrupt\u001b[0m: "
     ]
    }
   ],
   "source": [
    "# test_user_ids_val = list(item_val.user_id.unique())\n",
    "# gt_item_val = item_val.groupby(\"user_id\")[\"item_id\"].apply(list)\n",
    "# gt_item_val2 = item_last[item_last.user_id.isin(test_user_ids_val)].set_index(\"user_id\")\n",
    "# np.random.shuffle(test_user_ids_val)\n",
    "user_feature_t = user_feature[fea_cols]\n",
    "count1 =0 \n",
    "count2 = 0\n",
    "total1 = 0\n",
    "total2 = 0\n",
    "check = 0\n",
    "with tqdm(total=len(test_user_ids_val)) as pbar:\n",
    "    for test_user in test_user_ids_val:\n",
    "        user_embed = model.user_embed(torch.tensor(test_user).cuda(),\\\n",
    "            torch.tensor(user_feature_t.loc[test_user].values.astype(np.float32)).cuda()).detach().cpu().numpy()\n",
    "        # user_embed = model.user_embed(torch.tensor(1300000).cuda(),\\\n",
    "        #     torch.tensor(np.ones([num_fea]).astype(np.float32)).cuda()).detach().cpu().numpy()\n",
    "        # user_embed[32:]=0\n",
    "        # sims2 = np.dot(user_embed,np.array(trn_item_embeds).T)\n",
    "        # arts_fetch2 = np.random.choice(trn_item_ids,30000)\n",
    "        # arts_fetch1 = np.array(top_items)[np.argsort(sims2)[-1500:]]\n",
    "        # arts_fetch2 = np.array(top_items)[np.argsort(sims2)[:148500]]\n",
    "        sim,idx =  index.search(np.array([user_embed]),75)\n",
    "        \n",
    "        gt_arts = gt_item_val.loc[test_user]\n",
    "        gt_arts = [item2idx[x] for x in gt_arts]\n",
    "        gt_arts2 = gt_item_val2.loc[test_user].item_id\n",
    "        gt_arts2 = [item2idx[x] for x in [gt_arts2]]\n",
    "        count1+=len(set(gt_arts).intersection(set(idx[0])))\n",
    "        count2+=len(set(gt_arts2).intersection(set(idx[0])))\n",
    "        check+=len(set(gt_arts).intersection(set(gt_arts2)))\n",
    "        total1+=len(gt_arts)\n",
    "        total2+=1#len(gt_arts2)\n",
    "        pbar.update(1)\n",
    "        pbar.set_postfix(h1=count1,t=total1,h2=count2,t2=total2,c=check)"
   ]
  },
  {
   "cell_type": "code",
   "execution_count": 70,
   "metadata": {},
   "outputs": [
    {
     "data": {
      "text/plain": [
       "array([-0.88718164,  2.5703428 , -5.1009116 , -0.22926289, -1.3572013 ,\n",
       "       -5.089199  ,  2.1503918 , -3.2485995 , -1.8210777 ,  2.3471398 ,\n",
       "       -0.3205343 ,  1.872113  ,  4.842472  , -1.8419566 ,  0.08358112,\n",
       "        2.7726512 ,  0.55332446, -1.6370053 , -5.521165  , -5.712897  ,\n",
       "       -5.5914035 ,  3.4464967 , -1.0202622 , -6.0686846 ,  0.44085923,\n",
       "        2.9671547 ,  0.76929575,  0.72559875,  1.8588591 ,  4.3710546 ,\n",
       "       -1.189645  ,  0.1610449 ,  1.475866  ,  1.2095798 , -0.21995635,\n",
       "        0.9593642 , -0.515788  ,  0.480631  ,  0.6215424 , -0.99999833,\n",
       "       -0.7969965 ,  0.22732386,  0.38497117, -0.19358094, -0.83543867,\n",
       "       -0.1885616 , -0.13287397, -0.351429  ,  1.2515988 , -0.05039941,\n",
       "       -0.4200672 ,  1.1098335 ,  0.68658584, -0.8058521 , -0.8579219 ,\n",
       "        0.03770611, -1.0487317 , -0.48281243, -0.41328782, -0.38665026,\n",
       "       -1.1660242 ,  0.55318165, -0.6177625 ,  0.49004832], dtype=float32)"
      ]
     },
     "execution_count": 70,
     "metadata": {},
     "output_type": "execute_result"
    }
   ],
   "source": [
    "user_embed"
   ]
  },
  {
   "cell_type": "code",
   "execution_count": 63,
   "metadata": {},
   "outputs": [
    {
     "data": {
      "text/plain": [
       "1784"
      ]
     },
     "execution_count": 63,
     "metadata": {},
     "output_type": "execute_result"
    }
   ],
   "source": [
    "item.user_id.value_counts().loc[657726]"
   ]
  },
  {
   "cell_type": "code",
   "execution_count": 43,
   "metadata": {},
   "outputs": [
    {
     "data": {
      "text/plain": [
       "(64,)"
      ]
     },
     "execution_count": 43,
     "metadata": {},
     "output_type": "execute_result"
    }
   ],
   "source": [
    "user_embed.shape"
   ]
  },
  {
   "cell_type": "code",
   "execution_count": 162,
   "metadata": {},
   "outputs": [
    {
     "data": {
      "text/plain": [
       "array([0., 0., 0., 0., 0., 0., 0., 0., 0., 0., 0., 0., 0., 0., 0., 0., 0.,\n",
       "       0., 0., 0., 0., 0., 0., 0., 0., 0., 0., 0., 0., 0., 0., 0., 0., 0.,\n",
       "       0., 0., 0., 0., 0., 0., 0., 0., 0., 0., 0., 0., 0., 0., 0., 0., 0.,\n",
       "       0., 0., 0., 0., 0., 0., 0., 0., 0., 0., 0., 0., 0.], dtype=float32)"
      ]
     },
     "execution_count": 162,
     "metadata": {},
     "output_type": "execute_result"
    }
   ],
   "source": [
    "user_embed"
   ]
  },
  {
   "cell_type": "code",
   "execution_count": 138,
   "metadata": {},
   "outputs": [
    {
     "data": {
      "text/plain": [
       "182741"
      ]
     },
     "execution_count": 138,
     "metadata": {},
     "output_type": "execute_result"
    }
   ],
   "source": [
    "len(gt_item_val.index.unique())"
   ]
  },
  {
   "cell_type": "code",
   "execution_count": 100,
   "metadata": {},
   "outputs": [
    {
     "data": {
      "text/plain": [
       "{'0', '1', '4', '5', '8', 'I'}"
      ]
     },
     "execution_count": 100,
     "metadata": {},
     "output_type": "execute_result"
    }
   ],
   "source": [
    "set(gt_arts2)"
   ]
  },
  {
   "cell_type": "code",
   "execution_count": 287,
   "metadata": {},
   "outputs": [
    {
     "data": {
      "text/plain": [
       "array([-0.00205872,  0.01067198,  0.00442559,  0.00387845, -0.00243466,\n",
       "       -0.00018402,  0.00366135, -0.00064728,  0.00664593, -0.00826498,\n",
       "        0.00831544,  0.00995937,  0.00281455, -0.00441395,  0.00028359,\n",
       "       -0.00266338, -0.00372765, -0.00231449, -0.00027135, -0.00983913,\n",
       "        0.00378682, -0.00506463,  0.00596974,  0.00934513, -0.00212543,\n",
       "       -0.00384673,  0.00536456,  0.00757025, -0.0020385 , -0.00775156,\n",
       "        0.00721003,  0.00400864,  0.00114823, -0.00374699, -0.0127686 ,\n",
       "       -0.00113352, -0.00088708,  0.0096148 ,  0.01219288,  0.00373809,\n",
       "       -0.00394224,  0.00305708, -0.00365596, -0.00378627, -0.00196633,\n",
       "        0.00321073,  0.01195292, -0.00072244, -0.00443617, -0.00162997,\n",
       "       -0.00321434, -0.01534081,  0.01623973,  0.00530946,  0.00361922,\n",
       "        0.00076687, -0.00397851,  0.0058771 ,  0.00251416, -0.00709711,\n",
       "        0.01413247,  0.00443728, -0.00552901, -0.00657055], dtype=float32)"
      ]
     },
     "execution_count": 287,
     "metadata": {},
     "output_type": "execute_result"
    }
   ],
   "source": [
    "trn_item_embeds[25300]"
   ]
  },
  {
   "cell_type": "code",
   "execution_count": 266,
   "metadata": {},
   "outputs": [
    {
     "data": {
      "text/plain": [
       "25300"
      ]
     },
     "execution_count": 266,
     "metadata": {},
     "output_type": "execute_result"
    }
   ],
   "source": [
    "max(np.array(top_items)[np.argsort(sims2)[-1500:]])"
   ]
  },
  {
   "cell_type": "code",
   "execution_count": 260,
   "metadata": {},
   "outputs": [
    {
     "data": {
      "text/plain": [
       "array([ 4301, 12498,  3350, ...,    86,   862,   357])"
      ]
     },
     "execution_count": 260,
     "metadata": {},
     "output_type": "execute_result"
    }
   ],
   "source": [
    "np.array(top_items)[np.argsort(sims2)[-1500:]]+1"
   ]
  },
  {
   "cell_type": "code",
   "execution_count": null,
   "metadata": {},
   "outputs": [
    {
     "data": {
      "text/plain": [
       "50000"
      ]
     },
     "execution_count": 473,
     "metadata": {},
     "output_type": "execute_result"
    }
   ],
   "source": [
    "len(trn_item_embeds)"
   ]
  },
  {
   "cell_type": "code",
   "execution_count": 264,
   "metadata": {},
   "outputs": [
    {
     "data": {
      "text/plain": [
       "150000"
      ]
     },
     "execution_count": 264,
     "metadata": {},
     "output_type": "execute_result"
    }
   ],
   "source": [
    "len(sims2)"
   ]
  },
  {
   "cell_type": "code",
   "execution_count": null,
   "metadata": {},
   "outputs": [
    {
     "data": {
      "text/plain": [
       "(328823, 100)"
      ]
     },
     "metadata": {},
     "output_type": "display_data"
    }
   ],
   "source": [
    "len(item_embed_val),len(item_embed_val[0])"
   ]
  },
  {
   "cell_type": "code",
   "execution_count": null,
   "metadata": {},
   "outputs": [],
   "source": [
    "item_hist_val_idx = item_hist_val.groupby(\"user_id\")[\"item_id\"].apply(list)"
   ]
  },
  {
   "cell_type": "code",
   "execution_count": null,
   "metadata": {},
   "outputs": [
    {
     "data": {
      "text/plain": [
       "182741"
      ]
     },
     "metadata": {},
     "output_type": "display_data"
    }
   ],
   "source": [
    "val_user_id = item_hist_val.user_id.unique()\n",
    "len(val_user_id)\n"
   ]
  },
  {
   "cell_type": "code",
   "execution_count": null,
   "metadata": {},
   "outputs": [
    {
     "data": {
      "text/plain": [
       "(182741, 986)"
      ]
     },
     "metadata": {},
     "output_type": "display_data"
    }
   ],
   "source": [
    "user_feature_val = user_feature.loc[val_user_id]\n",
    "user_feature_val.shape"
   ]
  },
  {
   "cell_type": "code",
   "execution_count": null,
   "metadata": {},
   "outputs": [
    {
     "data": {
      "text/plain": [
       "50000"
      ]
     },
     "execution_count": 457,
     "metadata": {},
     "output_type": "execute_result"
    }
   ],
   "source": [
    "train_data.item_id.nunique()"
   ]
  },
  {
   "cell_type": "code",
   "execution_count": null,
   "metadata": {},
   "outputs": [
    {
     "name": "stderr",
     "output_type": "stream",
     "text": [
      "100%|██████████| 2856/2856 [00:17<00:00, 162.46it/s]\n"
     ]
    }
   ],
   "source": [
    "user_embed_val = []\n",
    "\n",
    "\n",
    "for ii in tqdm(range(0,user_feature_val.shape[0],64)):\n",
    "    user_feature_t = user_feature_val.iloc[ii:ii+64].values\n",
    "    # user_feature_t = np.zeros([128,986])\n",
    "    user_feature_t = user_feature_t.astype(np.float32)\n",
    "    # print(user_feature_t.shape)\n",
    "    user_embed = model.user_embed(torch.tensor(user_feature_t).cuda())\n",
    "    user_embed = user_embed.detach().cpu().numpy()\n",
    "#     print(user_embed.shape)\n",
    "    user_embed_val.extend(user_embed)\n"
   ]
  },
  {
   "cell_type": "code",
   "execution_count": null,
   "metadata": {},
   "outputs": [
    {
     "data": {
      "text/plain": [
       "(182741,\n",
       " (100,),\n",
       " array([nan, nan, nan, nan, nan, nan, nan, nan, nan, nan, nan, nan, nan,\n",
       "        nan, nan, nan, nan, nan, nan, nan, nan, nan, nan, nan, nan, nan,\n",
       "        nan, nan, nan, nan, nan, nan, nan, nan, nan, nan, nan, nan, nan,\n",
       "        nan, nan, nan, nan, nan, nan, nan, nan, nan, nan, nan, nan, nan,\n",
       "        nan, nan, nan, nan, nan, nan, nan, nan, nan, nan, nan, nan, nan,\n",
       "        nan, nan, nan, nan, nan, nan, nan, nan, nan, nan, nan, nan, nan,\n",
       "        nan, nan, nan, nan, nan, nan, nan, nan, nan, nan, nan, nan, nan,\n",
       "        nan, nan, nan, nan, nan, nan, nan, nan, nan], dtype=float32))"
      ]
     },
     "metadata": {},
     "output_type": "display_data"
    }
   ],
   "source": [
    "len(user_embed_val), user_embed_val[182740].shape,user_embed_val[0]"
   ]
  },
  {
   "cell_type": "code",
   "execution_count": null,
   "metadata": {},
   "outputs": [
    {
     "ename": "NameError",
     "evalue": "name 'factor_num' is not defined",
     "output_type": "error",
     "traceback": [
      "\u001b[1;31m---------------------------------------------------------------------------\u001b[0m\n",
      "\u001b[1;31mNameError\u001b[0m                                 Traceback (most recent call last)\n",
      "Cell \u001b[1;32mIn [1], line 2\u001b[0m\n",
      "\u001b[0;32m      1\u001b[0m \u001b[39mimport\u001b[39;00m \u001b[39mfaiss\u001b[39;00m\n",
      "\u001b[1;32m----> 2\u001b[0m index \u001b[39m=\u001b[39m faiss\u001b[39m.\u001b[39mIndexFlatIP(factor_num)\n",
      "\u001b[0;32m      3\u001b[0m index\u001b[39m.\u001b[39madd(item_embed_val)\n",
      "\n",
      "\u001b[1;31mNameError\u001b[0m: name 'factor_num' is not defined"
     ]
    }
   ],
   "source": [
    "import faiss\n",
    "index = faiss.IndexFlatIP(factor_num)\n",
    "index.add(item_embed_val)"
   ]
  }
 ],
 "metadata": {
  "kernelspec": {
   "display_name": "Python 3",
   "language": "python",
   "name": "python3"
  },
  "language_info": {
   "codemirror_mode": {
    "name": "ipython",
    "version": 3
   },
   "file_extension": ".py",
   "mimetype": "text/x-python",
   "name": "python",
   "nbconvert_exporter": "python",
   "pygments_lexer": "ipython3",
   "version": "3.10.6"
  },
  "orig_nbformat": 4,
  "vscode": {
   "interpreter": {
    "hash": "68eae4f3e7f55890dc732af53cfdd1bb6aef18f4a2f4f781c707b84e0af1643c"
   }
  }
 },
 "nbformat": 4,
 "nbformat_minor": 2
}
